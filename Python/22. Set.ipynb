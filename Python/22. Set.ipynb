{
 "cells": [
  {
   "cell_type": "markdown",
   "id": "902d16a3-5b53-4390-a77e-47f9a4467caa",
   "metadata": {},
   "source": [
    "# Set"
   ]
  },
  {
   "cell_type": "markdown",
   "id": "0f12dbc3-8cd6-4ffe-9bcc-ec4796243f62",
   "metadata": {},
   "source": [
    "Setleri kümeler olarak düşünebiliriz."
   ]
  },
  {
   "cell_type": "markdown",
   "id": "61665ed4-f960-443d-8671-1b0916b86923",
   "metadata": {},
   "source": [
    "Sadece özgün değerleri tutan, içerisinde bir eleman var mı yok mu, başka bir setle hangi elemanları farklı gibi işlemleri performanslı bir şekilde yapabileceğimiz bir veri yapısıdır.\n",
    "\n",
    "\n",
    "Dictionary'ler gibi eleman sorgusu yapmak hızlıdır. Dictionarylerde key-value çift olarak bulunduğu için aynı uzunluktaki bir setten daha fazla yer kaplar.\n",
    "\n",
    "\n",
    "Setler indexlenemez.\n",
    "\n",
    "\n",
    "Setler mutable'dır.\n"
   ]
  },
  {
   "cell_type": "markdown",
   "id": "2e41b304-ac78-4a85-8f6c-0410293cb451",
   "metadata": {},
   "source": [
    "## Set yaratma"
   ]
  },
  {
   "cell_type": "code",
   "execution_count": 2,
   "id": "3f02564a-0e85-488e-b185-4906dae5a3bf",
   "metadata": {},
   "outputs": [],
   "source": [
    "s = {1,2,3,4,5}"
   ]
  },
  {
   "cell_type": "code",
   "execution_count": 3,
   "id": "3fc65a72-9e12-49d6-bf62-d83cd10536f5",
   "metadata": {},
   "outputs": [
    {
     "data": {
      "text/plain": [
       "{1, 2, 3, 4, 5}"
      ]
     },
     "execution_count": 3,
     "metadata": {},
     "output_type": "execute_result"
    }
   ],
   "source": [
    "s"
   ]
  },
  {
   "cell_type": "code",
   "execution_count": 4,
   "id": "b887ea96-f63e-4a5a-874f-d4ab5d8d126d",
   "metadata": {},
   "outputs": [],
   "source": [
    "s2 = {1,2,2,2,1,4,5,6}"
   ]
  },
  {
   "cell_type": "code",
   "execution_count": 5,
   "id": "e49f505e-2909-4227-a8d1-d514dc12e1a8",
   "metadata": {},
   "outputs": [
    {
     "data": {
      "text/plain": [
       "{1, 2, 4, 5, 6}"
      ]
     },
     "execution_count": 5,
     "metadata": {},
     "output_type": "execute_result"
    }
   ],
   "source": [
    "s2"
   ]
  },
  {
   "cell_type": "markdown",
   "id": "c00a3d4e-a98e-47e2-aa83-67365a392ffe",
   "metadata": {},
   "source": [
    "## Boş set yaratma:"
   ]
  },
  {
   "cell_type": "code",
   "execution_count": 6,
   "id": "bd25ebfd-b096-471e-ae13-5e867cd74a26",
   "metadata": {},
   "outputs": [],
   "source": [
    "a = {}"
   ]
  },
  {
   "cell_type": "code",
   "execution_count": 7,
   "id": "6aad04e5-4af9-4d1e-85ba-f3e9e40d688a",
   "metadata": {},
   "outputs": [
    {
     "data": {
      "text/plain": [
       "dict"
      ]
     },
     "execution_count": 7,
     "metadata": {},
     "output_type": "execute_result"
    }
   ],
   "source": [
    "type(a)"
   ]
  },
  {
   "cell_type": "code",
   "execution_count": 8,
   "id": "b0522031-6304-44f3-acc6-56d9b53ef860",
   "metadata": {},
   "outputs": [],
   "source": [
    "s = set()"
   ]
  },
  {
   "cell_type": "code",
   "execution_count": 9,
   "id": "89404d7f-9290-45a6-b490-6a9acd7f3451",
   "metadata": {},
   "outputs": [
    {
     "data": {
      "text/plain": [
       "set()"
      ]
     },
     "execution_count": 9,
     "metadata": {},
     "output_type": "execute_result"
    }
   ],
   "source": [
    "s"
   ]
  },
  {
   "cell_type": "code",
   "execution_count": 11,
   "id": "90152db7-7bd6-4a47-81e5-48bef7399344",
   "metadata": {},
   "outputs": [],
   "source": [
    "l = [1,2,3,4]"
   ]
  },
  {
   "cell_type": "code",
   "execution_count": 12,
   "id": "2ba0c34b-963c-482a-9e2d-e48758b59ddc",
   "metadata": {},
   "outputs": [],
   "source": [
    "s = set(l)"
   ]
  },
  {
   "cell_type": "code",
   "execution_count": 13,
   "id": "67cfd49e-76a9-4590-9eb8-03c7ee4a1096",
   "metadata": {},
   "outputs": [
    {
     "data": {
      "text/plain": [
       "{1, 2, 3, 4}"
      ]
     },
     "execution_count": 13,
     "metadata": {},
     "output_type": "execute_result"
    }
   ],
   "source": [
    "s"
   ]
  },
  {
   "cell_type": "code",
   "execution_count": 14,
   "id": "e05c3367-0c9a-4efd-9e87-339802ae91ac",
   "metadata": {},
   "outputs": [],
   "source": [
    "l = [1,2,3,4,1,2]"
   ]
  },
  {
   "cell_type": "code",
   "execution_count": 15,
   "id": "b18adbe0-cf39-463b-882f-bfb275d6b3b4",
   "metadata": {},
   "outputs": [
    {
     "data": {
      "text/plain": [
       "{1, 2, 3, 4}"
      ]
     },
     "execution_count": 15,
     "metadata": {},
     "output_type": "execute_result"
    }
   ],
   "source": [
    "set(l)"
   ]
  },
  {
   "cell_type": "code",
   "execution_count": 17,
   "id": "04c045ec-5602-4ab0-88bf-14c02a9c7995",
   "metadata": {},
   "outputs": [
    {
     "data": {
      "text/plain": [
       "dict"
      ]
     },
     "execution_count": 17,
     "metadata": {},
     "output_type": "execute_result"
    }
   ],
   "source": [
    "# Boş bir seti {} ile yaratamayız,\n",
    "# çünkü bu boş bir dictionary yaratmak için ayrılmış\n",
    "s = {}\n",
    "\n",
    "type(s)"
   ]
  },
  {
   "cell_type": "markdown",
   "id": "c206e6a2-d722-4644-b437-07a8d0b4a5ab",
   "metadata": {},
   "source": [
    "## Setler Sadece Özgün Değerlerden Oluşur"
   ]
  },
  {
   "cell_type": "markdown",
   "id": "8f552f51-89e7-4c70-aeda-993054afec3a",
   "metadata": {},
   "source": [
    "Setin içinde bir elemanı birden çok göremezsiniz."
   ]
  },
  {
   "cell_type": "code",
   "execution_count": 19,
   "id": "7d30fb72-a43a-4a9b-9158-ded418249fca",
   "metadata": {},
   "outputs": [],
   "source": [
    "l = [1,2,3,4,1,2]"
   ]
  },
  {
   "cell_type": "code",
   "execution_count": 20,
   "id": "55a73396-d24f-4c69-bd49-a565ff6d1519",
   "metadata": {},
   "outputs": [],
   "source": [
    "s=set(l)"
   ]
  },
  {
   "cell_type": "code",
   "execution_count": 21,
   "id": "c87438f1-c03b-4eb6-a957-0dd9c1ffc2ce",
   "metadata": {},
   "outputs": [
    {
     "data": {
      "text/plain": [
       "{1, 2, 3, 4}"
      ]
     },
     "execution_count": 21,
     "metadata": {},
     "output_type": "execute_result"
    }
   ],
   "source": [
    "s"
   ]
  },
  {
   "cell_type": "code",
   "execution_count": 22,
   "id": "6fa16ff6-bae5-4a9b-9877-766d8b0e3cac",
   "metadata": {},
   "outputs": [],
   "source": [
    "t = (1,2,3,4,1)"
   ]
  },
  {
   "cell_type": "code",
   "execution_count": 23,
   "id": "a0aad551-1d2f-4eff-be82-5561da1ea9d6",
   "metadata": {},
   "outputs": [],
   "source": [
    "s = set(t)"
   ]
  },
  {
   "cell_type": "code",
   "execution_count": 24,
   "id": "69da8dc4-267e-4dc5-93a5-d4cb641c6826",
   "metadata": {},
   "outputs": [
    {
     "data": {
      "text/plain": [
       "{1, 2, 3, 4}"
      ]
     },
     "execution_count": 24,
     "metadata": {},
     "output_type": "execute_result"
    }
   ],
   "source": [
    "s"
   ]
  },
  {
   "cell_type": "code",
   "execution_count": 25,
   "id": "04c3c51d-0521-498c-8330-08ee3d86ac08",
   "metadata": {},
   "outputs": [],
   "source": [
    "message = \"Merhaba, orda mısın?\""
   ]
  },
  {
   "cell_type": "code",
   "execution_count": 26,
   "id": "3d592da5-90a3-4532-bd43-948297f5f60d",
   "metadata": {},
   "outputs": [],
   "source": [
    "# Strinleri kullanarak da set oluşturabiliriz.\n",
    "s = set(message)"
   ]
  },
  {
   "cell_type": "code",
   "execution_count": 27,
   "id": "f1c28399-a3d6-40d3-b86f-dc1fce944171",
   "metadata": {},
   "outputs": [
    {
     "data": {
      "text/plain": [
       "{' ', ',', '?', 'M', 'a', 'b', 'd', 'e', 'h', 'm', 'n', 'o', 'r', 's', 'ı'}"
      ]
     },
     "execution_count": 27,
     "metadata": {},
     "output_type": "execute_result"
    }
   ],
   "source": [
    "# \" \" (boşluk) karakterini de sayıyor.\n",
    "# setler sıralı değildir.\n",
    "s"
   ]
  },
  {
   "cell_type": "markdown",
   "id": "e01f3da5-6ea7-4152-af79-53120f10f7df",
   "metadata": {},
   "source": [
    "## len()"
   ]
  },
  {
   "cell_type": "code",
   "execution_count": 28,
   "id": "b5d26651-e306-4bca-8c7c-173e92aa32cd",
   "metadata": {},
   "outputs": [],
   "source": [
    "s = set([1,2,3,4,5])"
   ]
  },
  {
   "cell_type": "code",
   "execution_count": 29,
   "id": "660e8f04-70e9-492f-8ce2-e701e0f7bb5b",
   "metadata": {},
   "outputs": [
    {
     "data": {
      "text/plain": [
       "{1, 2, 3, 4, 5}"
      ]
     },
     "execution_count": 29,
     "metadata": {},
     "output_type": "execute_result"
    }
   ],
   "source": [
    "s"
   ]
  },
  {
   "cell_type": "code",
   "execution_count": 30,
   "id": "8ab74c97-fb3a-4000-98cf-dde0d23dec8f",
   "metadata": {},
   "outputs": [
    {
     "data": {
      "text/plain": [
       "5"
      ]
     },
     "execution_count": 30,
     "metadata": {},
     "output_type": "execute_result"
    }
   ],
   "source": [
    "len(s)"
   ]
  },
  {
   "cell_type": "code",
   "execution_count": 31,
   "id": "37d73613-6ebb-4d35-8a79-e340cb798b3b",
   "metadata": {},
   "outputs": [],
   "source": [
    "t = (1,2,3,3,2)"
   ]
  },
  {
   "cell_type": "code",
   "execution_count": 32,
   "id": "556fa838-ffb0-48f9-9d80-64425dab6c44",
   "metadata": {},
   "outputs": [
    {
     "data": {
      "text/plain": [
       "{1, 2, 3}"
      ]
     },
     "execution_count": 32,
     "metadata": {},
     "output_type": "execute_result"
    }
   ],
   "source": [
    "set(t)"
   ]
  },
  {
   "cell_type": "code",
   "execution_count": 33,
   "id": "4bd01905-7dd8-4039-853b-931ae7e028ff",
   "metadata": {},
   "outputs": [
    {
     "data": {
      "text/plain": [
       "3"
      ]
     },
     "execution_count": 33,
     "metadata": {},
     "output_type": "execute_result"
    }
   ],
   "source": [
    "len(set(t))"
   ]
  },
  {
   "cell_type": "markdown",
   "id": "2f103ee7-0c73-4641-b6a8-a0c306e2db9c",
   "metadata": {},
   "source": [
    "## Setler Indexlenemez"
   ]
  },
  {
   "cell_type": "code",
   "execution_count": 34,
   "id": "eb761c61-5265-46cc-8559-298a62f2e099",
   "metadata": {},
   "outputs": [
    {
     "data": {
      "text/plain": [
       "{1, 2, 3, 4, 5}"
      ]
     },
     "execution_count": 34,
     "metadata": {},
     "output_type": "execute_result"
    }
   ],
   "source": [
    "s"
   ]
  },
  {
   "cell_type": "code",
   "execution_count": 35,
   "id": "c84fbeb2-b755-42af-a90e-e9acc4afeb17",
   "metadata": {},
   "outputs": [
    {
     "ename": "TypeError",
     "evalue": "'set' object is not subscriptable",
     "output_type": "error",
     "traceback": [
      "\u001b[1;31m---------------------------------------------------------------------------\u001b[0m",
      "\u001b[1;31mTypeError\u001b[0m                                 Traceback (most recent call last)",
      "Cell \u001b[1;32mIn[35], line 1\u001b[0m\n\u001b[1;32m----> 1\u001b[0m s[\u001b[38;5;241m0\u001b[39m]\n",
      "\u001b[1;31mTypeError\u001b[0m: 'set' object is not subscriptable"
     ]
    }
   ],
   "source": [
    "s[0]"
   ]
  },
  {
   "cell_type": "markdown",
   "id": "7ac27add-f0f8-4895-8665-9e997c3ada23",
   "metadata": {},
   "source": [
    "## Set'e Eleman Ekleme"
   ]
  },
  {
   "cell_type": "code",
   "execution_count": 36,
   "id": "ed8ae80b-9dc9-4408-a042-063a6c5df0d9",
   "metadata": {},
   "outputs": [],
   "source": [
    "s = {1, 2, 3, 4, 5}"
   ]
  },
  {
   "cell_type": "code",
   "execution_count": 37,
   "id": "8e17739e-addc-4f98-8767-11513d1f70d4",
   "metadata": {},
   "outputs": [],
   "source": [
    "s.add(6)"
   ]
  },
  {
   "cell_type": "code",
   "execution_count": 38,
   "id": "74ee0bf2-dfb0-4193-b2ef-14bed38fcebe",
   "metadata": {},
   "outputs": [
    {
     "data": {
      "text/plain": [
       "{1, 2, 3, 4, 5, 6}"
      ]
     },
     "execution_count": 38,
     "metadata": {},
     "output_type": "execute_result"
    }
   ],
   "source": [
    "s"
   ]
  },
  {
   "cell_type": "code",
   "execution_count": 40,
   "id": "d587bebe-38e4-49ed-8941-4e47f46767c1",
   "metadata": {},
   "outputs": [],
   "source": [
    "# Bu kod bir error vermeyecek, \n",
    "# ama 5 zaten sette olduğu için eklemeyecek de\n",
    "s.add(5)"
   ]
  },
  {
   "cell_type": "code",
   "execution_count": 41,
   "id": "a06ad831-bc80-4c53-b38a-af347e60f732",
   "metadata": {},
   "outputs": [
    {
     "data": {
      "text/plain": [
       "{1, 2, 3, 4, 5, 6}"
      ]
     },
     "execution_count": 41,
     "metadata": {},
     "output_type": "execute_result"
    }
   ],
   "source": [
    "s"
   ]
  },
  {
   "cell_type": "markdown",
   "id": "ca551934-d6b9-4ae3-971c-e98f7936d32c",
   "metadata": {},
   "source": [
    "## Set'ten Eleman Silmek"
   ]
  },
  {
   "cell_type": "code",
   "execution_count": 42,
   "id": "4b108244-c8f0-4f37-9d11-3de5ca9beeb4",
   "metadata": {},
   "outputs": [
    {
     "data": {
      "text/plain": [
       "{1, 2, 3, 4, 5, 6}"
      ]
     },
     "execution_count": 42,
     "metadata": {},
     "output_type": "execute_result"
    }
   ],
   "source": [
    "s"
   ]
  },
  {
   "cell_type": "code",
   "execution_count": 43,
   "id": "ec5313c3-52a1-4490-b735-418b7483e9ff",
   "metadata": {},
   "outputs": [],
   "source": [
    "s.remove(2)"
   ]
  },
  {
   "cell_type": "code",
   "execution_count": 44,
   "id": "1044faac-edf3-4c1f-a2bb-e9e456ea10ce",
   "metadata": {},
   "outputs": [
    {
     "data": {
      "text/plain": [
       "{1, 3, 4, 5, 6}"
      ]
     },
     "execution_count": 44,
     "metadata": {},
     "output_type": "execute_result"
    }
   ],
   "source": [
    "s"
   ]
  },
  {
   "cell_type": "code",
   "execution_count": 45,
   "id": "f3f59fe6-a9a8-49cd-8882-2a20b9297511",
   "metadata": {},
   "outputs": [
    {
     "ename": "KeyError",
     "evalue": "9",
     "output_type": "error",
     "traceback": [
      "\u001b[1;31m---------------------------------------------------------------------------\u001b[0m",
      "\u001b[1;31mKeyError\u001b[0m                                  Traceback (most recent call last)",
      "Cell \u001b[1;32mIn[45], line 2\u001b[0m\n\u001b[0;32m      1\u001b[0m \u001b[38;5;66;03m# add()'in aksine, remove() hata veriyor.\u001b[39;00m\n\u001b[1;32m----> 2\u001b[0m s\u001b[38;5;241m.\u001b[39mremove(\u001b[38;5;241m9\u001b[39m)\n",
      "\u001b[1;31mKeyError\u001b[0m: 9"
     ]
    }
   ],
   "source": [
    "# add()'in aksine, remove() hata veriyor.\n",
    "s.remove(9)"
   ]
  },
  {
   "cell_type": "code",
   "execution_count": 46,
   "id": "970e3683-abb7-48ae-9966-69ceb83a9f52",
   "metadata": {},
   "outputs": [
    {
     "data": {
      "text/plain": [
       "{1, 3, 4, 5, 6}"
      ]
     },
     "execution_count": 46,
     "metadata": {},
     "output_type": "execute_result"
    }
   ],
   "source": [
    "s"
   ]
  },
  {
   "cell_type": "code",
   "execution_count": 49,
   "id": "80b6aa05-77d4-4f27-95e6-b2e9f32365d5",
   "metadata": {},
   "outputs": [],
   "source": [
    "# Eğer silmek istediğimiz eleman yoksa \n",
    "#hata almak istemiyorsak, discard()'ı kullanabiliriz.\n",
    "s.discard(10)"
   ]
  },
  {
   "cell_type": "code",
   "execution_count": 50,
   "id": "a9a0d03a-9489-4d72-ad7c-d343652f81d8",
   "metadata": {},
   "outputs": [],
   "source": [
    "s.add(10)"
   ]
  },
  {
   "cell_type": "code",
   "execution_count": 51,
   "id": "06b1a06f-b66e-4248-a4cf-0cb9c9194c10",
   "metadata": {},
   "outputs": [
    {
     "data": {
      "text/plain": [
       "{1, 3, 4, 5, 6, 10}"
      ]
     },
     "execution_count": 51,
     "metadata": {},
     "output_type": "execute_result"
    }
   ],
   "source": [
    "s"
   ]
  },
  {
   "cell_type": "code",
   "execution_count": 52,
   "id": "509258e9-bef1-4918-926f-38b50d2ef265",
   "metadata": {},
   "outputs": [],
   "source": [
    "s.discard(10)"
   ]
  },
  {
   "cell_type": "code",
   "execution_count": 53,
   "id": "e7862692-2b7a-45f2-8616-a59de10f1c0d",
   "metadata": {},
   "outputs": [
    {
     "data": {
      "text/plain": [
       "{1, 3, 4, 5, 6}"
      ]
     },
     "execution_count": 53,
     "metadata": {},
     "output_type": "execute_result"
    }
   ],
   "source": [
    "s"
   ]
  },
  {
   "cell_type": "markdown",
   "id": "a1144d7c-9d1f-4cdc-9850-442882ad81e5",
   "metadata": {},
   "source": [
    "## Difference (fark)"
   ]
  },
  {
   "cell_type": "markdown",
   "id": "68724e57-8ff2-4762-bef1-c15af5ba707d",
   "metadata": {},
   "source": [
    "Evet geldik şimdi kümelerdeki fark konusuna. s1 kümesi ile s2 kümesinin farkına bakacağız. (s1 – s2) veya (s1 \\ s2)"
   ]
  },
  {
   "cell_type": "code",
   "execution_count": 55,
   "id": "56c8b4fb-d2c4-4589-a4cd-1558481d6a00",
   "metadata": {},
   "outputs": [],
   "source": [
    "s1 = set([1,5,10])"
   ]
  },
  {
   "cell_type": "code",
   "execution_count": 56,
   "id": "07440d87-f061-4772-bf3e-a1467958aa6f",
   "metadata": {},
   "outputs": [],
   "source": [
    "s2 = set([2,5,3])"
   ]
  },
  {
   "cell_type": "code",
   "execution_count": 57,
   "id": "41a29cc6-ff13-4737-bb47-2cce32170af6",
   "metadata": {},
   "outputs": [
    {
     "data": {
      "text/plain": [
       "{1, 10}"
      ]
     },
     "execution_count": 57,
     "metadata": {},
     "output_type": "execute_result"
    }
   ],
   "source": [
    "# s1 in hangi elemanları s2 den farklıdır.\n",
    "s1.difference(s2)"
   ]
  },
  {
   "cell_type": "code",
   "execution_count": 58,
   "id": "ae2892c4-51f1-4a6c-b2c1-d29c8129c648",
   "metadata": {},
   "outputs": [
    {
     "data": {
      "text/plain": [
       "{1, 10}"
      ]
     },
     "execution_count": 58,
     "metadata": {},
     "output_type": "execute_result"
    }
   ],
   "source": [
    "# '-' operatörü setlerde kullanıldığında bize farkı verir.\n",
    "s1 - s2"
   ]
  },
  {
   "cell_type": "code",
   "execution_count": 59,
   "id": "53a9a77e-77d7-4f85-a1f1-eb93fc0817b7",
   "metadata": {},
   "outputs": [
    {
     "data": {
      "text/plain": [
       "{2, 3}"
      ]
     },
     "execution_count": 59,
     "metadata": {},
     "output_type": "execute_result"
    }
   ],
   "source": [
    "# s2 nin hangi elemanları s1 den farklıdır\n",
    "s2.difference(s1)"
   ]
  },
  {
   "cell_type": "code",
   "execution_count": 60,
   "id": "6abfc8ad-d24d-4f4c-9fa9-51b00fcac774",
   "metadata": {},
   "outputs": [
    {
     "data": {
      "text/plain": [
       "{2, 3}"
      ]
     },
     "execution_count": 60,
     "metadata": {},
     "output_type": "execute_result"
    }
   ],
   "source": [
    "s2 - s1"
   ]
  },
  {
   "cell_type": "markdown",
   "id": "5e9ed655-18a9-4219-a089-3b51e9b81015",
   "metadata": {},
   "source": [
    "## Symmetric Difference"
   ]
  },
  {
   "cell_type": "markdown",
   "id": "40a6c853-471e-4196-8bef-7c3e33ed4013",
   "metadata": {},
   "source": [
    "s1'in s2 den farkı ile s2'nin s1 den farkının birleşimi. \n",
    "* s1 \\ s2) U (s2 \\ s1) - > s1 U s2 - (s1 n s2)\n",
    "* U -> Birleşim\n",
    "* n -> kesişim"
   ]
  },
  {
   "cell_type": "code",
   "execution_count": 61,
   "id": "68738d58-c462-42aa-bb10-0ef405a2a024",
   "metadata": {},
   "outputs": [
    {
     "data": {
      "text/plain": [
       "{1, 5, 10}"
      ]
     },
     "execution_count": 61,
     "metadata": {},
     "output_type": "execute_result"
    }
   ],
   "source": [
    "s1"
   ]
  },
  {
   "cell_type": "code",
   "execution_count": 62,
   "id": "3087be68-4a7b-433a-8c05-ed896e4ea5d7",
   "metadata": {},
   "outputs": [
    {
     "data": {
      "text/plain": [
       "{2, 3, 5}"
      ]
     },
     "execution_count": 62,
     "metadata": {},
     "output_type": "execute_result"
    }
   ],
   "source": [
    "s2"
   ]
  },
  {
   "cell_type": "code",
   "execution_count": 63,
   "id": "e8898f1f-9bad-4a45-84d1-0156985bc28c",
   "metadata": {},
   "outputs": [
    {
     "data": {
      "text/plain": [
       "{1, 2, 3, 10}"
      ]
     },
     "execution_count": 63,
     "metadata": {},
     "output_type": "execute_result"
    }
   ],
   "source": [
    "# (s1 \\ s2) U (s2 \\ s1)  - > A U B - (A n B)\n",
    "s1.symmetric_difference(s2)"
   ]
  },
  {
   "cell_type": "code",
   "execution_count": 64,
   "id": "85900faa-47ad-45e8-bb5f-6ba627988772",
   "metadata": {},
   "outputs": [
    {
     "data": {
      "text/plain": [
       "{1, 2, 3, 10}"
      ]
     },
     "execution_count": 64,
     "metadata": {},
     "output_type": "execute_result"
    }
   ],
   "source": [
    "# (s2 \\ s1) U (s1 \\ s2) same as (s1 \\ s2) U (s2 \\ s1)\n",
    "s2.symmetric_difference(s1)"
   ]
  },
  {
   "cell_type": "markdown",
   "id": "1a740ad8-5598-4148-9dac-4dffcc09ceb6",
   "metadata": {},
   "source": [
    "## Intersection (kesişim)"
   ]
  },
  {
   "cell_type": "code",
   "execution_count": 65,
   "id": "c9e6afdd-1371-4b82-9bac-d1af093b994d",
   "metadata": {},
   "outputs": [
    {
     "data": {
      "text/plain": [
       "{1, 5, 10}"
      ]
     },
     "execution_count": 65,
     "metadata": {},
     "output_type": "execute_result"
    }
   ],
   "source": [
    "s1"
   ]
  },
  {
   "cell_type": "code",
   "execution_count": 66,
   "id": "a16460f5-476f-49c9-b810-7a728c151e74",
   "metadata": {},
   "outputs": [
    {
     "data": {
      "text/plain": [
       "{2, 3, 5}"
      ]
     },
     "execution_count": 66,
     "metadata": {},
     "output_type": "execute_result"
    }
   ],
   "source": [
    "s2"
   ]
  },
  {
   "cell_type": "code",
   "execution_count": 67,
   "id": "ae29578f-cb38-4808-a598-5b2ea8c7388b",
   "metadata": {},
   "outputs": [
    {
     "data": {
      "text/plain": [
       "{5}"
      ]
     },
     "execution_count": 67,
     "metadata": {},
     "output_type": "execute_result"
    }
   ],
   "source": [
    "s1.intersection(s2)"
   ]
  },
  {
   "cell_type": "code",
   "execution_count": 68,
   "id": "a4289278-7631-43a0-bdf9-2f83d87b0b0c",
   "metadata": {},
   "outputs": [
    {
     "data": {
      "text/plain": [
       "{5}"
      ]
     },
     "execution_count": 68,
     "metadata": {},
     "output_type": "execute_result"
    }
   ],
   "source": [
    "s2.intersection(s1)"
   ]
  },
  {
   "cell_type": "code",
   "execution_count": 69,
   "id": "68888c59-835f-4cac-8f2a-f64bf01a9853",
   "metadata": {},
   "outputs": [
    {
     "data": {
      "text/plain": [
       "{5}"
      ]
     },
     "execution_count": 69,
     "metadata": {},
     "output_type": "execute_result"
    }
   ],
   "source": [
    "# `&` operatörü setlere uygulanınca kesişim olur\n",
    "s1 & s2"
   ]
  },
  {
   "cell_type": "code",
   "execution_count": 70,
   "id": "eb76b3d0-ed3f-43c2-a50c-51e032da220c",
   "metadata": {},
   "outputs": [
    {
     "data": {
      "text/plain": [
       "{5}"
      ]
     },
     "execution_count": 70,
     "metadata": {},
     "output_type": "execute_result"
    }
   ],
   "source": [
    "# Bu işlem kesişim ile aynı sonucu verecek\n",
    "s1 - (s1-s2)"
   ]
  },
  {
   "cell_type": "code",
   "execution_count": 71,
   "id": "f582382e-8382-45c1-a550-bd58216dc0f2",
   "metadata": {},
   "outputs": [
    {
     "data": {
      "text/plain": [
       "{1, 5, 10}"
      ]
     },
     "execution_count": 71,
     "metadata": {},
     "output_type": "execute_result"
    }
   ],
   "source": [
    "s1"
   ]
  },
  {
   "cell_type": "code",
   "execution_count": 72,
   "id": "7603b3d6-dd0b-40fb-ae0a-cb9cbc2a1cde",
   "metadata": {},
   "outputs": [],
   "source": [
    "# kesişim yapıp s1 in değerini buna günceller\n",
    "s1.intersection_update(s2) # s1 = s1.intersection(s2)\n"
   ]
  },
  {
   "cell_type": "code",
   "execution_count": 73,
   "id": "c23bcf21-89de-43db-a7dc-55ed97c364d5",
   "metadata": {},
   "outputs": [
    {
     "data": {
      "text/plain": [
       "{5}"
      ]
     },
     "execution_count": 73,
     "metadata": {},
     "output_type": "execute_result"
    }
   ],
   "source": [
    "s1"
   ]
  },
  {
   "cell_type": "markdown",
   "id": "6a8cab5a-55f0-409b-a1e9-f208b1228053",
   "metadata": {},
   "source": [
    "## Union (Birleşim)"
   ]
  },
  {
   "cell_type": "code",
   "execution_count": 74,
   "id": "53cbe420-5d1d-45ee-89a7-fb2920e2ce07",
   "metadata": {},
   "outputs": [],
   "source": [
    "s1 = set([1, 5, 10])"
   ]
  },
  {
   "cell_type": "code",
   "execution_count": 75,
   "id": "06753eca-24e7-4e04-acf0-e559e177b82a",
   "metadata": {},
   "outputs": [
    {
     "data": {
      "text/plain": [
       "{1, 5, 10}"
      ]
     },
     "execution_count": 75,
     "metadata": {},
     "output_type": "execute_result"
    }
   ],
   "source": [
    "s1"
   ]
  },
  {
   "cell_type": "code",
   "execution_count": 76,
   "id": "92c0e158-e4cd-4eca-b40c-d76e62fc9da6",
   "metadata": {},
   "outputs": [
    {
     "data": {
      "text/plain": [
       "{2, 3, 5}"
      ]
     },
     "execution_count": 76,
     "metadata": {},
     "output_type": "execute_result"
    }
   ],
   "source": [
    "s2"
   ]
  },
  {
   "cell_type": "code",
   "execution_count": 77,
   "id": "23585bef-f334-46d8-8583-aff59ea99264",
   "metadata": {},
   "outputs": [
    {
     "data": {
      "text/plain": [
       "{1, 2, 3, 5, 10}"
      ]
     },
     "execution_count": 77,
     "metadata": {},
     "output_type": "execute_result"
    }
   ],
   "source": [
    "s1.union(s2)"
   ]
  },
  {
   "cell_type": "code",
   "execution_count": 78,
   "id": "fc86ebbb-e2ef-4556-9e92-40019edd4aa5",
   "metadata": {},
   "outputs": [
    {
     "data": {
      "text/plain": [
       "{1, 5, 10}"
      ]
     },
     "execution_count": 78,
     "metadata": {},
     "output_type": "execute_result"
    }
   ],
   "source": [
    "s1"
   ]
  },
  {
   "cell_type": "code",
   "execution_count": 79,
   "id": "81c3185d-1502-4469-a58a-202a988205ba",
   "metadata": {},
   "outputs": [
    {
     "data": {
      "text/plain": [
       "{1, 5, 10}"
      ]
     },
     "execution_count": 79,
     "metadata": {},
     "output_type": "execute_result"
    }
   ],
   "source": [
    "s1.union(s1)"
   ]
  },
  {
   "cell_type": "markdown",
   "id": "b1f96537-0949-4659-a564-87d8f9422982",
   "metadata": {},
   "source": [
    "## Disjoint Sets"
   ]
  },
  {
   "cell_type": "markdown",
   "id": "ba359013-4b59-4454-8f9a-01cb0f23fe1c",
   "metadata": {},
   "source": [
    "s1 ∩ s2 = Ø olup olmadığını kontrol eder"
   ]
  },
  {
   "cell_type": "code",
   "execution_count": 80,
   "id": "9fd36172-1713-4580-aef8-c3d40df7b688",
   "metadata": {},
   "outputs": [
    {
     "data": {
      "text/plain": [
       "{1, 5, 10}"
      ]
     },
     "execution_count": 80,
     "metadata": {},
     "output_type": "execute_result"
    }
   ],
   "source": [
    "s1"
   ]
  },
  {
   "cell_type": "code",
   "execution_count": 81,
   "id": "9b3d0a08-eb6a-48e3-8d2b-a7bd4afdd0e0",
   "metadata": {},
   "outputs": [
    {
     "data": {
      "text/plain": [
       "{2, 3, 5}"
      ]
     },
     "execution_count": 81,
     "metadata": {},
     "output_type": "execute_result"
    }
   ],
   "source": [
    "s2"
   ]
  },
  {
   "cell_type": "code",
   "execution_count": 82,
   "id": "803af735-e52e-4438-bf50-c88b424f67d5",
   "metadata": {},
   "outputs": [],
   "source": [
    "s3 = set([12,11])"
   ]
  },
  {
   "cell_type": "code",
   "execution_count": 83,
   "id": "01b5589c-b7ae-473b-a77b-2e7f81b69162",
   "metadata": {},
   "outputs": [
    {
     "data": {
      "text/plain": [
       "{11, 12}"
      ]
     },
     "execution_count": 83,
     "metadata": {},
     "output_type": "execute_result"
    }
   ],
   "source": [
    "s3"
   ]
  },
  {
   "cell_type": "code",
   "execution_count": 84,
   "id": "4cbfabd5-58ad-411f-be0b-297c8e2ee451",
   "metadata": {},
   "outputs": [
    {
     "data": {
      "text/plain": [
       "False"
      ]
     },
     "execution_count": 84,
     "metadata": {},
     "output_type": "execute_result"
    }
   ],
   "source": [
    "# s1 ∩ s2 ≠ Ø(boş küme) değil, o yüzden False döner\n",
    "s1.isdisjoint(s2) "
   ]
  },
  {
   "cell_type": "code",
   "execution_count": 85,
   "id": "4b47e9d8-d9f0-46da-a34d-fc4775874371",
   "metadata": {},
   "outputs": [
    {
     "data": {
      "text/plain": [
       "False"
      ]
     },
     "execution_count": 85,
     "metadata": {},
     "output_type": "execute_result"
    }
   ],
   "source": [
    "s2.isdisjoint(s1) "
   ]
  },
  {
   "cell_type": "code",
   "execution_count": 86,
   "id": "96c26a73-ebd9-4ac8-b88d-5f6bfdbb0ced",
   "metadata": {},
   "outputs": [
    {
     "data": {
      "text/plain": [
       "True"
      ]
     },
     "execution_count": 86,
     "metadata": {},
     "output_type": "execute_result"
    }
   ],
   "source": [
    "s1.isdisjoint(s3) "
   ]
  },
  {
   "cell_type": "code",
   "execution_count": 87,
   "id": "5617e865-b7c0-4d46-aed4-2de24af80d1e",
   "metadata": {},
   "outputs": [
    {
     "data": {
      "text/plain": [
       "False"
      ]
     },
     "execution_count": 87,
     "metadata": {},
     "output_type": "execute_result"
    }
   ],
   "source": [
    "len(s1.intersection(s2)) == 0"
   ]
  },
  {
   "cell_type": "markdown",
   "id": "0d56a162-baef-4970-8422-676404a0e75c",
   "metadata": {},
   "source": [
    "## Subset (Alt küme)"
   ]
  },
  {
   "cell_type": "markdown",
   "id": "0adcc55b-54ca-4007-ae51-db08d24bc08a",
   "metadata": {},
   "source": [
    "s1.issubset(s2), s1'in s2'nin alt kümesi olup olmadığını kontrol eder"
   ]
  },
  {
   "cell_type": "code",
   "execution_count": 88,
   "id": "6fa0ba32-dbfc-44b5-927f-db7940616ba0",
   "metadata": {},
   "outputs": [
    {
     "data": {
      "text/plain": [
       "{1, 5, 10}"
      ]
     },
     "execution_count": 88,
     "metadata": {},
     "output_type": "execute_result"
    }
   ],
   "source": [
    "s1"
   ]
  },
  {
   "cell_type": "code",
   "execution_count": 89,
   "id": "c9cc325e-2b24-4973-94c7-422feeec8ac8",
   "metadata": {},
   "outputs": [
    {
     "data": {
      "text/plain": [
       "{2, 3, 5}"
      ]
     },
     "execution_count": 89,
     "metadata": {},
     "output_type": "execute_result"
    }
   ],
   "source": [
    "s2"
   ]
  },
  {
   "cell_type": "code",
   "execution_count": 91,
   "id": "fece434a-64d6-42e0-a1d0-52252c8e0456",
   "metadata": {},
   "outputs": [
    {
     "data": {
      "text/plain": [
       "False"
      ]
     },
     "execution_count": 91,
     "metadata": {},
     "output_type": "execute_result"
    }
   ],
   "source": [
    "s1.issubset(s2)"
   ]
  },
  {
   "cell_type": "code",
   "execution_count": 92,
   "id": "8f301b94-22c7-4e7e-be42-bfe0855ef2c6",
   "metadata": {},
   "outputs": [],
   "source": [
    "s3 = set([2,5])"
   ]
  },
  {
   "cell_type": "code",
   "execution_count": 93,
   "id": "4c742d24-caf2-4280-a9f8-0d4669b14e79",
   "metadata": {},
   "outputs": [
    {
     "data": {
      "text/plain": [
       "{2, 5}"
      ]
     },
     "execution_count": 93,
     "metadata": {},
     "output_type": "execute_result"
    }
   ],
   "source": [
    "s3"
   ]
  },
  {
   "cell_type": "code",
   "execution_count": 94,
   "id": "8c82ee43-811a-45de-a71f-91ce2c882162",
   "metadata": {},
   "outputs": [
    {
     "data": {
      "text/plain": [
       "True"
      ]
     },
     "execution_count": 94,
     "metadata": {},
     "output_type": "execute_result"
    }
   ],
   "source": [
    "s3.issubset(s2)"
   ]
  },
  {
   "cell_type": "markdown",
   "id": "379d45c1-4d86-4816-8183-43d992cc945b",
   "metadata": {},
   "source": [
    "## Superset (üst küme)"
   ]
  },
  {
   "cell_type": "markdown",
   "id": "7beda56a-48ab-4021-afed-41dc49261892",
   "metadata": {},
   "source": [
    "s2.issuperset(s3) s2'nin s3'ün üst kümesi olup olmadığını sorgular"
   ]
  },
  {
   "cell_type": "code",
   "execution_count": 95,
   "id": "7992f1eb-5998-4f61-bddb-84f9b34469ab",
   "metadata": {},
   "outputs": [
    {
     "data": {
      "text/plain": [
       "{1, 5, 10}"
      ]
     },
     "execution_count": 95,
     "metadata": {},
     "output_type": "execute_result"
    }
   ],
   "source": [
    "s1"
   ]
  },
  {
   "cell_type": "code",
   "execution_count": 96,
   "id": "c9e06d31-e8ae-4b43-9cb9-bdd061ab6146",
   "metadata": {},
   "outputs": [
    {
     "data": {
      "text/plain": [
       "{2, 3, 5}"
      ]
     },
     "execution_count": 96,
     "metadata": {},
     "output_type": "execute_result"
    }
   ],
   "source": [
    "s2"
   ]
  },
  {
   "cell_type": "code",
   "execution_count": 97,
   "id": "61b27970-d3ce-404a-b39f-ab5f8390dc38",
   "metadata": {},
   "outputs": [
    {
     "data": {
      "text/plain": [
       "{2, 5}"
      ]
     },
     "execution_count": 97,
     "metadata": {},
     "output_type": "execute_result"
    }
   ],
   "source": [
    "s3"
   ]
  },
  {
   "cell_type": "code",
   "execution_count": 98,
   "id": "5f1b7a43-3d87-44a6-912d-745e3f59e944",
   "metadata": {},
   "outputs": [
    {
     "data": {
      "text/plain": [
       "True"
      ]
     },
     "execution_count": 98,
     "metadata": {},
     "output_type": "execute_result"
    }
   ],
   "source": [
    "s2.issuperset(s3)"
   ]
  },
  {
   "cell_type": "code",
   "execution_count": 99,
   "id": "2325fa4d-4644-411c-a3c3-d32d6e176002",
   "metadata": {},
   "outputs": [
    {
     "data": {
      "text/plain": [
       "{2, 3, 5}"
      ]
     },
     "execution_count": 99,
     "metadata": {},
     "output_type": "execute_result"
    }
   ],
   "source": [
    "s2"
   ]
  },
  {
   "cell_type": "code",
   "execution_count": null,
   "id": "5880e2c5-bf5c-4e9b-b42c-078b94d79966",
   "metadata": {},
   "outputs": [],
   "source": []
  }
 ],
 "metadata": {
  "kernelspec": {
   "display_name": "Python 3 (ipykernel)",
   "language": "python",
   "name": "python3"
  },
  "language_info": {
   "codemirror_mode": {
    "name": "ipython",
    "version": 3
   },
   "file_extension": ".py",
   "mimetype": "text/x-python",
   "name": "python",
   "nbconvert_exporter": "python",
   "pygments_lexer": "ipython3",
   "version": "3.11.7"
  }
 },
 "nbformat": 4,
 "nbformat_minor": 5
}
