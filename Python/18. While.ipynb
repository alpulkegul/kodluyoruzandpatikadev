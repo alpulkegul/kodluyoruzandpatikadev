{
 "cells": [
  {
   "cell_type": "markdown",
   "id": "b901834b-2959-487a-83b6-64d73139e2ae",
   "metadata": {
    "jp-MarkdownHeadingCollapsed": true
   },
   "source": [
    "# While"
   ]
  },
  {
   "cell_type": "markdown",
   "id": "2a83e3cd-f8bb-4d99-8151-6397e8d8c697",
   "metadata": {},
   "source": [
    "* while döngüsü içerisine yazdığımız yapı belirtilen ifade doğru olduğu sürece çalışacak"
   ]
  },
  {
   "cell_type": "markdown",
   "id": "a3f07ac1-eb92-4c63-852a-403da68dadd5",
   "metadata": {},
   "source": [
    "* while' da da if'te olduğu gibi bir test mantığı var. **Testimiz doğru olduğu sürece while bloğuun içindeki kodlar tekrarlanır***"
   ]
  },
  {
   "cell_type": "markdown",
   "id": "1c61ad0e-3fda-4eea-b18a-91d3092554fa",
   "metadata": {},
   "source": [
    "``Örnek olarak kullanıcıdan pozitif bir sayi bekleyen, negatif sayı girildikçe bir daha soran bir yapıyı hazırlayalım.``"
   ]
  },
  {
   "cell_type": "code",
   "execution_count": 3,
   "id": "16fa0194-7697-414b-bdb6-5f9634f4612c",
   "metadata": {},
   "outputs": [
    {
     "name": "stdin",
     "output_type": "stream",
     "text": [
      "Lütfen bir sayı gir: -5\n"
     ]
    },
    {
     "name": "stdout",
     "output_type": "stream",
     "text": [
      "Girdiğin sayı pozitif değil.\n",
      "\n"
     ]
    },
    {
     "name": "stdin",
     "output_type": "stream",
     "text": [
      "Bir sayı gir: -5.55\n"
     ]
    },
    {
     "name": "stdout",
     "output_type": "stream",
     "text": [
      "Girdiğin sayı pozitif değil.\n",
      "\n"
     ]
    },
    {
     "name": "stdin",
     "output_type": "stream",
     "text": [
      "Bir sayı gir: 0\n"
     ]
    },
    {
     "name": "stdout",
     "output_type": "stream",
     "text": [
      "Girdiğin sayı pozitif değil.\n",
      "\n"
     ]
    },
    {
     "name": "stdin",
     "output_type": "stream",
     "text": [
      "Bir sayı gir: 5.24\n"
     ]
    },
    {
     "name": "stdout",
     "output_type": "stream",
     "text": [
      "Girdiğin sayı pozitif bir sayı.\n",
      "Girdiğin sayı: 5.24\n"
     ]
    }
   ],
   "source": [
    "x = float(input(\"Lütfen bir sayı gir:\"))\n",
    "while x <= 0:\n",
    "    print(\"Girdiğin sayı pozitif değil.\\n\")\n",
    "    x=float(input(\"Bir sayı gir:\"))\n",
    "print(\"Girdiğin sayı pozitif bir sayı.\\nGirdiğin sayı:\",x)"
   ]
  },
  {
   "cell_type": "code",
   "execution_count": 4,
   "id": "de8fbb8d-60c4-4ce9-9ba6-e1841eddadbe",
   "metadata": {},
   "outputs": [
    {
     "name": "stdout",
     "output_type": "stream",
     "text": [
      "0\n",
      "1\n",
      "2\n"
     ]
    }
   ],
   "source": [
    "x=0\n",
    "\n",
    "while x<3:\n",
    "    print(x)\n",
    "    x += 1"
   ]
  },
  {
   "cell_type": "markdown",
   "id": "a53444ea-781f-4c70-8b2c-9fa6c3f37af6",
   "metadata": {},
   "source": [
    "``Örnek: 0'dan 100'e kadar olan sayıların toplamını ekrana yazdıran programı hazırla.``"
   ]
  },
  {
   "cell_type": "code",
   "execution_count": 5,
   "id": "fbe99508-b6ca-44ed-8626-d4babca3b70e",
   "metadata": {},
   "outputs": [
    {
     "name": "stdout",
     "output_type": "stream",
     "text": [
      "5050\n"
     ]
    }
   ],
   "source": [
    "x=0\n",
    "toplam=0\n",
    "while x<=100:\n",
    "    toplam += x\n",
    "    x += 1\n",
    "print(toplam)"
   ]
  },
  {
   "cell_type": "markdown",
   "id": "0518c4ae-ab64-4351-bb10-111e50fbadaf",
   "metadata": {
    "jp-MarkdownHeadingCollapsed": true
   },
   "source": [
    "# Örnekler"
   ]
  },
  {
   "cell_type": "code",
   "execution_count": 48,
   "id": "87a976ad-8db2-4c31-839d-012713955aaf",
   "metadata": {},
   "outputs": [
    {
     "name": "stdin",
     "output_type": "stream",
     "text": [
      "Kullandığımuız dil Python'mu C mi? C\n"
     ]
    },
    {
     "name": "stdout",
     "output_type": "stream",
     "text": [
      "Yanlış cevap!\n",
      "Yanlış cevap!\n",
      "Yanlış cevap!\n",
      "Yanlış cevap!\n",
      "Yanlış cevap!\n"
     ]
    }
   ],
   "source": [
    "# Klavyeden girilen cevaba göre ekrana \"Yanlış cevap!\" yazdıran programı hazırlayınız.\n",
    "\n",
    "question = input(\"Kullandığımuız dil Python'mu C mi?\")\n",
    "count = 0\n",
    "while question != \"python\" and question != \"Python\":\n",
    "    print(\"Yanlış cevap!\")\n",
    "    count +=1\n",
    "    if (count==5):\n",
    "        break;\n",
    "    \n",
    "    "
   ]
  },
  {
   "cell_type": "code",
   "execution_count": 40,
   "id": "a574df52-4fd6-4dc5-9be4-53c91068b7eb",
   "metadata": {},
   "outputs": [
    {
     "name": "stdout",
     "output_type": "stream",
     "text": [
      "1\n",
      "2\n",
      "3\n",
      "4\n",
      "5\n",
      "6\n",
      "7\n",
      "8\n",
      "9\n",
      "10\n",
      "11\n",
      "12\n",
      "13\n",
      "14\n",
      "15\n",
      "16\n",
      "17\n",
      "18\n",
      "19\n",
      "20\n",
      "21\n",
      "22\n",
      "23\n",
      "24\n",
      "25\n",
      "26\n",
      "27\n",
      "28\n",
      "29\n",
      "30\n",
      "31\n",
      "32\n",
      "33\n",
      "34\n",
      "35\n",
      "36\n",
      "37\n",
      "38\n",
      "39\n",
      "40\n",
      "41\n",
      "42\n",
      "43\n",
      "44\n",
      "45\n",
      "46\n",
      "47\n",
      "48\n",
      "49\n",
      "50\n",
      "51\n",
      "52\n",
      "53\n",
      "54\n",
      "55\n",
      "56\n",
      "57\n",
      "58\n",
      "59\n",
      "60\n",
      "61\n",
      "62\n",
      "63\n",
      "64\n",
      "65\n",
      "66\n",
      "67\n",
      "68\n",
      "69\n",
      "70\n",
      "71\n",
      "72\n",
      "73\n",
      "74\n",
      "75\n",
      "76\n",
      "77\n",
      "78\n",
      "79\n",
      "80\n",
      "81\n",
      "82\n",
      "83\n",
      "84\n",
      "85\n",
      "86\n",
      "87\n",
      "88\n",
      "89\n",
      "90\n",
      "91\n",
      "92\n",
      "93\n",
      "94\n",
      "95\n",
      "96\n",
      "97\n",
      "98\n",
      "99\n",
      "100\n"
     ]
    }
   ],
   "source": [
    "# 1 - 100 arası sayıları ekrana yazdıran programı yazın.\n",
    "\n",
    "a = 0\n",
    "while a < 100:\n",
    "    a+=1\n",
    "    print(a)"
   ]
  }
 ],
 "metadata": {
  "kernelspec": {
   "display_name": "Python 3 (ipykernel)",
   "language": "python",
   "name": "python3"
  },
  "language_info": {
   "codemirror_mode": {
    "name": "ipython",
    "version": 3
   },
   "file_extension": ".py",
   "mimetype": "text/x-python",
   "name": "python",
   "nbconvert_exporter": "python",
   "pygments_lexer": "ipython3",
   "version": "3.11.7"
  }
 },
 "nbformat": 4,
 "nbformat_minor": 5
}
