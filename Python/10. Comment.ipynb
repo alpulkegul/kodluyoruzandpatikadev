{
 "cells": [
  {
   "cell_type": "markdown",
   "id": "b58a6558-55e9-4e2d-8731-7fbce33bb6cd",
   "metadata": {},
   "source": [
    "# Comment"
   ]
  },
  {
   "cell_type": "code",
   "execution_count": 3,
   "id": "7b6067d5-0cca-4a1f-a86d-00f12eefd78b",
   "metadata": {},
   "outputs": [],
   "source": [
    "# Bu tekli satır yorumudur"
   ]
  },
  {
   "cell_type": "code",
   "execution_count": 5,
   "id": "f2e54404-bc50-404b-aded-d9fa7da70aec",
   "metadata": {},
   "outputs": [
    {
     "name": "stdout",
     "output_type": "stream",
     "text": [
      "14\n"
     ]
    }
   ],
   "source": [
    "\"\"\"\n",
    "Bu \n",
    "Çoklu \n",
    "satır\n",
    "yorumudur.\n",
    "\"\"\"\n",
    "limon=2\n",
    "sonuc = limon*7\n",
    "print(sonuc)\n"
   ]
  }
 ],
 "metadata": {
  "kernelspec": {
   "display_name": "Python 3 (ipykernel)",
   "language": "python",
   "name": "python3"
  },
  "language_info": {
   "codemirror_mode": {
    "name": "ipython",
    "version": 3
   },
   "file_extension": ".py",
   "mimetype": "text/x-python",
   "name": "python",
   "nbconvert_exporter": "python",
   "pygments_lexer": "ipython3",
   "version": "3.11.7"
  }
 },
 "nbformat": 4,
 "nbformat_minor": 5
}
