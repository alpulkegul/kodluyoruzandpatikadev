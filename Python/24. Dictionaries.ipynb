{
 "cells": [
  {
   "cell_type": "markdown",
   "id": "338f8422-86bd-4f29-bc70-56527f3e4df2",
   "metadata": {},
   "source": [
    "# Dictionaries"
   ]
  },
  {
   "cell_type": "markdown",
   "id": "b3a48c94-3fde-4b73-9cfe-eff9c0d22dca",
   "metadata": {},
   "source": [
    "Listeler bize bir arada tutulması anlamlı olacak verileri bir arada tutma gücü verir.\n",
    "\n",
    "\n",
    "Mesela bir sınıftaki 3 öğrencinin sınavdan aldıkları notlar:"
   ]
  },
  {
   "cell_type": "code",
   "execution_count": 2,
   "id": "2ef61a5a-b39d-42f2-a3e4-d990ffc09b9d",
   "metadata": {},
   "outputs": [],
   "source": [
    "notlar = [80,72,95]"
   ]
  },
  {
   "cell_type": "markdown",
   "id": "396bb4af-e258-40a3-9f55-b69f8acb2054",
   "metadata": {},
   "source": [
    "Bu listedeki 1. eleman ilk öğrenciyi, 2. eleman 2. öğrenciyi, 3. eleman...\n",
    "\n",
    "\n",
    "Ben aynı zamanda bu öğrencilerin isimlerini de tutmak istiyorsam, isimleri için ayrı bir liste oluşturmam lazım. Kuracağım mantık için bu iki listenin eleman sayısı aynı olmalı. notlar[0] bana ilk öğrencinin notunu, isim[0] bana ilk öğrencinin notunu verecek."
   ]
  },
  {
   "cell_type": "code",
   "execution_count": 3,
   "id": "ffc98719-dc59-404b-8e77-16e35b6a1863",
   "metadata": {},
   "outputs": [],
   "source": [
    "isim = [\"Deniz\", \"Ege\", \"Gizem\"]"
   ]
  },
  {
   "cell_type": "code",
   "execution_count": 4,
   "id": "d3b44739-bf59-4cbe-bfc2-c83002c46a67",
   "metadata": {},
   "outputs": [
    {
     "data": {
      "text/plain": [
       "'Deniz'"
      ]
     },
     "execution_count": 4,
     "metadata": {},
     "output_type": "execute_result"
    }
   ],
   "source": [
    "isim[0]"
   ]
  },
  {
   "cell_type": "code",
   "execution_count": 5,
   "id": "39b5118a-1066-4c39-b829-bbfc1fa0a8cc",
   "metadata": {},
   "outputs": [
    {
     "data": {
      "text/plain": [
       "80"
      ]
     },
     "execution_count": 5,
     "metadata": {},
     "output_type": "execute_result"
    }
   ],
   "source": [
    "notlar[0]"
   ]
  },
  {
   "cell_type": "code",
   "execution_count": 6,
   "id": "7f6e2c95-a28b-4b2c-8eaa-45b6c82bc9ee",
   "metadata": {},
   "outputs": [
    {
     "name": "stdout",
     "output_type": "stream",
     "text": [
      "Deniz adlı öğrencinin notu 80\n"
     ]
    }
   ],
   "source": [
    "print(isim[0], \"adlı öğrencinin notu\", notlar[0])"
   ]
  },
  {
   "cell_type": "markdown",
   "id": "dedc6072-db68-4758-9085-df7acc18d4c6",
   "metadata": {},
   "source": [
    "Öğrenci numaralarını tutmak istiyorsam bunun için de ayrı bir liste oluşturmam lazım."
   ]
  },
  {
   "cell_type": "code",
   "execution_count": 7,
   "id": "c1b6d638-b6cc-4e76-a2d4-4c5092693998",
   "metadata": {},
   "outputs": [],
   "source": [
    "no = [703, 408, 690]"
   ]
  },
  {
   "cell_type": "code",
   "execution_count": 8,
   "id": "d430efc9-1df0-44f3-9929-361ee503c27e",
   "metadata": {},
   "outputs": [
    {
     "data": {
      "text/plain": [
       "'Deniz'"
      ]
     },
     "execution_count": 8,
     "metadata": {},
     "output_type": "execute_result"
    }
   ],
   "source": [
    "isim[0]"
   ]
  },
  {
   "cell_type": "code",
   "execution_count": 9,
   "id": "af38820d-7242-4100-8f29-4c1d76d60f52",
   "metadata": {},
   "outputs": [
    {
     "data": {
      "text/plain": [
       "80"
      ]
     },
     "execution_count": 9,
     "metadata": {},
     "output_type": "execute_result"
    }
   ],
   "source": [
    "notlar[0]"
   ]
  },
  {
   "cell_type": "code",
   "execution_count": 10,
   "id": "a9ee3c54-3d63-438b-9269-62e232b75d25",
   "metadata": {},
   "outputs": [
    {
     "data": {
      "text/plain": [
       "703"
      ]
     },
     "execution_count": 10,
     "metadata": {},
     "output_type": "execute_result"
    }
   ],
   "source": [
    "no[0]"
   ]
  },
  {
   "cell_type": "markdown",
   "id": "0739474f-cd85-450f-bc97-898dcd76c9c1",
   "metadata": {},
   "source": [
    "Her farklı bilgi için yeni bir liste oluşturmam gerekiyor.\n",
    "\n",
    "\n",
    "Aynı elemanı ifade eden mantıklar listeler arası aynı indexte tutuluyor. (isim[0]'ın notu notlar[0])\n",
    "\n",
    "\n",
    "Bu yapılabilir ama optimal olmayan bir yaklaşım. Karışıklık çıkması çok muhtemel.\n",
    "\n",
    "\n",
    "İstediğim kısmı almanın daha kolay bir yolu olabilir mi? Sadece bir veri yapısı kullansam... Ayrı ayrı listeler kullanmasam...\n",
    "\n",
    "\n",
    "Evet bunu yapabiliriz! Bunun için dictionary veri yapısını göreceğiz.\n",
    "\n",
    "\n",
    "Dictionary yapısının elemanlarına erişmek için belirli keyler kullanacağız ve o da bize value'lar verecek.\n",
    "\n",
    "\n",
    "dictionary'leri süslü parantez {} ile belirteceğiz.\n",
    "\n",
    "\n",
    "Formumuz {key1:value1, key2:value2...} şeklinde olacak.\n",
    "\n",
    "\n",
    "Elemanlarına ulaşmak için öbür non-scalar veri tiplerinde yaptığımız gibi [] kullanacağız. Ama - dictionary'lerin elemanlarına ulaşmak için belirlediğimiz keyleri kullanacağız, integer indexing değil.\n",
    "\n",
    "\n",
    "dictionary'lerin keyleri immutable herhangi bir yapıda olabilir. value'lar mutable da immutable da olabilir. int, float, bool, string, list, tuple, set, even dictionaries itself!\n"
   ]
  },
  {
   "cell_type": "code",
   "execution_count": 11,
   "id": "2d773b2b-b749-4a0b-a8c6-7b1a7192ba7e",
   "metadata": {},
   "outputs": [],
   "source": [
    "notlar = {\"Deniz\": 80, \"Ege\":72, \"Gizem\": 95}"
   ]
  },
  {
   "cell_type": "code",
   "execution_count": 12,
   "id": "5f8add82-d4bc-4c2d-97cf-94f8c0ef9554",
   "metadata": {},
   "outputs": [
    {
     "data": {
      "text/plain": [
       "72"
      ]
     },
     "execution_count": 12,
     "metadata": {},
     "output_type": "execute_result"
    }
   ],
   "source": [
    "notlar[\"Ege\"]"
   ]
  },
  {
   "cell_type": "code",
   "execution_count": 13,
   "id": "ee39b64d-20c0-4bfe-9ff6-653daf92baa1",
   "metadata": {},
   "outputs": [
    {
     "data": {
      "text/plain": [
       "95"
      ]
     },
     "execution_count": 13,
     "metadata": {},
     "output_type": "execute_result"
    }
   ],
   "source": [
    "notlar[\"Gizem\"]"
   ]
  },
  {
   "cell_type": "code",
   "execution_count": 15,
   "id": "5ddb67a8-5388-4e2c-aa65-fdd9c8812472",
   "metadata": {},
   "outputs": [],
   "source": [
    "ogrenciler = {\"Deniz\": {\"not\":80, \"ogrenci_no\":703},\n",
    "              \"Ege\":{\"not\":72, \"ogrenci_no\":408}, \n",
    "              \"Gizem\": {\"not\":95, \"ogrenci_no\":690}}"
   ]
  },
  {
   "cell_type": "code",
   "execution_count": 16,
   "id": "951c0dc7-d2c1-479e-9f81-c7a2a370aff7",
   "metadata": {},
   "outputs": [
    {
     "data": {
      "text/plain": [
       "{'not': 72, 'ogrenci_no': 408}"
      ]
     },
     "execution_count": 16,
     "metadata": {},
     "output_type": "execute_result"
    }
   ],
   "source": [
    "ogrenciler[\"Ege\"]"
   ]
  },
  {
   "cell_type": "code",
   "execution_count": 17,
   "id": "cf00705d-640d-4e5b-b05f-38434b24b1e8",
   "metadata": {},
   "outputs": [
    {
     "data": {
      "text/plain": [
       "72"
      ]
     },
     "execution_count": 17,
     "metadata": {},
     "output_type": "execute_result"
    }
   ],
   "source": [
    "ogrenciler[\"Ege\"][\"not\"]"
   ]
  },
  {
   "cell_type": "code",
   "execution_count": 18,
   "id": "ba7402a6-aa3e-4686-b5a7-092fdb46f3ad",
   "metadata": {},
   "outputs": [
    {
     "data": {
      "text/plain": [
       "408"
      ]
     },
     "execution_count": 18,
     "metadata": {},
     "output_type": "execute_result"
    }
   ],
   "source": [
    "ogrenciler[\"Ege\"][\"ogrenci_no\"]"
   ]
  },
  {
   "cell_type": "markdown",
   "id": "10b9d040-6562-4910-8e10-0a628a3e5d70",
   "metadata": {},
   "source": [
    "### Olmayan Bir Eleman Sorgulamak"
   ]
  },
  {
   "cell_type": "markdown",
   "id": "c9a4e152-2b45-4677-9f3c-97b98dfcb46f",
   "metadata": {},
   "source": [
    "Olmayan bir key ile eleman sorgusu yaparsak hata alırız."
   ]
  },
  {
   "cell_type": "code",
   "execution_count": 19,
   "id": "48d9d9d4-7311-4653-9396-abb878358abe",
   "metadata": {},
   "outputs": [
    {
     "data": {
      "text/plain": [
       "{'Deniz': 80, 'Ege': 72, 'Gizem': 95}"
      ]
     },
     "execution_count": 19,
     "metadata": {},
     "output_type": "execute_result"
    }
   ],
   "source": [
    "notlar"
   ]
  },
  {
   "cell_type": "code",
   "execution_count": 20,
   "id": "927d0f61-0108-4e70-90e1-9cedf58b042b",
   "metadata": {},
   "outputs": [
    {
     "ename": "KeyError",
     "evalue": "'Mert'",
     "output_type": "error",
     "traceback": [
      "\u001b[1;31m---------------------------------------------------------------------------\u001b[0m",
      "\u001b[1;31mKeyError\u001b[0m                                  Traceback (most recent call last)",
      "Cell \u001b[1;32mIn[20], line 1\u001b[0m\n\u001b[1;32m----> 1\u001b[0m notlar[\u001b[38;5;124m\"\u001b[39m\u001b[38;5;124mMert\u001b[39m\u001b[38;5;124m\"\u001b[39m]\n",
      "\u001b[1;31mKeyError\u001b[0m: 'Mert'"
     ]
    }
   ],
   "source": [
    "notlar[\"Mert\"]"
   ]
  },
  {
   "cell_type": "markdown",
   "id": "06390106-2b84-4ccb-aa91-1e4c7847214b",
   "metadata": {},
   "source": [
    "### Integer Indexing ile Eleman Sorgusu Yapmak"
   ]
  },
  {
   "cell_type": "markdown",
   "id": "11750039-6894-48b5-8809-92d4574c61de",
   "metadata": {},
   "source": [
    "Dictionary'ler key-value mantığı ile çalışıyor. O yüzden biz notlar[0] gibi bir sorgu yaptığımızda, 0 diye bir key var mı diye bakıyor yoksa hata veriyor."
   ]
  },
  {
   "cell_type": "code",
   "execution_count": 21,
   "id": "5b33b4ff-b551-4156-b51e-db5ff2d86afb",
   "metadata": {},
   "outputs": [
    {
     "ename": "KeyError",
     "evalue": "0",
     "output_type": "error",
     "traceback": [
      "\u001b[1;31m---------------------------------------------------------------------------\u001b[0m",
      "\u001b[1;31mKeyError\u001b[0m                                  Traceback (most recent call last)",
      "Cell \u001b[1;32mIn[21], line 1\u001b[0m\n\u001b[1;32m----> 1\u001b[0m notlar[\u001b[38;5;241m0\u001b[39m]\n",
      "\u001b[1;31mKeyError\u001b[0m: 0"
     ]
    }
   ],
   "source": [
    "notlar[0]"
   ]
  },
  {
   "cell_type": "markdown",
   "id": "51051d28-d96e-4927-820a-efd906b7f523",
   "metadata": {},
   "source": [
    "### Value Değerlerini Değiştirmek"
   ]
  },
  {
   "cell_type": "markdown",
   "id": "a28a5aec-5e0b-4302-af8a-fde1e77547c9",
   "metadata": {},
   "source": [
    "Diyelim ki Ege'nin notu yanlış okunmuş, notunu 5 puan arttıracağız."
   ]
  },
  {
   "cell_type": "code",
   "execution_count": 22,
   "id": "e550557d-eaa8-4672-beb3-135f4a7b759e",
   "metadata": {},
   "outputs": [
    {
     "data": {
      "text/plain": [
       "{'Deniz': 80, 'Ege': 72, 'Gizem': 95}"
      ]
     },
     "execution_count": 22,
     "metadata": {},
     "output_type": "execute_result"
    }
   ],
   "source": [
    "notlar"
   ]
  },
  {
   "cell_type": "code",
   "execution_count": 23,
   "id": "ce56582c-b37f-4d98-a074-f4c2bb119b2b",
   "metadata": {},
   "outputs": [],
   "source": [
    "notlar[\"Ege\"] = notlar[\"Ege\"] + 5"
   ]
  },
  {
   "cell_type": "code",
   "execution_count": 24,
   "id": "74e6f8ef-6871-4ac1-b84b-0deb45c5bfc8",
   "metadata": {},
   "outputs": [
    {
     "data": {
      "text/plain": [
       "{'Deniz': 80, 'Ege': 77, 'Gizem': 95}"
      ]
     },
     "execution_count": 24,
     "metadata": {},
     "output_type": "execute_result"
    }
   ],
   "source": [
    "notlar"
   ]
  },
  {
   "cell_type": "markdown",
   "id": "6f0b8ee2-5cc9-4178-8898-023700e05604",
   "metadata": {},
   "source": [
    "### len()"
   ]
  },
  {
   "cell_type": "markdown",
   "id": "11ee6e97-18dc-4d04-8c54-a90b8336887c",
   "metadata": {},
   "source": [
    "len() fonksiyonunu dictionary'lerde kullandığımız zaman bize kaç tane key varsa onun sayısını veriyor."
   ]
  },
  {
   "cell_type": "code",
   "execution_count": 25,
   "id": "f0725f69-cef8-4bc6-82ab-3371c5972bf7",
   "metadata": {},
   "outputs": [
    {
     "data": {
      "text/plain": [
       "{'Deniz': 80, 'Ege': 77, 'Gizem': 95}"
      ]
     },
     "execution_count": 25,
     "metadata": {},
     "output_type": "execute_result"
    }
   ],
   "source": [
    "notlar"
   ]
  },
  {
   "cell_type": "code",
   "execution_count": 26,
   "id": "62638128-0cdc-414b-b8f3-3ec1ec119afd",
   "metadata": {},
   "outputs": [
    {
     "data": {
      "text/plain": [
       "3"
      ]
     },
     "execution_count": 26,
     "metadata": {},
     "output_type": "execute_result"
    }
   ],
   "source": [
    "len(notlar)"
   ]
  },
  {
   "cell_type": "markdown",
   "id": "bfacecc6-28e6-4ada-ab0a-082412600ce8",
   "metadata": {},
   "source": [
    "### Eleman Eklemek"
   ]
  },
  {
   "cell_type": "code",
   "execution_count": 27,
   "id": "9cb2d4d4-58ad-4254-ad58-38384e1299ba",
   "metadata": {},
   "outputs": [
    {
     "data": {
      "text/plain": [
       "{'Deniz': 80, 'Ege': 77, 'Gizem': 95}"
      ]
     },
     "execution_count": 27,
     "metadata": {},
     "output_type": "execute_result"
    }
   ],
   "source": [
    "notlar"
   ]
  },
  {
   "cell_type": "code",
   "execution_count": 28,
   "id": "e02e831e-28cd-4891-9151-b14fa7d79e7a",
   "metadata": {},
   "outputs": [],
   "source": [
    "notlar[\"Mert\"] = 58"
   ]
  },
  {
   "cell_type": "code",
   "execution_count": 29,
   "id": "62246171-96ae-4f96-ac56-1c2ff7789d58",
   "metadata": {},
   "outputs": [
    {
     "data": {
      "text/plain": [
       "{'Deniz': 80, 'Ege': 77, 'Gizem': 95, 'Mert': 58}"
      ]
     },
     "execution_count": 29,
     "metadata": {},
     "output_type": "execute_result"
    }
   ],
   "source": [
    "notlar"
   ]
  },
  {
   "cell_type": "markdown",
   "id": "fb54458e-9da6-424b-9674-07d690396089",
   "metadata": {},
   "source": [
    "Dictionary'ye sorgu yapıyor gibi yazıyoruz, ve value'si olmasını istediğimiz değeri de soluna yazıyoruz."
   ]
  },
  {
   "cell_type": "markdown",
   "id": "dd719c0a-8497-42bb-a3da-f3a267377bb7",
   "metadata": {},
   "source": [
    "### Eleman Silmek"
   ]
  },
  {
   "cell_type": "code",
   "execution_count": 32,
   "id": "26422aca-e84f-4ea0-896a-02fd020216b0",
   "metadata": {},
   "outputs": [
    {
     "data": {
      "text/plain": [
       "{'Deniz': 80, 'Ege': 77, 'Gizem': 95, 'Mert': 58}"
      ]
     },
     "execution_count": 32,
     "metadata": {},
     "output_type": "execute_result"
    }
   ],
   "source": [
    "notlar"
   ]
  },
  {
   "cell_type": "markdown",
   "id": "3870808e-0499-4942-8a54-00385199d117",
   "metadata": {},
   "source": [
    "Eleman silmeyi del keyword'ü ile yapabiliriz."
   ]
  },
  {
   "cell_type": "code",
   "execution_count": 33,
   "id": "65181068-e2ac-45ab-8194-703708f3aec2",
   "metadata": {},
   "outputs": [],
   "source": [
    "del notlar[\"Mert\"]"
   ]
  },
  {
   "cell_type": "code",
   "execution_count": 34,
   "id": "254707a5-96db-4aa3-8e9e-669898ee662c",
   "metadata": {},
   "outputs": [
    {
     "data": {
      "text/plain": [
       "{'Deniz': 80, 'Ege': 77, 'Gizem': 95}"
      ]
     },
     "execution_count": 34,
     "metadata": {},
     "output_type": "execute_result"
    }
   ],
   "source": [
    "notlar"
   ]
  },
  {
   "cell_type": "markdown",
   "id": "2fea9a26-c723-43ca-972a-efaf85e9af23",
   "metadata": {},
   "source": [
    "Sadece Immutable Tipindeki Veriler key olabilir"
   ]
  },
  {
   "cell_type": "code",
   "execution_count": 36,
   "id": "7fd10e65-7fe6-43aa-93d1-ad59825adeca",
   "metadata": {},
   "outputs": [],
   "source": [
    "d = {1:2, 3:\"b\"}"
   ]
  },
  {
   "cell_type": "code",
   "execution_count": 37,
   "id": "697c2b2e-56d6-4dd9-9bd2-ae7fb876ae3d",
   "metadata": {},
   "outputs": [
    {
     "data": {
      "text/plain": [
       "2"
      ]
     },
     "execution_count": 37,
     "metadata": {},
     "output_type": "execute_result"
    }
   ],
   "source": [
    "d[1]"
   ]
  },
  {
   "cell_type": "code",
   "execution_count": 38,
   "id": "afe1704f-c2e7-4bf2-8408-430e5963cedc",
   "metadata": {},
   "outputs": [
    {
     "data": {
      "text/plain": [
       "'b'"
      ]
     },
     "execution_count": 38,
     "metadata": {},
     "output_type": "execute_result"
    }
   ],
   "source": [
    "d[3]"
   ]
  },
  {
   "cell_type": "code",
   "execution_count": 39,
   "id": "dd9d7122-996c-4b5e-b83e-126ac6f12a73",
   "metadata": {},
   "outputs": [],
   "source": [
    "d2 = {(1,2):\"a\", (4,5): [1,2,3]}"
   ]
  },
  {
   "cell_type": "code",
   "execution_count": 40,
   "id": "895031e7-b901-44cf-8aab-e426dafe9a71",
   "metadata": {},
   "outputs": [
    {
     "data": {
      "text/plain": [
       "'a'"
      ]
     },
     "execution_count": 40,
     "metadata": {},
     "output_type": "execute_result"
    }
   ],
   "source": [
    "d2[(1,2)]"
   ]
  },
  {
   "cell_type": "code",
   "execution_count": 41,
   "id": "8f364cc3-f99e-4783-b6ba-cd41b554be7c",
   "metadata": {},
   "outputs": [
    {
     "data": {
      "text/plain": [
       "[1, 2, 3]"
      ]
     },
     "execution_count": 41,
     "metadata": {},
     "output_type": "execute_result"
    }
   ],
   "source": [
    "d2[(4,5)]"
   ]
  },
  {
   "cell_type": "code",
   "execution_count": 42,
   "id": "5c5f0a01-c611-407d-8dc0-b5811050d5c8",
   "metadata": {},
   "outputs": [
    {
     "ename": "TypeError",
     "evalue": "unhashable type: 'list'",
     "output_type": "error",
     "traceback": [
      "\u001b[1;31m---------------------------------------------------------------------------\u001b[0m",
      "\u001b[1;31mTypeError\u001b[0m                                 Traceback (most recent call last)",
      "Cell \u001b[1;32mIn[42], line 1\u001b[0m\n\u001b[1;32m----> 1\u001b[0m d3 \u001b[38;5;241m=\u001b[39m {[\u001b[38;5;241m1\u001b[39m,\u001b[38;5;241m2\u001b[39m]:\u001b[38;5;241m4\u001b[39m}\n",
      "\u001b[1;31mTypeError\u001b[0m: unhashable type: 'list'"
     ]
    }
   ],
   "source": [
    "d3 = {[1,2]:4}"
   ]
  },
  {
   "cell_type": "markdown",
   "id": "bfeba150-7f1d-4410-9e5a-1db521fb259e",
   "metadata": {},
   "source": [
    "### Boş Bir Dictionary Yaratmak"
   ]
  },
  {
   "cell_type": "code",
   "execution_count": 43,
   "id": "e005e55d-5ede-4840-afca-3d2ed0b3bec6",
   "metadata": {},
   "outputs": [],
   "source": [
    "d = {}"
   ]
  },
  {
   "cell_type": "code",
   "execution_count": 44,
   "id": "d00c2619-c4ca-486f-9643-f59a5f90ebff",
   "metadata": {},
   "outputs": [
    {
     "data": {
      "text/plain": [
       "{}"
      ]
     },
     "execution_count": 44,
     "metadata": {},
     "output_type": "execute_result"
    }
   ],
   "source": [
    "d"
   ]
  },
  {
   "cell_type": "code",
   "execution_count": 45,
   "id": "9e48b8d9-6732-4fd7-9ecc-f043923bb132",
   "metadata": {},
   "outputs": [],
   "source": [
    "d[1] = \"a\""
   ]
  },
  {
   "cell_type": "code",
   "execution_count": 46,
   "id": "98392039-7da3-477e-ad7e-3d93e6967239",
   "metadata": {},
   "outputs": [
    {
     "data": {
      "text/plain": [
       "{1: 'a'}"
      ]
     },
     "execution_count": 46,
     "metadata": {},
     "output_type": "execute_result"
    }
   ],
   "source": [
    "d"
   ]
  },
  {
   "cell_type": "markdown",
   "id": "ab0656fc-4268-478d-b517-a471995c0e70",
   "metadata": {},
   "source": [
    "### Bir Değer Keyler Arasında Var mı Sorgusu Yapmak"
   ]
  },
  {
   "cell_type": "markdown",
   "id": "c32a6a24-6a80-4454-ba4f-07468196c242",
   "metadata": {},
   "source": [
    "Bir elemanın dictionary içinde olup olmadığını sorgulamak, list ve tuple'lerde sorgulamaktan daha hızlıdır."
   ]
  },
  {
   "cell_type": "code",
   "execution_count": 47,
   "id": "dc7d7610-887d-4705-9685-4a8e9f376970",
   "metadata": {},
   "outputs": [
    {
     "data": {
      "text/plain": [
       "{'Deniz': 80, 'Ege': 77, 'Gizem': 95}"
      ]
     },
     "execution_count": 47,
     "metadata": {},
     "output_type": "execute_result"
    }
   ],
   "source": [
    "notlar"
   ]
  },
  {
   "cell_type": "code",
   "execution_count": 48,
   "id": "555e123f-4c87-4fc2-95ac-928d0e71509d",
   "metadata": {},
   "outputs": [
    {
     "data": {
      "text/plain": [
       "False"
      ]
     },
     "execution_count": 48,
     "metadata": {},
     "output_type": "execute_result"
    }
   ],
   "source": [
    "\"Mert\" in notlar"
   ]
  },
  {
   "cell_type": "code",
   "execution_count": 49,
   "id": "8f0402e3-4eca-425d-8e2f-e635d7566f48",
   "metadata": {},
   "outputs": [
    {
     "data": {
      "text/plain": [
       "True"
      ]
     },
     "execution_count": 49,
     "metadata": {},
     "output_type": "execute_result"
    }
   ],
   "source": [
    "\"Deniz\" in notlar"
   ]
  },
  {
   "cell_type": "code",
   "execution_count": null,
   "id": "54026a15-6d7b-4f73-9a28-46de4365b54e",
   "metadata": {},
   "outputs": [],
   "source": []
  }
 ],
 "metadata": {
  "kernelspec": {
   "display_name": "Python 3 (ipykernel)",
   "language": "python",
   "name": "python3"
  },
  "language_info": {
   "codemirror_mode": {
    "name": "ipython",
    "version": 3
   },
   "file_extension": ".py",
   "mimetype": "text/x-python",
   "name": "python",
   "nbconvert_exporter": "python",
   "pygments_lexer": "ipython3",
   "version": "3.11.7"
  }
 },
 "nbformat": 4,
 "nbformat_minor": 5
}
