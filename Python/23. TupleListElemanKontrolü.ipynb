{
 "cells": [
  {
   "cell_type": "markdown",
   "id": "4a6dd251-fc2f-4e49-be48-daba40720fbb",
   "metadata": {},
   "source": [
    "# Tuple ve List'lerde Eleman Kontrolü"
   ]
  },
  {
   "cell_type": "markdown",
   "id": "0f6727a6-630a-462d-b796-5f34a03f8606",
   "metadata": {},
   "source": [
    "Belirli bir eleman listede veya tuple'da var mı diye in keyword'ü ile sorgu yapabilirim."
   ]
  },
  {
   "cell_type": "code",
   "execution_count": 1,
   "id": "e4d2f28b-65ba-4db7-9d66-861a725edc19",
   "metadata": {},
   "outputs": [],
   "source": [
    "l = [1,2,3,4]"
   ]
  },
  {
   "cell_type": "code",
   "execution_count": 2,
   "id": "114a3d3b-89d6-46a8-b638-e3c7cb38f76c",
   "metadata": {},
   "outputs": [
    {
     "data": {
      "text/plain": [
       "False"
      ]
     },
     "execution_count": 2,
     "metadata": {},
     "output_type": "execute_result"
    }
   ],
   "source": [
    "40 in l"
   ]
  },
  {
   "cell_type": "code",
   "execution_count": 3,
   "id": "b0c75113-f14a-43a8-836f-a76b87fd3d17",
   "metadata": {},
   "outputs": [
    {
     "data": {
      "text/plain": [
       "True"
      ]
     },
     "execution_count": 3,
     "metadata": {},
     "output_type": "execute_result"
    }
   ],
   "source": [
    "2 in l"
   ]
  },
  {
   "cell_type": "code",
   "execution_count": 4,
   "id": "6d646e3d-b649-43bd-a2a0-4a55eedb509e",
   "metadata": {},
   "outputs": [
    {
     "data": {
      "text/plain": [
       "False"
      ]
     },
     "execution_count": 4,
     "metadata": {},
     "output_type": "execute_result"
    }
   ],
   "source": [
    "t = (1,2,3,4)\n",
    "40 in t"
   ]
  },
  {
   "cell_type": "code",
   "execution_count": 5,
   "id": "1a31f193-6f24-4527-b0ad-31845e3e536f",
   "metadata": {},
   "outputs": [
    {
     "data": {
      "text/plain": [
       "True"
      ]
     },
     "execution_count": 5,
     "metadata": {},
     "output_type": "execute_result"
    }
   ],
   "source": [
    "3 in t"
   ]
  },
  {
   "cell_type": "code",
   "execution_count": null,
   "id": "43c22aa3-0459-4851-9423-228780838a7f",
   "metadata": {},
   "outputs": [],
   "source": []
  }
 ],
 "metadata": {
  "kernelspec": {
   "display_name": "Python 3 (ipykernel)",
   "language": "python",
   "name": "python3"
  },
  "language_info": {
   "codemirror_mode": {
    "name": "ipython",
    "version": 3
   },
   "file_extension": ".py",
   "mimetype": "text/x-python",
   "name": "python",
   "nbconvert_exporter": "python",
   "pygments_lexer": "ipython3",
   "version": "3.11.7"
  }
 },
 "nbformat": 4,
 "nbformat_minor": 5
}
