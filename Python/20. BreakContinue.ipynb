{
 "cells": [
  {
   "cell_type": "markdown",
   "id": "ccc8b2d7-f3d1-420c-bc92-523746a3c58b",
   "metadata": {
    "jp-MarkdownHeadingCollapsed": true
   },
   "source": [
    "# Break & Continue"
   ]
  },
  {
   "cell_type": "code",
   "execution_count": 5,
   "id": "2a8d8907-374f-4363-93ff-58770d5bf62b",
   "metadata": {},
   "outputs": [
    {
     "name": "stdout",
     "output_type": "stream",
     "text": [
      "0\n",
      "1\n",
      "2\n",
      "3\n",
      "4\n",
      "5\n",
      "6\n",
      "7\n"
     ]
    }
   ],
   "source": [
    "for i in range(10): \n",
    "    if i == 8:\n",
    "        break\n",
    "    print(i)"
   ]
  },
  {
   "cell_type": "code",
   "execution_count": 6,
   "id": "e90fae61-24cf-47b1-a4d2-6fd8e373f485",
   "metadata": {},
   "outputs": [
    {
     "name": "stdout",
     "output_type": "stream",
     "text": [
      "0\n",
      "1\n",
      "2\n",
      "3\n",
      "4\n"
     ]
    }
   ],
   "source": [
    "x = 0\n",
    "while x < 10:\n",
    "    print(x)\n",
    "    x += 1\n",
    "    if x == 5:\n",
    "        break\n",
    "    "
   ]
  },
  {
   "cell_type": "code",
   "execution_count": 8,
   "id": "020d39ba-99f5-4958-ad2c-1e267fc1d712",
   "metadata": {},
   "outputs": [
    {
     "name": "stdout",
     "output_type": "stream",
     "text": [
      "0\n",
      "1\n",
      "2\n",
      "4\n",
      "5\n",
      "6\n",
      "7\n",
      "8\n",
      "9\n"
     ]
    }
   ],
   "source": [
    "for i in range(10):\n",
    "    if i == 3:\n",
    "        continue\n",
    "    print(i)"
   ]
  },
  {
   "cell_type": "code",
   "execution_count": 10,
   "id": "9c551525-e7bc-47e0-923c-89d23a3afa58",
   "metadata": {
    "scrolled": true
   },
   "outputs": [
    {
     "name": "stdout",
     "output_type": "stream",
     "text": [
      "1\n",
      "2\n",
      "3\n",
      "4\n",
      "6\n",
      "7\n",
      "8\n",
      "9\n",
      "10\n"
     ]
    }
   ],
   "source": [
    "x = 0\n",
    "while x < 10:\n",
    "    \n",
    "    x += 1\n",
    "    if x == 5:\n",
    "    \n",
    "        continue\n",
    "    print(x)"
   ]
  },
  {
   "cell_type": "markdown",
   "id": "70c08986-6c98-417d-886a-53883da8441b",
   "metadata": {},
   "source": [
    "# Örnek"
   ]
  },
  {
   "cell_type": "code",
   "execution_count": 4,
   "id": "a66896d1-09eb-4741-abea-f6d4df4dd62a",
   "metadata": {},
   "outputs": [
    {
     "name": "stdin",
     "output_type": "stream",
     "text": [
      "Kullanıcı adı: admin\n",
      "Parola:  123\n"
     ]
    },
    {
     "name": "stdout",
     "output_type": "stream",
     "text": [
      "Kullanıcı adı veya parola yanlış. Lütfen tekrar deneyin.\n"
     ]
    },
    {
     "name": "stdin",
     "output_type": "stream",
     "text": [
      "Kullanıcı adı: admin\n",
      "Parola:  123\n"
     ]
    },
    {
     "name": "stdout",
     "output_type": "stream",
     "text": [
      "Kullanıcı adı veya parola yanlış. Lütfen tekrar deneyin.\n"
     ]
    },
    {
     "name": "stdin",
     "output_type": "stream",
     "text": [
      "Kullanıcı adı: carsamba\n",
      "Parola:  myo\n"
     ]
    },
    {
     "name": "stdout",
     "output_type": "stream",
     "text": [
      "Giriş başarılı.\n"
     ]
    }
   ],
   "source": [
    "# Klavyeden girilen kullanıcı adı bilgisi \"carsamba\", \n",
    "# parola bilgisi \"myo\" olduğunda \"Giriş başarılı!\" mesajını ekrana yazdıran, \n",
    "# aksi durumda \"Kullanıcı adı veya parola yanlış! Lütfen tekrar deneyiniz.\" \n",
    "# mesajını ekrana çıkartan programı hazırlayınız. \n",
    "\n",
    "userName = input(\"Kullanıcı adı:\")\n",
    "password = input(\"Parola: \")\n",
    "\n",
    "while True:\n",
    "    if userName == \"carsamba\" and password == \"myo\":\n",
    "        print(\"Giriş başarılı.\")\n",
    "        break\n",
    "    else:\n",
    "        print(\"Kullanıcı adı veya parola yanlış. Lütfen tekrar deneyin.\")\n",
    "        userName = input(\"Kullanıcı adı:\")\n",
    "        password = input(\"Parola: \")\n",
    "        "
   ]
  },
  {
   "cell_type": "code",
   "execution_count": 8,
   "id": "1e7e088a-9e53-4b35-87ba-ea58fc495fc4",
   "metadata": {},
   "outputs": [
    {
     "name": "stdin",
     "output_type": "stream",
     "text": [
      "Bir sayı girin: 1234\n"
     ]
    },
    {
     "name": "stdout",
     "output_type": "stream",
     "text": [
      "Girmiş olduğunuz sayı en fazla 3 basamaklı olmalıdır. Lütfen 3 basamaklı bir sayı giriniz.\n"
     ]
    },
    {
     "name": "stdin",
     "output_type": "stream",
     "text": [
      "Bir sayı girin: 123\n",
      "Bir sayı girin: 12\n",
      "Bir sayı girin: iptal\n"
     ]
    }
   ],
   "source": [
    "# Klavyeden bir sayı girilmektedir. \n",
    "# Bu sayı en fazla üç basamaklı olmalıdır.\n",
    "# Eğer üç basamaktan daha büyük bir sayı girilirse uyarı mesajı veren, \n",
    "# diğer durumlarda programı devam ettiren,ayrıca klavyeden \n",
    "# \"iptal\" yazıldığında programı sonlandıran yapıyı hazırlayınız.\n",
    "\n",
    "while True:\n",
    "    s = input(\"Bir sayı girin:\")\n",
    "    if s == \"iptal\":\n",
    "        break\n",
    "    elif len(s) <=3:\n",
    "        continue\n",
    "    else:\n",
    "        print(\"Girmiş olduğunuz sayı en fazla 3 basamaklı olmalıdır. Lütfen 3 basamaklı bir sayı giriniz.\")"
   ]
  },
  {
   "cell_type": "code",
   "execution_count": null,
   "id": "4d6789ad-e213-4baa-9c35-39ffed8a3e5a",
   "metadata": {},
   "outputs": [],
   "source": []
  }
 ],
 "metadata": {
  "kernelspec": {
   "display_name": "Python 3 (ipykernel)",
   "language": "python",
   "name": "python3"
  },
  "language_info": {
   "codemirror_mode": {
    "name": "ipython",
    "version": 3
   },
   "file_extension": ".py",
   "mimetype": "text/x-python",
   "name": "python",
   "nbconvert_exporter": "python",
   "pygments_lexer": "ipython3",
   "version": "3.11.7"
  }
 },
 "nbformat": 4,
 "nbformat_minor": 5
}
