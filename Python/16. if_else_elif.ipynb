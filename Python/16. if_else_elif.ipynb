{
 "cells": [
  {
   "cell_type": "markdown",
   "id": "133a612d-a1ff-4cd8-98a0-9c3160205175",
   "metadata": {},
   "source": [
    "# Branching (Dallandırma)"
   ]
  },
  {
   "cell_type": "markdown",
   "id": "90ec2964-deae-48bf-9577-b6be5542a939",
   "metadata": {
    "jp-MarkdownHeadingCollapsed": true
   },
   "source": [
    "# if"
   ]
  },
  {
   "cell_type": "code",
   "execution_count": 3,
   "id": "fa753b48-022c-4e3a-992b-6bdbc9b71212",
   "metadata": {},
   "outputs": [
    {
     "name": "stdin",
     "output_type": "stream",
     "text": [
      "Lütfen bir sayi giriniz: 3\n"
     ]
    },
    {
     "name": "stdout",
     "output_type": "stream",
     "text": [
      "Girdiğiniz sayi tek sayidir.\n"
     ]
    }
   ],
   "source": [
    "x=int(input(\"Lütfen bir sayi giriniz:\"))\n",
    "if x % 2 == 0:\n",
    "    print(\"Girdiğiniz sayi çift sayidir.\")\n",
    "else:\n",
    "    print(\"Girdiğiniz sayi tek sayidir.\")"
   ]
  },
  {
   "cell_type": "code",
   "execution_count": 6,
   "id": "084eca22-b61d-4856-8677-f5f0de13d910",
   "metadata": {},
   "outputs": [
    {
     "name": "stdin",
     "output_type": "stream",
     "text": [
      "Lütfen bir sayi gir: 2\n"
     ]
    },
    {
     "name": "stdout",
     "output_type": "stream",
     "text": [
      "Girmiş olduğunuz sayı çifttir.\n",
      "Program sonlandı.\n"
     ]
    }
   ],
   "source": [
    "x = int (input (\"Lütfen bir sayi gir:\"))\n",
    "if x % 2 == 0:\n",
    "    print(\"Girmiş olduğunuz sayı çifttir.\")\n",
    "else:\n",
    "    print(\"Girmiş olduğunuz sayı tektir.\")\n",
    "print(\"Program sonlandı.\")"
   ]
  },
  {
   "cell_type": "code",
   "execution_count": 9,
   "id": "8b3343d0-f6e5-4c14-84e4-f381d9a9abb2",
   "metadata": {},
   "outputs": [
    {
     "name": "stdin",
     "output_type": "stream",
     "text": [
      "Bir sayi gir: 684\n"
     ]
    },
    {
     "name": "stdout",
     "output_type": "stream",
     "text": [
      "Girdiğiniz sayı 10'dan büyük.\n",
      "Program sonlanıyor.\n"
     ]
    }
   ],
   "source": [
    "x = int (input (\"Bir sayi gir:\"))\n",
    "if x < 10:\n",
    "    print(\"Girdiğiniz sayi 10'dan küçük.\")\n",
    "elif x == 10:\n",
    "    print(\"Girdiğiniz sayi 10'a eşit.\")\n",
    "else:\n",
    "    print(\"Girdiğiniz sayı 10'dan büyük.\")\n",
    "print(\"Program sonlanıyor.\")"
   ]
  },
  {
   "cell_type": "code",
   "execution_count": 20,
   "id": "998948c8-2b42-4669-bf25-65739b8b4de9",
   "metadata": {},
   "outputs": [
    {
     "name": "stdin",
     "output_type": "stream",
     "text": [
      "0-100 Arası bir sayi gir:  101\n"
     ]
    },
    {
     "name": "stdout",
     "output_type": "stream",
     "text": [
      "Girdiğin sayi 0-100 arasında değil.\n"
     ]
    }
   ],
   "source": [
    "x = int (input (\"0-100 Arası bir sayi gir: \"))\n",
    "if x == 100:\n",
    "    print(\"Sayı 100.\")\n",
    "elif x >= 90 and x == 100:\n",
    "    print(\"Sayı 100 ile 90 arasındadır.\")\n",
    "elif x >= 80 and x == 100:\n",
    "    print(\"Sayı 90 ile 80 arasındadır.\")\n",
    "elif x < 80 and x >= 0:\n",
    "    print(\"Sayı 80'den küçüktür.\")\n",
    "else:\n",
    "    print(\"Girdiğin sayi 0-100 arasında değil.\")"
   ]
  },
  {
   "cell_type": "code",
   "execution_count": 25,
   "id": "c90f588e-9ae6-4eed-b09c-93ff4f8b2dd6",
   "metadata": {},
   "outputs": [
    {
     "name": "stdin",
     "output_type": "stream",
     "text": [
      "Bir sayı gir: 6\n"
     ]
    },
    {
     "name": "stdout",
     "output_type": "stream",
     "text": [
      "Sayı hem 2'ye hem de 3'e bölünüyor.\n",
      "Program sonlandı.\n"
     ]
    }
   ],
   "source": [
    "x = int (input (\"Bir sayı gir:\"))\n",
    "if x % 3 == 0:\n",
    "    if x % 2 == 0:\n",
    "        print(\"Sayı hem 2'ye hem de 3'e bölünüyor.\")\n",
    "    else:\n",
    "        print(\"Sayı 3'e bölünüyor ama 2'ye bölünmüyor.\")\n",
    "else:\n",
    "    print(\"Sayi 3'e bölünmüyor.\")\n",
    "    \n",
    "print(\"Program sonlandı.\")"
   ]
  },
  {
   "cell_type": "code",
   "execution_count": 27,
   "id": "ebe72346-8e5e-4900-a5a3-5a4da753b9fd",
   "metadata": {},
   "outputs": [
    {
     "name": "stdin",
     "output_type": "stream",
     "text": [
      "Bir sayı girin: 6\n"
     ]
    },
    {
     "name": "stdout",
     "output_type": "stream",
     "text": [
      "Sayı hem 2'ye hem de 3'e bölünüyor.\n"
     ]
    }
   ],
   "source": [
    "x=int(input(\"Bir sayı girin:\"))\n",
    "if x % 2 == 0 and x % 3 == 0:\n",
    "    print(\"Sayı hem 2'ye hem de 3'e bölünüyor.\")\n",
    "else:\n",
    "    print(\"Sayı 2'ye veya 3'e veya her ikisine de bölünmüyor.\")"
   ]
  },
  {
   "cell_type": "code",
   "execution_count": 30,
   "id": "3fc2b81c-93b2-4810-9ada-00064c3e1151",
   "metadata": {
    "scrolled": true
   },
   "outputs": [
    {
     "name": "stdin",
     "output_type": "stream",
     "text": [
      "Bir sayı girin: 11\n"
     ]
    },
    {
     "name": "stdout",
     "output_type": "stream",
     "text": [
      "Sayı 2'ye veya 3'e veya her ikisine de bölünmüyor.\n"
     ]
    }
   ],
   "source": [
    "x=int(input(\"Bir sayı girin:\"))\n",
    "if x % 2 == 0 or x % 3 == 0:\n",
    "    print(\"Sayı 2 veya 3'den en az birine bölünüyor\")\n",
    "else:\n",
    "    print(\"Sayı 2'ye veya 3'e veya her ikisine de bölünmüyor.\")"
   ]
  },
  {
   "cell_type": "markdown",
   "id": "054fb38c-5524-4803-9db2-f3bab098e046",
   "metadata": {},
   "source": [
    "# Örnekler"
   ]
  },
  {
   "cell_type": "code",
   "execution_count": null,
   "id": "97b8e8f4-b4e5-4c79-a55e-79ea5d9f5221",
   "metadata": {},
   "outputs": [],
   "source": [
    "# Klavyeden girilen iki sayı ve seçenek için dört işlem yapan programı if yapısıyla hazırlayınız. \n",
    "\n",
    "a = int(input(\"1. Sayı:\"))\n",
    "b = int(input(\"2. Sayı:\"))\n",
    "operation = input(\"Yapmak istediğiniz işlemi yazın [+ - / *]:\")\n",
    "if operation == '+':\n",
    "    print(\"%s + %s = %s\"%(a,b,a+b))\n",
    "elif operation == '-':\n",
    "    print(\"%s - %s = %s\"%(a,b,a-b))\n",
    "elif operation == '*':\n",
    "    print(\"%s * %s = %s\"%(a,b,a*b))\n",
    "elif operation == '/':\n",
    "    print(\"%s / %s = %s\"%(a,b,a/b))\n",
    "else:\n",
    "    print(\"Hatalı bir işlem yaptınız. Lütfen tekrar deneyin.\")"
   ]
  },
  {
   "cell_type": "code",
   "execution_count": 14,
   "id": "1b7fa34f-fb39-4247-9b75-6e44b49e62d0",
   "metadata": {},
   "outputs": [
    {
     "name": "stdin",
     "output_type": "stream",
     "text": [
      "Bir sayı giriniz: 0\n"
     ]
    },
    {
     "name": "stdout",
     "output_type": "stream",
     "text": [
      "Pazar.\n"
     ]
    }
   ],
   "source": [
    "# Klavyeden girilen bir sayı tek ise ekrana cumartesi yazdıran, çift ise ekrana pazar yazdıran programı hazırlayınız.\n",
    "\n",
    "a = int(input(\"Bir sayı giriniz:\"))\n",
    "\n",
    "if a / 2 == 0:\n",
    "    print(\"Pazar.\")\n",
    "else\n",
    "    print(\"Cumartesi\")"
   ]
  },
  {
   "cell_type": "code",
   "execution_count": 13,
   "id": "d2b78299-b2c7-4383-948d-20b359134089",
   "metadata": {},
   "outputs": [
    {
     "name": "stdin",
     "output_type": "stream",
     "text": [
      "Lütfen 1 ie 7 arasında bir rakam girin: 987\n"
     ]
    },
    {
     "name": "stdout",
     "output_type": "stream",
     "text": [
      "Girdiğiniz sayı hatalı.\n"
     ]
    }
   ],
   "source": [
    "# Kullanıcıdan 1 ile 7 arasında bir rakam isteyip kullanıcının girdiği rakam haftanın hangi gününe denk geliyorsa, o günü ekrana yazdıran programı hazırlayın.\n",
    "\n",
    "day = float(input(\"Lütfen 1 ie 7 arasında bir rakam girin:\"))\n",
    "\n",
    "if day == 1:\n",
    "    print(\"Pazartesi\")\n",
    "elif day == 2:\n",
    "    print(\"Salı\")\n",
    "elif day == 3: \n",
    "    print(\"Çarşamba\")\n",
    "elif day == 4: \n",
    "    print(\"Perşembe\")\n",
    "elif day == 5: \n",
    "    print(\"Cuma\")\n",
    "elif day == 6: \n",
    "    print(\"Cumartesi\")\n",
    "elif day == 7: \n",
    "    print(\"Pazar\")\n",
    "else:\n",
    "    print(\"Girdiğiniz sayı hatalı.\")"
   ]
  },
  {
   "cell_type": "code",
   "execution_count": null,
   "id": "eba640b6-f2d5-4f71-a00f-98aab11cdf52",
   "metadata": {},
   "outputs": [],
   "source": []
  }
 ],
 "metadata": {
  "kernelspec": {
   "display_name": "Python 3 (ipykernel)",
   "language": "python",
   "name": "python3"
  },
  "language_info": {
   "codemirror_mode": {
    "name": "ipython",
    "version": 3
   },
   "file_extension": ".py",
   "mimetype": "text/x-python",
   "name": "python",
   "nbconvert_exporter": "python",
   "pygments_lexer": "ipython3",
   "version": "3.11.7"
  }
 },
 "nbformat": 4,
 "nbformat_minor": 5
}
