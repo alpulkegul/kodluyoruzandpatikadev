{
  "metadata": {
    "kernelspec": {
      "name": "python",
      "display_name": "Python (Pyodide)",
      "language": "python"
    },
    "language_info": {
      "codemirror_mode": {
        "name": "python",
        "version": 3
      },
      "file_extension": ".py",
      "mimetype": "text/x-python",
      "name": "python",
      "nbconvert_exporter": "python",
      "pygments_lexer": "ipython3",
      "version": "3.8"
    }
  },
  "nbformat_minor": 4,
  "nbformat": 4,
  "cells": [
    {
      "cell_type": "markdown",
      "source": "# String'lerde Değer Atama",
      "metadata": {}
    },
    {
      "cell_type": "markdown",
      "source": "Sayısal veri tiplerinde nasıl değer atayabiliyorsak stringlerde de atayabiliyoruz.",
      "metadata": {}
    },
    {
      "cell_type": "code",
      "source": "merhaba = \"Merhaba, bugün nasılsın?\"\nprint(merhaba)",
      "metadata": {
        "trusted": true
      },
      "outputs": [
        {
          "name": "stdout",
          "text": "Merhaba, bugün nasılsın?\n",
          "output_type": "stream"
        }
      ],
      "execution_count": 4
    },
    {
      "cell_type": "markdown",
      "source": "## Concatenation (birleştirme)",
      "metadata": {}
    },
    {
      "cell_type": "code",
      "source": "\"5\" + \"4\"",
      "metadata": {
        "trusted": true
      },
      "outputs": [
        {
          "execution_count": 8,
          "output_type": "execute_result",
          "data": {
            "text/plain": "'54'"
          },
          "metadata": {}
        }
      ],
      "execution_count": 8
    },
    {
      "cell_type": "code",
      "source": "\"hey\" + \" nasılsın\"",
      "metadata": {
        "trusted": true
      },
      "outputs": [
        {
          "execution_count": 12,
          "output_type": "execute_result",
          "data": {
            "text/plain": "'hey nasılsın'"
          },
          "metadata": {}
        }
      ],
      "execution_count": 12
    },
    {
      "cell_type": "code",
      "source": "mesaj = \"Merhaba\"\nisim = \"Berkay\"\nmesaj + \" \" + isim",
      "metadata": {
        "trusted": true
      },
      "outputs": [
        {
          "execution_count": 16,
          "output_type": "execute_result",
          "data": {
            "text/plain": "'Merhaba Berkay'"
          },
          "metadata": {}
        }
      ],
      "execution_count": 16
    },
    {
      "cell_type": "code",
      "source": "mesaj = \"Merhaba\"\nisim = \"Berkay\"\nmesaj + \" \" + isim\nkarsilama = mesaj + \" \" + isim\nprint(karsilama)",
      "metadata": {
        "trusted": true
      },
      "outputs": [
        {
          "name": "stdout",
          "text": "Merhaba Berkay\n",
          "output_type": "stream"
        }
      ],
      "execution_count": 19
    },
    {
      "cell_type": "code",
      "source": "",
      "metadata": {
        "trusted": true
      },
      "outputs": [],
      "execution_count": null
    }
  ]
}