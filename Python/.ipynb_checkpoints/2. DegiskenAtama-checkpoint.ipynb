{
  "metadata": {
    "kernelspec": {
      "name": "python",
      "display_name": "Python (Pyodide)",
      "language": "python"
    },
    "language_info": {
      "codemirror_mode": {
        "name": "python",
        "version": 3
      },
      "file_extension": ".py",
      "mimetype": "text/x-python",
      "name": "python",
      "nbconvert_exporter": "python",
      "pygments_lexer": "ipython3",
      "version": "3.8"
    }
  },
  "nbformat_minor": 4,
  "nbformat": 4,
  "cells": [
    {
      "cell_type": "markdown",
      "source": "# Değişken Atama",
      "metadata": {}
    },
    {
      "cell_type": "markdown",
      "source": "* Bazı değerleri bilgisayarın hafızasında tutmak ve daha sonra bunlara verdiğimiz adlarla erişmek isteyebiliriz. Bunu variable'ler ile gerçekleştireceğiz",
      "metadata": {}
    },
    {
      "cell_type": "markdown",
      "source": "* İlk olarak yapacağımız şey variable'ye vereceğimiz ismi yazmak. Bu isim penguen, uzunluk, maaş gibi istediğiniz bir isim olabilir. (Daha önce python'ın default olarak kullanmadığı isimler olmalı. if,continue vs olamaz.)",
      "metadata": {}
    },
    {
      "cell_type": "code",
      "source": "",
      "metadata": {
        "trusted": true
      },
      "outputs": [],
      "execution_count": null
    }
  ]
}