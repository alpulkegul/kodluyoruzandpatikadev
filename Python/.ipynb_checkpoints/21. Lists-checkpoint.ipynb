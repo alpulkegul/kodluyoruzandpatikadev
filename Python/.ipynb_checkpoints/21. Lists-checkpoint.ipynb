{
 "cells": [
  {
   "cell_type": "markdown",
   "id": "b69dca27-0601-4338-93fd-b7bf39f139bb",
   "metadata": {},
   "source": [
    "# List"
   ]
  },
  {
   "cell_type": "markdown",
   "id": "91a5f005-1c97-4ad5-9303-bd2423244236",
   "metadata": {},
   "source": [
    "Elimizdeki verileri gruplamak bir yapı altında tutmak isteyebiliriz.\n",
    "\n",
    "\n",
    "Mesela bir sınıftaki öğrencilerin notlarını tutmak istiyorum. 5 farklı öğrenci var, şimdiye kadar öğrendiklerimizle şöyle yapabilirdim:"
   ]
  },
  {
   "cell_type": "code",
   "execution_count": 1,
   "id": "a5ed6447-538a-40ec-8683-c27f8e95a636",
   "metadata": {},
   "outputs": [],
   "source": [
    "ogrenci_1 = 78\n",
    "ogrenci_2 = 80\n",
    "ogrenci_3 = 43\n",
    "ogrenci_4 = 65\n",
    "ogrenci_5 = 90"
   ]
  },
  {
   "cell_type": "markdown",
   "id": "9089d990-8d43-4b4b-9a6a-2c66eb7705c4",
   "metadata": {},
   "source": [
    "Bunların hepsi bir sınıftaki notları ifade ediyor. Bunları bir veri tipi olarak bir arada tutsak daha mantıklı olmaz mı?\n",
    "\n",
    "\n",
    "list veri tipi de tam burada devreye giriyor. Birden çok veriyi gruplayıp bir arada tutmak istediğimizde kullanabileceğimiz bir yapıdır.\n",
    "\n",
    "\n",
    "listler belirtirken köşeli parantezle belirtiyoruz: [element1, element2,...].\n",
    "\n",
    "\n",
    "listler içsel yapı içerdikleri için non-scalar veri tipidir.\n",
    "\n",
    "\n",
    "Elemanları arasına virgül koyarak farklı eleman belirtmeye başladığımı ifade ediyorum.\n"
   ]
  },
  {
   "cell_type": "code",
   "execution_count": 2,
   "id": "d5af3a18-607b-4145-bc73-35a8782f0b27",
   "metadata": {},
   "outputs": [],
   "source": [
    "notlar = [78, 80, 43, 65, 90]"
   ]
  },
  {
   "cell_type": "code",
   "execution_count": 5,
   "id": "26c8101d-e644-4fc1-b10b-cc1a75311052",
   "metadata": {},
   "outputs": [],
   "source": [
    "# bunun aynısını şu şekilde de tutabilirdik: \n",
    "notlar = [ogrenci_1, ogrenci_2, ogrenci_3, ogrenci_4, ogrenci_5]"
   ]
  },
  {
   "cell_type": "markdown",
   "id": "d31c61a5-739c-44bb-a7f3-0bf2f9d5df3a",
   "metadata": {},
   "source": [
    "Bu oluşturduğumuz yapının ilk elemanı ilk öğrencinin notu, ikinci elemanı ikinci öğrencinin notunu belirtiyor (bu mantık böyle devam ediyor). Böylece öğrencilerin notlarını farklı 5 değişkende tutmak yerine bir veri tipi altında düzenli tutabilmiş olduk.\n",
    "\n",
    "\n",
    "Nasıl ki stringlerde elemanlarına indexleme yaparak [0] gibi değerlerle ulaşabiliyorsak, listlerde de aynı durum söz konusu.\n",
    "\n",
    "\n",
    "notlar listesinin ilk elemanına ulaşmak için:\n"
   ]
  },
  {
   "cell_type": "code",
   "execution_count": 6,
   "id": "96b7745c-03e4-46fd-8d01-587b2e26025b",
   "metadata": {},
   "outputs": [
    {
     "data": {
      "text/plain": [
       "78"
      ]
     },
     "execution_count": 6,
     "metadata": {},
     "output_type": "execute_result"
    }
   ],
   "source": [
    "# ogrenci_1 in notu\n",
    "notlar[0]"
   ]
  },
  {
   "cell_type": "markdown",
   "id": "45a3afdd-8181-4393-a936-5ad1c37f780f",
   "metadata": {},
   "source": [
    "list'lerin içine istediğimiz veri tipini koyabiliriz. listeleri sadece verilerimi içine koyduğumuz bir kutu olarak düşünün, listlerin tek yaptığı şey bunları bir arada tutmak. Elemanları istediğim veri objesi olabilir. int, float, string, hatta listler bile!\n"
   ]
  },
  {
   "cell_type": "code",
   "execution_count": 8,
   "id": "be1a87ce-cef4-4e59-9928-eccf62ffbbfc",
   "metadata": {},
   "outputs": [
    {
     "data": {
      "text/plain": [
       "['a', 'b']"
      ]
     },
     "execution_count": 8,
     "metadata": {},
     "output_type": "execute_result"
    }
   ],
   "source": [
    "[\"a\",\"b\"]"
   ]
  },
  {
   "cell_type": "code",
   "execution_count": 9,
   "id": "9ddd0884-d674-42f7-a827-aae6f6d51f7c",
   "metadata": {},
   "outputs": [
    {
     "data": {
      "text/plain": [
       "[True, False]"
      ]
     },
     "execution_count": 9,
     "metadata": {},
     "output_type": "execute_result"
    }
   ],
   "source": [
    "[True, False]"
   ]
  },
  {
   "cell_type": "code",
   "execution_count": 10,
   "id": "3c627ec5-58c3-4734-a8f2-819186f816d6",
   "metadata": {},
   "outputs": [
    {
     "data": {
      "text/plain": [
       "[[1, 2], [3, 4, 5]]"
      ]
     },
     "execution_count": 10,
     "metadata": {},
     "output_type": "execute_result"
    }
   ],
   "source": [
    "[[1,2], [3,4,5]]"
   ]
  },
  {
   "cell_type": "markdown",
   "id": "6606cb97-92c9-4761-babf-2efc21380530",
   "metadata": {
    "jp-MarkdownHeadingCollapsed": true
   },
   "source": [
    "## Listler Farklı Veri Tiplerini İçerebilir"
   ]
  },
  {
   "cell_type": "markdown",
   "id": "4f835682-6c06-4112-898c-d95a6def131e",
   "metadata": {},
   "source": [
    "Aynı list'in içine farklı tipte veri tipleri koyabiliriz."
   ]
  },
  {
   "cell_type": "code",
   "execution_count": 11,
   "id": "e856ac5c-7e03-4ebb-bb8d-c00dd251fbb8",
   "metadata": {},
   "outputs": [],
   "source": [
    "l = [1, 2, \"a\", \"b\", True, 4.5, [1,2,3]]"
   ]
  },
  {
   "cell_type": "code",
   "execution_count": 12,
   "id": "9ac1b907-4b39-4809-a5b8-2263544395ff",
   "metadata": {},
   "outputs": [
    {
     "data": {
      "text/plain": [
       "[1, 2, 'a', 'b', True, 4.5, [1, 2, 3]]"
      ]
     },
     "execution_count": 12,
     "metadata": {},
     "output_type": "execute_result"
    }
   ],
   "source": [
    "l"
   ]
  },
  {
   "cell_type": "markdown",
   "id": "257eaf0f-023c-4c61-a0e5-4e535548d095",
   "metadata": {
    "jp-MarkdownHeadingCollapsed": true
   },
   "source": [
    "## Indexing ve Slicing"
   ]
  },
  {
   "cell_type": "markdown",
   "id": "5c50b13c-144c-4fc1-a896-c1f73a0696bf",
   "metadata": {},
   "source": [
    "String konusunda yaptığımız indexleme mantığı ve slicing mantığı tamamen listler için de geçerli.\n"
   ]
  },
  {
   "cell_type": "code",
   "execution_count": 13,
   "id": "7e73d487-8868-40b8-b14b-d5ba33a7248d",
   "metadata": {},
   "outputs": [
    {
     "data": {
      "text/plain": [
       "[78, 80, 43, 65, 90]"
      ]
     },
     "execution_count": 13,
     "metadata": {},
     "output_type": "execute_result"
    }
   ],
   "source": [
    "notlar"
   ]
  },
  {
   "cell_type": "code",
   "execution_count": 14,
   "id": "b40e40d2-0f38-418b-a3d7-a36d8a72e1fc",
   "metadata": {},
   "outputs": [
    {
     "data": {
      "text/plain": [
       "78"
      ]
     },
     "execution_count": 14,
     "metadata": {},
     "output_type": "execute_result"
    }
   ],
   "source": [
    "notlar[0]"
   ]
  },
  {
   "cell_type": "code",
   "execution_count": 15,
   "id": "60cf7ee4-47f5-4625-8d82-d5eb363ff597",
   "metadata": {},
   "outputs": [
    {
     "data": {
      "text/plain": [
       "90"
      ]
     },
     "execution_count": 15,
     "metadata": {},
     "output_type": "execute_result"
    }
   ],
   "source": [
    "notlar[-1]"
   ]
  },
  {
   "cell_type": "code",
   "execution_count": 16,
   "id": "e269e67c-8a54-4711-bbac-7f6db39a6bd9",
   "metadata": {},
   "outputs": [
    {
     "ename": "IndexError",
     "evalue": "list index out of range",
     "output_type": "error",
     "traceback": [
      "\u001b[1;31m---------------------------------------------------------------------------\u001b[0m",
      "\u001b[1;31mIndexError\u001b[0m                                Traceback (most recent call last)",
      "Cell \u001b[1;32mIn[16], line 1\u001b[0m\n\u001b[1;32m----> 1\u001b[0m notlar[\u001b[38;5;241m10\u001b[39m]\n",
      "\u001b[1;31mIndexError\u001b[0m: list index out of range"
     ]
    }
   ],
   "source": [
    "notlar[10]"
   ]
  },
  {
   "cell_type": "code",
   "execution_count": 17,
   "id": "cf919c28-a7e3-4fe4-8939-0b530c356699",
   "metadata": {},
   "outputs": [
    {
     "data": {
      "text/plain": [
       "[80, 43, 65, 90]"
      ]
     },
     "execution_count": 17,
     "metadata": {},
     "output_type": "execute_result"
    }
   ],
   "source": [
    "notlar[1:]"
   ]
  },
  {
   "cell_type": "code",
   "execution_count": 18,
   "id": "4d79a124-24c1-46fe-bfa3-1a31b47bf70e",
   "metadata": {},
   "outputs": [
    {
     "data": {
      "text/plain": [
       "[80, 43]"
      ]
     },
     "execution_count": 18,
     "metadata": {},
     "output_type": "execute_result"
    }
   ],
   "source": [
    "notlar[1:3]"
   ]
  },
  {
   "cell_type": "code",
   "execution_count": 19,
   "id": "27fe2fa4-0a96-4d40-9bac-eb16db4edeb4",
   "metadata": {},
   "outputs": [
    {
     "data": {
      "text/plain": [
       "[78, 80, 43, 65, 90]"
      ]
     },
     "execution_count": 19,
     "metadata": {},
     "output_type": "execute_result"
    }
   ],
   "source": [
    "notlar[:200]"
   ]
  },
  {
   "cell_type": "code",
   "execution_count": 20,
   "id": "eb977db3-2704-4880-bda1-cb064d9030c6",
   "metadata": {},
   "outputs": [
    {
     "data": {
      "text/plain": [
       "[78, 80, 43, 65, 90]"
      ]
     },
     "execution_count": 20,
     "metadata": {},
     "output_type": "execute_result"
    }
   ],
   "source": [
    "notlar[:3000]"
   ]
  },
  {
   "cell_type": "markdown",
   "id": "8ba43d8f-2571-4ee0-bbb9-43ff757e3f19",
   "metadata": {
    "jp-MarkdownHeadingCollapsed": true
   },
   "source": [
    "## Listlerin Elemanları Değişebilir."
   ]
  },
  {
   "cell_type": "markdown",
   "id": "500b25a1-8a20-4465-bdc5-aacf7ba8a648",
   "metadata": {},
   "source": [
    "Listler mutable veri tipleridir. Elemanlarını güncelleyebiliriz."
   ]
  },
  {
   "cell_type": "code",
   "execution_count": 23,
   "id": "bcbf9a80-00ee-4cd5-87b0-a12827117d7a",
   "metadata": {},
   "outputs": [
    {
     "data": {
      "text/plain": [
       "[78, 80, 43, 65, 90]"
      ]
     },
     "execution_count": 23,
     "metadata": {},
     "output_type": "execute_result"
    }
   ],
   "source": [
    "notlar"
   ]
  },
  {
   "cell_type": "markdown",
   "id": "3f19d213-439f-46f7-910a-49150c84a8a3",
   "metadata": {},
   "source": [
    "Diyelim ki ikinci öğrencinin notunu eksik okuduk. 5 puan yükseltmek istiyoruz:"
   ]
  },
  {
   "cell_type": "code",
   "execution_count": 24,
   "id": "b8b89290-8e1c-429f-9aa7-39614a310b6d",
   "metadata": {},
   "outputs": [],
   "source": [
    "notlar[1] += 5 # notlar[1] = notlar[1] + 5"
   ]
  },
  {
   "cell_type": "code",
   "execution_count": 25,
   "id": "d7500fff-d6da-46af-8600-f4e055afe1e6",
   "metadata": {},
   "outputs": [
    {
     "data": {
      "text/plain": [
       "[78, 85, 43, 65, 90]"
      ]
     },
     "execution_count": 25,
     "metadata": {},
     "output_type": "execute_result"
    }
   ],
   "source": [
    "notlar"
   ]
  },
  {
   "cell_type": "markdown",
   "id": "e249f5eb-017b-4f85-a3fe-21bf1efb5899",
   "metadata": {},
   "source": [
    "Birden çok elemanı da değiştirebiliriz."
   ]
  },
  {
   "cell_type": "code",
   "execution_count": 26,
   "id": "4d9a1e02-cd72-4709-ab7d-730113aa7166",
   "metadata": {},
   "outputs": [],
   "source": [
    "l = [1, 2, 3, 4]"
   ]
  },
  {
   "cell_type": "code",
   "execution_count": 27,
   "id": "400d04f5-6484-4a34-988f-129f7bb1396d",
   "metadata": {},
   "outputs": [
    {
     "data": {
      "text/plain": [
       "[1, 2, 3]"
      ]
     },
     "execution_count": 27,
     "metadata": {},
     "output_type": "execute_result"
    }
   ],
   "source": [
    "l[0:3]"
   ]
  },
  {
   "cell_type": "code",
   "execution_count": 28,
   "id": "915dd235-081b-4cc4-9dc2-c8551d8f850e",
   "metadata": {},
   "outputs": [],
   "source": [
    "l[0:3] = 30, 40, 60"
   ]
  },
  {
   "cell_type": "code",
   "execution_count": 29,
   "id": "672ba525-62f4-4376-b8c7-4dd89347b75d",
   "metadata": {},
   "outputs": [
    {
     "data": {
      "text/plain": [
       "[30, 40, 60, 4]"
      ]
     },
     "execution_count": 29,
     "metadata": {},
     "output_type": "execute_result"
    }
   ],
   "source": [
    "l"
   ]
  },
  {
   "cell_type": "markdown",
   "id": "b90a7b28-49bf-4611-9671-9f2e421b4428",
   "metadata": {},
   "source": [
    "Eşit sayıda vermemiz de gerekmez, l[0:3] olacak yere sadece solda yazdığımız yazılır."
   ]
  },
  {
   "cell_type": "code",
   "execution_count": 30,
   "id": "4e695467-b11c-4aba-a575-32c3e03593fa",
   "metadata": {},
   "outputs": [],
   "source": [
    "l[0:3] = 30, 40"
   ]
  },
  {
   "cell_type": "code",
   "execution_count": 31,
   "id": "2f954dad-ff17-4f0f-8f51-0813f11f9438",
   "metadata": {},
   "outputs": [
    {
     "data": {
      "text/plain": [
       "[30, 40, 4]"
      ]
     },
     "execution_count": 31,
     "metadata": {},
     "output_type": "execute_result"
    }
   ],
   "source": [
    "l"
   ]
  },
  {
   "cell_type": "code",
   "execution_count": 33,
   "id": "b403883f-5473-4911-b2b1-dfc5cc2f7cb1",
   "metadata": {},
   "outputs": [],
   "source": [
    "l = [1,2,3,4]"
   ]
  },
  {
   "cell_type": "code",
   "execution_count": 34,
   "id": "bd893bd7-4b26-46fd-be06-959fe58db5df",
   "metadata": {},
   "outputs": [
    {
     "ename": "TypeError",
     "evalue": "can only assign an iterable",
     "output_type": "error",
     "traceback": [
      "\u001b[1;31m---------------------------------------------------------------------------\u001b[0m",
      "\u001b[1;31mTypeError\u001b[0m                                 Traceback (most recent call last)",
      "Cell \u001b[1;32mIn[34], line 1\u001b[0m\n\u001b[1;32m----> 1\u001b[0m l[\u001b[38;5;241m0\u001b[39m:\u001b[38;5;241m3\u001b[39m] \u001b[38;5;241m=\u001b[39m \u001b[38;5;241m30\u001b[39m\n",
      "\u001b[1;31mTypeError\u001b[0m: can only assign an iterable"
     ]
    }
   ],
   "source": [
    "l[0:3] = 30"
   ]
  },
  {
   "cell_type": "markdown",
   "id": "f55fd57c-1862-4565-92cb-3d8c4c3329a6",
   "metadata": {},
   "source": [
    "Slicing'in sonucuna tek bir değer yazacaksak bile direkt tek olarak veremeyiz, iterable olması gerekir. Bunun ayrıntısını ileride göreceğiz şimdilik sol tarafı list olarak verebileceğimizi bilmeniz yeterli.\n"
   ]
  },
  {
   "cell_type": "code",
   "execution_count": 35,
   "id": "e2bb551a-122f-4647-a3ef-c43e15e49cd4",
   "metadata": {},
   "outputs": [],
   "source": [
    "l[0:3] = [30]"
   ]
  },
  {
   "cell_type": "code",
   "execution_count": 36,
   "id": "fe62ef6c-9da5-4337-91b3-d839f2b8a739",
   "metadata": {},
   "outputs": [
    {
     "data": {
      "text/plain": [
       "[30, 4]"
      ]
     },
     "execution_count": 36,
     "metadata": {},
     "output_type": "execute_result"
    }
   ],
   "source": [
    "l"
   ]
  },
  {
   "cell_type": "markdown",
   "id": "6d0ecf96-4230-4ab2-bf50-9510a8ed0b48",
   "metadata": {
    "jp-MarkdownHeadingCollapsed": true
   },
   "source": [
    "## len()"
   ]
  },
  {
   "cell_type": "markdown",
   "id": "e7448689-c0d3-4a7b-8a04-68fbed85963a",
   "metadata": {},
   "source": [
    "Bize list'te kaç eleman olduğunu verir."
   ]
  },
  {
   "cell_type": "code",
   "execution_count": 37,
   "id": "efb6718c-50a5-4642-8a51-fb5d43ef959e",
   "metadata": {},
   "outputs": [
    {
     "data": {
      "text/plain": [
       "[30, 4]"
      ]
     },
     "execution_count": 37,
     "metadata": {},
     "output_type": "execute_result"
    }
   ],
   "source": [
    "l"
   ]
  },
  {
   "cell_type": "code",
   "execution_count": 38,
   "id": "1482c86c-4771-4fce-a286-949772e21427",
   "metadata": {},
   "outputs": [
    {
     "data": {
      "text/plain": [
       "2"
      ]
     },
     "execution_count": 38,
     "metadata": {},
     "output_type": "execute_result"
    }
   ],
   "source": [
    "len(l)"
   ]
  },
  {
   "cell_type": "markdown",
   "id": "4249916c-8e72-491c-8a76-bb012e188105",
   "metadata": {},
   "source": [
    "## Listin Sonuna Eleman Eklemek"
   ]
  },
  {
   "cell_type": "markdown",
   "id": "77adff85-61d3-4e78-b9b9-edb14beb6837",
   "metadata": {
    "jp-MarkdownHeadingCollapsed": true
   },
   "source": [
    "### Append()"
   ]
  },
  {
   "cell_type": "code",
   "execution_count": 39,
   "id": "0cdec7d0-75f0-4f3a-b0d5-31fc1fe1acb7",
   "metadata": {},
   "outputs": [],
   "source": [
    "l=[1,2,3]"
   ]
  },
  {
   "cell_type": "code",
   "execution_count": 40,
   "id": "c57a060d-5d50-4da0-92e4-16fc12a702ca",
   "metadata": {},
   "outputs": [],
   "source": [
    "l.append(200)"
   ]
  },
  {
   "cell_type": "code",
   "execution_count": 41,
   "id": "cf9a7ff8-46d5-4887-94cf-83bb53ec9ae7",
   "metadata": {},
   "outputs": [
    {
     "data": {
      "text/plain": [
       "[1, 2, 3, 200]"
      ]
     },
     "execution_count": 41,
     "metadata": {},
     "output_type": "execute_result"
    }
   ],
   "source": [
    "l"
   ]
  },
  {
   "cell_type": "markdown",
   "id": "e7a5effd-b0ab-49a2-819e-4009d37b1918",
   "metadata": {
    "jp-MarkdownHeadingCollapsed": true
   },
   "source": [
    "### extend()"
   ]
  },
  {
   "cell_type": "markdown",
   "id": "18150856-c529-4674-b4f6-15d22ff7fd2d",
   "metadata": {},
   "source": [
    "İçine yazılan birden çok elemanı listenin sonuna ekler."
   ]
  },
  {
   "cell_type": "code",
   "execution_count": 42,
   "id": "16033bab-0866-44c3-bc27-0b97ff4e2414",
   "metadata": {},
   "outputs": [],
   "source": [
    "l = [1,2,3]"
   ]
  },
  {
   "cell_type": "code",
   "execution_count": 43,
   "id": "a01cf1cc-328b-4c34-a151-0fa311cc2538",
   "metadata": {},
   "outputs": [],
   "source": [
    "l.extend([100,200,300])"
   ]
  },
  {
   "cell_type": "code",
   "execution_count": 44,
   "id": "b18d7da8-aebf-41c2-bf6d-f2b7aec32336",
   "metadata": {},
   "outputs": [
    {
     "data": {
      "text/plain": [
       "[1, 2, 3, 100, 200, 300]"
      ]
     },
     "execution_count": 44,
     "metadata": {},
     "output_type": "execute_result"
    }
   ],
   "source": [
    "l"
   ]
  },
  {
   "cell_type": "markdown",
   "id": "d9e0974a-4837-45d2-9908-e06ad985b669",
   "metadata": {
    "jp-MarkdownHeadingCollapsed": true
   },
   "source": [
    "### Spesifik Bir Indexe Eleman Eklemek / ınsert()"
   ]
  },
  {
   "cell_type": "markdown",
   "id": "0a559451-f2c6-404a-ad27-44c9d7e734fd",
   "metadata": {},
   "source": [
    "Belki list'in sonuna değil, spesifik bir indexine eleman eklemek istiyoruz. Bunu insert() ile yapabiliriz."
   ]
  },
  {
   "cell_type": "code",
   "execution_count": 45,
   "id": "b36cb1af-028e-4ee3-8ad0-174065dd1159",
   "metadata": {},
   "outputs": [],
   "source": [
    "l = [1, 2, 3, 4, 5]"
   ]
  },
  {
   "cell_type": "code",
   "execution_count": 46,
   "id": "73886e24-fcac-4cb2-9865-73c4b9adf673",
   "metadata": {},
   "outputs": [],
   "source": [
    "l[0] = 100"
   ]
  },
  {
   "cell_type": "code",
   "execution_count": 47,
   "id": "6f0f832e-ad55-49fb-b2f3-ede5c9292fea",
   "metadata": {},
   "outputs": [
    {
     "data": {
      "text/plain": [
       "[100, 2, 3, 4, 5]"
      ]
     },
     "execution_count": 47,
     "metadata": {},
     "output_type": "execute_result"
    }
   ],
   "source": [
    "l"
   ]
  },
  {
   "cell_type": "code",
   "execution_count": 48,
   "id": "d5058242-b9f0-49ca-8762-2a56bf9b6175",
   "metadata": {},
   "outputs": [],
   "source": [
    "l = [1, 2, 3, 4, 5]"
   ]
  },
  {
   "cell_type": "code",
   "execution_count": 49,
   "id": "aeb8579f-0003-491c-a8a8-61713adeed57",
   "metadata": {},
   "outputs": [],
   "source": [
    "l.insert(0, 100) # is not l[0] = 100"
   ]
  },
  {
   "cell_type": "markdown",
   "id": "18f5014f-a883-4658-bec3-b6336416edcc",
   "metadata": {},
   "source": [
    "eğer l[0] = 100 yazmış olsaydık, liste 100,2,3,4,5 e dönerdi, ama ben 1->100 dönüşümü yapmak istemiyorum, ilk indexe 100'ü eklemek istiyorum. l.insert(0,100) tam da istediğimi yapıyor. 0. indexe 100 değerini yazıyor ve 1 değerini sağa kaydırıyor, listeden silmemiş oluyor."
   ]
  },
  {
   "cell_type": "code",
   "execution_count": 50,
   "id": "ab58592a-0d47-4153-9171-002fa5fd4721",
   "metadata": {},
   "outputs": [
    {
     "data": {
      "text/plain": [
       "[100, 1, 2, 3, 4, 5]"
      ]
     },
     "execution_count": 50,
     "metadata": {},
     "output_type": "execute_result"
    }
   ],
   "source": [
    "l"
   ]
  },
  {
   "cell_type": "code",
   "execution_count": 53,
   "id": "3995fe23-d79e-4b10-b99e-b0cbc514690c",
   "metadata": {},
   "outputs": [],
   "source": [
    "l.insert(3,44)"
   ]
  },
  {
   "cell_type": "code",
   "execution_count": 54,
   "id": "9e86120c-307d-49ec-af49-b155e8a9ff9a",
   "metadata": {},
   "outputs": [
    {
     "data": {
      "text/plain": [
       "[100, 1, 2, 44, 3, 4, 5]"
      ]
     },
     "execution_count": 54,
     "metadata": {},
     "output_type": "execute_result"
    }
   ],
   "source": [
    "l"
   ]
  },
  {
   "cell_type": "markdown",
   "id": "6e08dc08-bdfc-4097-b8bc-112ec4ed333b",
   "metadata": {
    "jp-MarkdownHeadingCollapsed": true
   },
   "source": [
    "### remove()"
   ]
  },
  {
   "cell_type": "markdown",
   "id": "439426f4-fafc-442b-afb3-20b02d14a066",
   "metadata": {},
   "source": [
    "Belirli bir elemanı listeden silmemize yarar. Eğer yazılan eleman listede yoksa error verir."
   ]
  },
  {
   "cell_type": "code",
   "execution_count": 55,
   "id": "0657106c-2b37-4257-8edd-db441f40137f",
   "metadata": {},
   "outputs": [],
   "source": [
    "l = [1,2,3,4]"
   ]
  },
  {
   "cell_type": "code",
   "execution_count": 56,
   "id": "6df080a1-5608-42bb-892f-c8862f57a3af",
   "metadata": {},
   "outputs": [
    {
     "ename": "ValueError",
     "evalue": "list.remove(x): x not in list",
     "output_type": "error",
     "traceback": [
      "\u001b[1;31m---------------------------------------------------------------------------\u001b[0m",
      "\u001b[1;31mValueError\u001b[0m                                Traceback (most recent call last)",
      "Cell \u001b[1;32mIn[56], line 1\u001b[0m\n\u001b[1;32m----> 1\u001b[0m l\u001b[38;5;241m.\u001b[39mremove(\u001b[38;5;241m40\u001b[39m)\n",
      "\u001b[1;31mValueError\u001b[0m: list.remove(x): x not in list"
     ]
    }
   ],
   "source": [
    "l.remove(40)"
   ]
  },
  {
   "cell_type": "markdown",
   "id": "0f087171-3332-4517-8548-04c47a35e778",
   "metadata": {},
   "source": [
    "Bunu try-except ile çözebiliriz ama daha o konuyu görmedik. Yine de aşağıya kodu ekliyorum."
   ]
  },
  {
   "cell_type": "code",
   "execution_count": 57,
   "id": "47dfa8dc-4795-46e6-ad77-9330064b7fef",
   "metadata": {},
   "outputs": [],
   "source": [
    "try:\n",
    "    l.remove(40)\n",
    "except ValueError:\n",
    "    pass"
   ]
  },
  {
   "cell_type": "markdown",
   "id": "e44f1ec4-ee4c-46ee-969a-d363261fde31",
   "metadata": {},
   "source": [
    "remove() sadece ilk gördüğü değeri siler. l.remove(40) dersem ve listede 1'den çok 40 varsa ilk gördüğünü siler."
   ]
  },
  {
   "cell_type": "code",
   "execution_count": 58,
   "id": "ee8674bd-0850-4a28-ac87-e61e59ff48df",
   "metadata": {},
   "outputs": [],
   "source": [
    "l = [1,2,3,40,30,40]"
   ]
  },
  {
   "cell_type": "code",
   "execution_count": 59,
   "id": "02db2ab0-c806-448c-9457-1e820bd51458",
   "metadata": {},
   "outputs": [],
   "source": [
    "l.remove(40)"
   ]
  },
  {
   "cell_type": "code",
   "execution_count": 60,
   "id": "f07602de-1b81-4630-bf39-7c802ed8ef39",
   "metadata": {},
   "outputs": [
    {
     "data": {
      "text/plain": [
       "[1, 2, 3, 30, 40]"
      ]
     },
     "execution_count": 60,
     "metadata": {},
     "output_type": "execute_result"
    }
   ],
   "source": [
    "l"
   ]
  },
  {
   "cell_type": "markdown",
   "id": "a3f79cfa-d6a8-4c20-9dae-21aa0d52b6e0",
   "metadata": {
    "jp-MarkdownHeadingCollapsed": true
   },
   "source": [
    "### pop()"
   ]
  },
  {
   "cell_type": "markdown",
   "id": "ce39e300-5160-408e-8599-68c893201905",
   "metadata": {},
   "source": [
    "listenin belirli indexindeki elemanı silmeye ve o değeri döndürmeye yarar."
   ]
  },
  {
   "cell_type": "markdown",
   "id": "e0e46ff7-37d8-4a4b-a25c-097d08632459",
   "metadata": {},
   "source": [
    "remove() sadece siliyordu, pop() aynı zamanda o değeri döndürüyor."
   ]
  },
  {
   "cell_type": "code",
   "execution_count": 63,
   "id": "8face9d3-8967-443b-b4a4-1f471f0c7f9d",
   "metadata": {},
   "outputs": [],
   "source": [
    "l = [1,2,3,4,5,6]"
   ]
  },
  {
   "cell_type": "code",
   "execution_count": 64,
   "id": "ddc69d3c-1eae-4b38-a6d2-6067f93bb14c",
   "metadata": {},
   "outputs": [
    {
     "data": {
      "text/plain": [
       "2"
      ]
     },
     "execution_count": 64,
     "metadata": {},
     "output_type": "execute_result"
    }
   ],
   "source": [
    "# It deletes and return the value, remove() just removes it\n",
    "l.pop(1)"
   ]
  },
  {
   "cell_type": "code",
   "execution_count": 65,
   "id": "ff8e9142-509f-4225-a93c-5bae028325c5",
   "metadata": {},
   "outputs": [
    {
     "data": {
      "text/plain": [
       "[1, 3, 4, 5, 6]"
      ]
     },
     "execution_count": 65,
     "metadata": {},
     "output_type": "execute_result"
    }
   ],
   "source": [
    "l"
   ]
  },
  {
   "cell_type": "code",
   "execution_count": 66,
   "id": "dcc721ef-8975-41cf-a637-8f24d59a7014",
   "metadata": {},
   "outputs": [],
   "source": [
    "l = [1,2,3,4,5,6]"
   ]
  },
  {
   "cell_type": "code",
   "execution_count": 67,
   "id": "c38f3b75-d79b-481d-87f9-71ec63d4d147",
   "metadata": {},
   "outputs": [
    {
     "data": {
      "text/plain": [
       "6"
      ]
     },
     "execution_count": 67,
     "metadata": {},
     "output_type": "execute_result"
    }
   ],
   "source": [
    "l.pop(1) + 4"
   ]
  },
  {
   "cell_type": "code",
   "execution_count": 68,
   "id": "4b4f939f-8d09-4d1f-a7ae-ce91f9973768",
   "metadata": {},
   "outputs": [
    {
     "data": {
      "text/plain": [
       "[1, 3, 4, 5, 6]"
      ]
     },
     "execution_count": 68,
     "metadata": {},
     "output_type": "execute_result"
    }
   ],
   "source": [
    "l"
   ]
  },
  {
   "cell_type": "code",
   "execution_count": 69,
   "id": "e85388a5-ecaa-437c-b687-fa4ebcdd0819",
   "metadata": {},
   "outputs": [
    {
     "ename": "IndexError",
     "evalue": "pop index out of range",
     "output_type": "error",
     "traceback": [
      "\u001b[1;31m---------------------------------------------------------------------------\u001b[0m",
      "\u001b[1;31mIndexError\u001b[0m                                Traceback (most recent call last)",
      "Cell \u001b[1;32mIn[69], line 2\u001b[0m\n\u001b[0;32m      1\u001b[0m \u001b[38;5;66;03m# out of range error\u001b[39;00m\n\u001b[1;32m----> 2\u001b[0m l\u001b[38;5;241m.\u001b[39mpop(\u001b[38;5;241m100\u001b[39m)\n",
      "\u001b[1;31mIndexError\u001b[0m: pop index out of range"
     ]
    }
   ],
   "source": [
    "# out of range error\n",
    "l.pop(100)"
   ]
  },
  {
   "cell_type": "markdown",
   "id": "81657b86-2578-44e2-9ef7-f031c733c909",
   "metadata": {
    "jp-MarkdownHeadingCollapsed": true
   },
   "source": [
    "### count()"
   ]
  },
  {
   "cell_type": "markdown",
   "id": "52e14501-c19a-4248-9d21-018ec187c6d1",
   "metadata": {},
   "source": [
    "count()'un içine yazdığımız değerin listede kaç defa göründüğünü döndürür."
   ]
  },
  {
   "cell_type": "code",
   "execution_count": 71,
   "id": "cea73700-7384-49e5-b003-0a1d40866741",
   "metadata": {},
   "outputs": [],
   "source": [
    "l = [1, 2, 44, 4, 5, 1]"
   ]
  },
  {
   "cell_type": "code",
   "execution_count": 72,
   "id": "1156a45e-6124-4799-ba52-9d5f9e440992",
   "metadata": {},
   "outputs": [
    {
     "data": {
      "text/plain": [
       "2"
      ]
     },
     "execution_count": 72,
     "metadata": {},
     "output_type": "execute_result"
    }
   ],
   "source": [
    "l.count(1)"
   ]
  },
  {
   "cell_type": "code",
   "execution_count": 73,
   "id": "4cb13b2b-44c6-4f7d-96d1-d67d6306c9e7",
   "metadata": {},
   "outputs": [
    {
     "data": {
      "text/plain": [
       "1"
      ]
     },
     "execution_count": 73,
     "metadata": {},
     "output_type": "execute_result"
    }
   ],
   "source": [
    "l.count(44)"
   ]
  },
  {
   "cell_type": "code",
   "execution_count": 74,
   "id": "22c4b896-f80b-4f5a-9a1e-43ad75abf408",
   "metadata": {},
   "outputs": [
    {
     "data": {
      "text/plain": [
       "0"
      ]
     },
     "execution_count": 74,
     "metadata": {},
     "output_type": "execute_result"
    }
   ],
   "source": [
    "l.count(1000)"
   ]
  },
  {
   "cell_type": "markdown",
   "id": "7bbf5127-1b79-4e6c-89eb-414c87ce23dc",
   "metadata": {
    "jp-MarkdownHeadingCollapsed": true
   },
   "source": [
    "### Aliasing"
   ]
  },
  {
   "cell_type": "markdown",
   "id": "88c045c8-61be-4719-85fa-2695b66ace6f",
   "metadata": {},
   "source": [
    "Listeler bilgisayarın hafızasında integer, float gibi veri tiplerinin tutulduğundan biraz daha farklı tutuluyor."
   ]
  },
  {
   "cell_type": "markdown",
   "id": "d65a7937-b4bd-45b5-abc8-f72d335a7188",
   "metadata": {},
   "source": [
    "a = 2 dediğimiz zaman hafızada a adında bir kutucuk oluşturuluyor demiştik."
   ]
  },
  {
   "cell_type": "code",
   "execution_count": 76,
   "id": "c87432ca-4c9e-4c89-ad45-52ae9e37cdb3",
   "metadata": {},
   "outputs": [],
   "source": [
    "a = 2"
   ]
  },
  {
   "cell_type": "markdown",
   "id": "e1206947-b0d6-45f4-a18c-f73a3cff6b60",
   "metadata": {},
   "source": [
    "a direkt o kutunun adı oluyor."
   ]
  },
  {
   "cell_type": "markdown",
   "id": "189af351-5712-4efd-af1e-6e86be6c5704",
   "metadata": {},
   "source": [
    "\n",
    "Ama listelerde durum böyle değil. l = [1,2,3] gibi bir liste yarattığımızda, l kutunun adı değil, kutuyu işaret eden etiketin adı oluyor."
   ]
  },
  {
   "cell_type": "code",
   "execution_count": 78,
   "id": "2fb12088-efad-4edc-a5ed-915392d2801c",
   "metadata": {},
   "outputs": [],
   "source": [
    "l = [1,2,3]"
   ]
  },
  {
   "cell_type": "markdown",
   "id": "129cf66b-8426-4055-8af5-a3a8469f7bac",
   "metadata": {},
   "source": [
    "Bu farkın getirdiği bazı yan etkiler var."
   ]
  },
  {
   "cell_type": "markdown",
   "id": "af19e191-9832-4f2b-98c7-84e564557e03",
   "metadata": {},
   "source": [
    "Mesela kutunun adı direkt değişken adı olduğunda ve aşağıdaki işlemi yaptığımızda:"
   ]
  },
  {
   "cell_type": "code",
   "execution_count": 81,
   "id": "05c99abc-90b8-4329-941a-a97846f0ae7e",
   "metadata": {},
   "outputs": [],
   "source": [
    "a = 2\n",
    "\n",
    "b = a"
   ]
  },
  {
   "cell_type": "code",
   "execution_count": 82,
   "id": "1658da32-bcce-46be-a76d-bef0a0b89669",
   "metadata": {},
   "outputs": [
    {
     "data": {
      "text/plain": [
       "2"
      ]
     },
     "execution_count": 82,
     "metadata": {},
     "output_type": "execute_result"
    }
   ],
   "source": [
    "b"
   ]
  },
  {
   "cell_type": "code",
   "execution_count": 83,
   "id": "eb7d1d7a-09a1-40fc-adf8-50e831ac035c",
   "metadata": {},
   "outputs": [],
   "source": [
    "a+=1"
   ]
  },
  {
   "cell_type": "code",
   "execution_count": 84,
   "id": "6d58b5bc-f7af-4692-8e80-73ce4e798db5",
   "metadata": {},
   "outputs": [
    {
     "data": {
      "text/plain": [
       "3"
      ]
     },
     "execution_count": 84,
     "metadata": {},
     "output_type": "execute_result"
    }
   ],
   "source": [
    "a"
   ]
  },
  {
   "cell_type": "code",
   "execution_count": 85,
   "id": "2494ea41-e4b2-4b44-8c22-0df0e5075ffe",
   "metadata": {},
   "outputs": [
    {
     "data": {
      "text/plain": [
       "2"
      ]
     },
     "execution_count": 85,
     "metadata": {},
     "output_type": "execute_result"
    }
   ],
   "source": [
    "b"
   ]
  },
  {
   "cell_type": "markdown",
   "id": "80cd6a38-ad5c-43ac-9428-50ae4df560c9",
   "metadata": {},
   "source": [
    "a yı güncellesek de b güncellenmiyor. b sadece a kutusunun değerine eşit olmuş oldu, kutunun kendisine değil."
   ]
  },
  {
   "cell_type": "markdown",
   "id": "7fd2f202-7a10-478a-b179-96c6d2331543",
   "metadata": {},
   "source": [
    "Aynısını listlerde yaptığımızda:"
   ]
  },
  {
   "cell_type": "code",
   "execution_count": 86,
   "id": "d1050c5c-9e11-45ca-bbbb-9360598d1044",
   "metadata": {},
   "outputs": [],
   "source": [
    "l = [1,2,3]"
   ]
  },
  {
   "cell_type": "code",
   "execution_count": 87,
   "id": "3fef810e-a5f8-4879-8822-09782aabac11",
   "metadata": {},
   "outputs": [],
   "source": [
    "l2 = l"
   ]
  },
  {
   "cell_type": "code",
   "execution_count": 88,
   "id": "1276dfd2-3388-4b37-8a07-bd8108fc5ea3",
   "metadata": {},
   "outputs": [
    {
     "data": {
      "text/plain": [
       "[1, 2, 3]"
      ]
     },
     "execution_count": 88,
     "metadata": {},
     "output_type": "execute_result"
    }
   ],
   "source": [
    "l"
   ]
  },
  {
   "cell_type": "code",
   "execution_count": 89,
   "id": "e6cf1aed-8cd3-45d8-b4e9-bf8a0b4373f2",
   "metadata": {},
   "outputs": [
    {
     "data": {
      "text/plain": [
       "[1, 2, 3]"
      ]
     },
     "execution_count": 89,
     "metadata": {},
     "output_type": "execute_result"
    }
   ],
   "source": [
    "l2"
   ]
  },
  {
   "cell_type": "code",
   "execution_count": 90,
   "id": "7d677af7-4446-4b4a-a3a4-94edd558e332",
   "metadata": {},
   "outputs": [],
   "source": [
    "l[0] = 200"
   ]
  },
  {
   "cell_type": "code",
   "execution_count": 91,
   "id": "dd0e3ad0-085b-4357-886a-dda28d930a23",
   "metadata": {},
   "outputs": [
    {
     "data": {
      "text/plain": [
       "[200, 2, 3]"
      ]
     },
     "execution_count": 91,
     "metadata": {},
     "output_type": "execute_result"
    }
   ],
   "source": [
    "l"
   ]
  },
  {
   "cell_type": "code",
   "execution_count": 92,
   "id": "fd902de1-f376-4abe-ae14-563858c9f1b9",
   "metadata": {},
   "outputs": [
    {
     "data": {
      "text/plain": [
       "[200, 2, 3]"
      ]
     },
     "execution_count": 92,
     "metadata": {},
     "output_type": "execute_result"
    }
   ],
   "source": [
    "l2"
   ]
  },
  {
   "cell_type": "markdown",
   "id": "c8618cac-0ae6-477b-b7d0-05c72352e1a6",
   "metadata": {},
   "source": [
    "l2 de güncellendi!"
   ]
  },
  {
   "cell_type": "markdown",
   "id": "6e34c167-4f80-4aad-99f0-2442166af05a",
   "metadata": {},
   "source": [
    "Çünkü l2 = l dediğimizde l2, l etiketinin değerine eşit oldu, iki etikette aynı kutuyu, veri objesini gösteriyor, o yüzden listeyi güncellemem ikisine de yansıyor.\n",
    "\n",
    "\n",
    "Git aynı değerle başka bir kutucuk yarat ve oraya etiket ol diyerek güncellenmemesini sağlayabilirim.\n",
    "\n",
    "\n",
    "Bunu copy() ile yapacağız."
   ]
  },
  {
   "cell_type": "code",
   "execution_count": 93,
   "id": "052b29e2-c63b-4349-a785-19bbbfefd5d9",
   "metadata": {},
   "outputs": [],
   "source": [
    "l2 = l.copy()"
   ]
  },
  {
   "cell_type": "code",
   "execution_count": 94,
   "id": "3c387415-d1dd-4563-a354-b50b970365b6",
   "metadata": {},
   "outputs": [
    {
     "data": {
      "text/plain": [
       "[200, 2, 3]"
      ]
     },
     "execution_count": 94,
     "metadata": {},
     "output_type": "execute_result"
    }
   ],
   "source": [
    "l"
   ]
  },
  {
   "cell_type": "code",
   "execution_count": 95,
   "id": "f4f5bfcd-2a91-4a56-b5ee-40c88ec9d75f",
   "metadata": {},
   "outputs": [
    {
     "data": {
      "text/plain": [
       "[200, 2, 3]"
      ]
     },
     "execution_count": 95,
     "metadata": {},
     "output_type": "execute_result"
    }
   ],
   "source": [
    "l2"
   ]
  },
  {
   "cell_type": "code",
   "execution_count": 96,
   "id": "a3b47294-cdad-43e5-808c-8dda16595010",
   "metadata": {},
   "outputs": [],
   "source": [
    "l[0] = 300"
   ]
  },
  {
   "cell_type": "code",
   "execution_count": 97,
   "id": "e9485725-991d-485a-8f4f-6d50d3559da1",
   "metadata": {},
   "outputs": [
    {
     "data": {
      "text/plain": [
       "[300, 2, 3]"
      ]
     },
     "execution_count": 97,
     "metadata": {},
     "output_type": "execute_result"
    }
   ],
   "source": [
    "l"
   ]
  },
  {
   "cell_type": "code",
   "execution_count": 98,
   "id": "081d74a1-a2ba-4c68-9f06-905929003376",
   "metadata": {},
   "outputs": [
    {
     "data": {
      "text/plain": [
       "[200, 2, 3]"
      ]
     },
     "execution_count": 98,
     "metadata": {},
     "output_type": "execute_result"
    }
   ],
   "source": [
    "l2"
   ]
  },
  {
   "cell_type": "markdown",
   "id": "d72d49e8-0f36-4aee-81e2-5440de34285a",
   "metadata": {
    "jp-MarkdownHeadingCollapsed": true
   },
   "source": [
    "### Listlerde Concatenation"
   ]
  },
  {
   "cell_type": "markdown",
   "id": "9b751c31-650a-4154-be0f-638d6f2493de",
   "metadata": {},
   "source": [
    "+ (+) operatörü listlerde concatenation yapar."
   ]
  },
  {
   "cell_type": "code",
   "execution_count": 99,
   "id": "4ea16d55-1533-486d-8337-1080bb6cfc2d",
   "metadata": {},
   "outputs": [],
   "source": [
    "l = [1,2,3]"
   ]
  },
  {
   "cell_type": "code",
   "execution_count": 100,
   "id": "6664468c-c81b-4104-8c21-adcbe9bf8e09",
   "metadata": {},
   "outputs": [],
   "source": [
    "l2 = [4,5,6]"
   ]
  },
  {
   "cell_type": "code",
   "execution_count": 101,
   "id": "c6100e2d-9b65-45ff-8220-f5be2c86e31c",
   "metadata": {},
   "outputs": [
    {
     "data": {
      "text/plain": [
       "[1, 2, 3]"
      ]
     },
     "execution_count": 101,
     "metadata": {},
     "output_type": "execute_result"
    }
   ],
   "source": [
    "l"
   ]
  },
  {
   "cell_type": "code",
   "execution_count": 102,
   "id": "cf527cd3-3c1c-452d-9df2-1b49bcd776b2",
   "metadata": {},
   "outputs": [
    {
     "data": {
      "text/plain": [
       "[1, 2, 3]"
      ]
     },
     "execution_count": 102,
     "metadata": {},
     "output_type": "execute_result"
    }
   ],
   "source": [
    "l"
   ]
  },
  {
   "cell_type": "code",
   "execution_count": 103,
   "id": "a0186548-008f-4cd9-9eec-e2c78787d2b2",
   "metadata": {},
   "outputs": [
    {
     "data": {
      "text/plain": [
       "[1, 2, 3, 4, 5, 6]"
      ]
     },
     "execution_count": 103,
     "metadata": {},
     "output_type": "execute_result"
    }
   ],
   "source": [
    "l+l2"
   ]
  },
  {
   "cell_type": "code",
   "execution_count": 104,
   "id": "b418a3d2-d390-4710-8043-fd8dcfb1492a",
   "metadata": {},
   "outputs": [
    {
     "data": {
      "text/plain": [
       "[1, 2, 3]"
      ]
     },
     "execution_count": 104,
     "metadata": {},
     "output_type": "execute_result"
    }
   ],
   "source": [
    "l"
   ]
  },
  {
   "cell_type": "code",
   "execution_count": 105,
   "id": "558f531e-2912-4ea8-9f3a-d450a6ecf8b8",
   "metadata": {},
   "outputs": [
    {
     "data": {
      "text/plain": [
       "[4, 5, 6]"
      ]
     },
     "execution_count": 105,
     "metadata": {},
     "output_type": "execute_result"
    }
   ],
   "source": [
    "l2"
   ]
  },
  {
   "cell_type": "code",
   "execution_count": 106,
   "id": "ef102877-77ff-4954-8f64-b2dabcc820bd",
   "metadata": {},
   "outputs": [],
   "source": [
    "l3 = l + l2"
   ]
  },
  {
   "cell_type": "code",
   "execution_count": 107,
   "id": "6024f457-d63f-4d32-b631-6bf4d3823967",
   "metadata": {},
   "outputs": [
    {
     "data": {
      "text/plain": [
       "[1, 2, 3, 4, 5, 6]"
      ]
     },
     "execution_count": 107,
     "metadata": {},
     "output_type": "execute_result"
    }
   ],
   "source": [
    "l3"
   ]
  },
  {
   "cell_type": "markdown",
   "id": "66d9abb1-99c1-4d19-abb8-314ffc84a1c3",
   "metadata": {
    "jp-MarkdownHeadingCollapsed": true
   },
   "source": [
    "### Belirli Bir Elemanın Indexini Bulmak"
   ]
  },
  {
   "cell_type": "code",
   "execution_count": 108,
   "id": "dbe06412-46eb-4fc6-8e30-094239b87e66",
   "metadata": {},
   "outputs": [],
   "source": [
    "l = [1, 2, 3, 4, 3, 5, 6]"
   ]
  },
  {
   "cell_type": "code",
   "execution_count": 109,
   "id": "64dd1123-f726-4b9d-a50d-1b97bbc99e48",
   "metadata": {},
   "outputs": [
    {
     "data": {
      "text/plain": [
       "[1, 2, 3, 4, 3, 5, 6]"
      ]
     },
     "execution_count": 109,
     "metadata": {},
     "output_type": "execute_result"
    }
   ],
   "source": [
    "l"
   ]
  },
  {
   "cell_type": "code",
   "execution_count": 110,
   "id": "c5020f7f-750f-4b02-8c03-7fda0bba3ebe",
   "metadata": {},
   "outputs": [
    {
     "data": {
      "text/plain": [
       "2"
      ]
     },
     "execution_count": 110,
     "metadata": {},
     "output_type": "execute_result"
    }
   ],
   "source": [
    "# İlk hangi indexte görünüyorsa onun değerini döndürür.\n",
    "l.index(3)"
   ]
  },
  {
   "cell_type": "code",
   "execution_count": 111,
   "id": "7b761c38-644e-464d-a2a9-80b620544b66",
   "metadata": {},
   "outputs": [
    {
     "data": {
      "text/plain": [
       "3"
      ]
     },
     "execution_count": 111,
     "metadata": {},
     "output_type": "execute_result"
    }
   ],
   "source": [
    "\n",
    "l.index(4)"
   ]
  },
  {
   "cell_type": "code",
   "execution_count": 112,
   "id": "0c408067-b0ca-440b-b4af-83a5ba0e13c0",
   "metadata": {},
   "outputs": [
    {
     "ename": "ValueError",
     "evalue": "100 is not in list",
     "output_type": "error",
     "traceback": [
      "\u001b[1;31m---------------------------------------------------------------------------\u001b[0m",
      "\u001b[1;31mValueError\u001b[0m                                Traceback (most recent call last)",
      "Cell \u001b[1;32mIn[112], line 2\u001b[0m\n\u001b[0;32m      1\u001b[0m \u001b[38;5;66;03m# listede olmayan değerler için error verir.\u001b[39;00m\n\u001b[1;32m----> 2\u001b[0m l\u001b[38;5;241m.\u001b[39mindex(\u001b[38;5;241m100\u001b[39m)\n",
      "\u001b[1;31mValueError\u001b[0m: 100 is not in list"
     ]
    }
   ],
   "source": [
    "# listede olmayan değerler için error verir.\n",
    "l.index(100)"
   ]
  },
  {
   "cell_type": "markdown",
   "id": "8afedc4a-a6b8-46be-86f2-91c4f3afd3c6",
   "metadata": {
    "jp-MarkdownHeadingCollapsed": true
   },
   "source": [
    "### List'i Tersine Çevirmek (reverse())"
   ]
  },
  {
   "cell_type": "code",
   "execution_count": 113,
   "id": "03028e10-4aae-4105-924c-b85c8bdf567b",
   "metadata": {},
   "outputs": [],
   "source": [
    "l = [1,2,3,4]"
   ]
  },
  {
   "cell_type": "code",
   "execution_count": 114,
   "id": "c2de909f-c1b5-42de-b2e8-54be4e652bba",
   "metadata": {},
   "outputs": [],
   "source": [
    "l.reverse() # inplace: yani l'yi günceller."
   ]
  },
  {
   "cell_type": "code",
   "execution_count": 115,
   "id": "74f9ef53-3114-457d-8329-44e8d22113f3",
   "metadata": {},
   "outputs": [
    {
     "data": {
      "text/plain": [
       "[4, 3, 2, 1]"
      ]
     },
     "execution_count": 115,
     "metadata": {},
     "output_type": "execute_result"
    }
   ],
   "source": [
    "l"
   ]
  },
  {
   "cell_type": "code",
   "execution_count": 116,
   "id": "33e3e114-c325-41e4-8018-793090072695",
   "metadata": {},
   "outputs": [],
   "source": [
    "l = [1,2,3,4]"
   ]
  },
  {
   "cell_type": "markdown",
   "id": "9938b09f-a330-4ad6-9949-0f7b36ad1283",
   "metadata": {},
   "source": [
    "Aynısını slicing mantığı ile de yapabilirdik."
   ]
  },
  {
   "cell_type": "code",
   "execution_count": 117,
   "id": "0a23bc3e-3318-4d87-984f-bb68e76e4297",
   "metadata": {},
   "outputs": [
    {
     "data": {
      "text/plain": [
       "[4, 3, 2, 1]"
      ]
     },
     "execution_count": 117,
     "metadata": {},
     "output_type": "execute_result"
    }
   ],
   "source": [
    "l[::-1]"
   ]
  },
  {
   "cell_type": "code",
   "execution_count": 118,
   "id": "2dc15a5a-54b1-4ab2-801d-b37f8cdafb94",
   "metadata": {},
   "outputs": [
    {
     "data": {
      "text/plain": [
       "[1, 2, 3, 4]"
      ]
     },
     "execution_count": 118,
     "metadata": {},
     "output_type": "execute_result"
    }
   ],
   "source": [
    "l"
   ]
  },
  {
   "cell_type": "code",
   "execution_count": 119,
   "id": "6425cacc-e829-4a8a-82c0-5172ad6c07d6",
   "metadata": {},
   "outputs": [],
   "source": [
    "l3 = l[::-1]"
   ]
  },
  {
   "cell_type": "code",
   "execution_count": 120,
   "id": "0eec8f0f-7e8c-43ab-9531-5e9faeb9ee4b",
   "metadata": {},
   "outputs": [
    {
     "data": {
      "text/plain": [
       "[4, 3, 2, 1]"
      ]
     },
     "execution_count": 120,
     "metadata": {},
     "output_type": "execute_result"
    }
   ],
   "source": [
    "l3"
   ]
  },
  {
   "cell_type": "code",
   "execution_count": 121,
   "id": "0a721da3-3653-4caf-8fbd-a51d4d172e65",
   "metadata": {},
   "outputs": [
    {
     "data": {
      "text/plain": [
       "[1, 2, 3, 4]"
      ]
     },
     "execution_count": 121,
     "metadata": {},
     "output_type": "execute_result"
    }
   ],
   "source": [
    "l"
   ]
  },
  {
   "cell_type": "markdown",
   "id": "204121d1-036a-4fb4-92ce-83c7543e2efd",
   "metadata": {},
   "source": [
    "Orijinalini güncellemiyor, güncellemesi için variable assignment yapmamız lazım."
   ]
  },
  {
   "cell_type": "code",
   "execution_count": 123,
   "id": "0755220f-9144-442d-92bb-a8149a671e3d",
   "metadata": {},
   "outputs": [],
   "source": [
    "l = l[::-1]"
   ]
  },
  {
   "cell_type": "code",
   "execution_count": 124,
   "id": "39caf0e1-d59a-45cc-9712-c5daf5b86f48",
   "metadata": {},
   "outputs": [
    {
     "data": {
      "text/plain": [
       "[4, 3, 2, 1]"
      ]
     },
     "execution_count": 124,
     "metadata": {},
     "output_type": "execute_result"
    }
   ],
   "source": [
    "l"
   ]
  },
  {
   "cell_type": "markdown",
   "id": "383cb403-ee27-4a76-90c4-b79412748fef",
   "metadata": {},
   "source": [
    "### List'in Elemanlarını Sıralamak (sorting)"
   ]
  },
  {
   "cell_type": "markdown",
   "id": "abd1bdf9-1419-4a39-ad44-8006259b954a",
   "metadata": {},
   "source": [
    "**sorted() orijinal listeyi güncellemez.**"
   ]
  },
  {
   "cell_type": "markdown",
   "id": "0ab26f72-789c-4d53-bd62-a8c3de84f65c",
   "metadata": {},
   "source": [
    "sorted() ve .sort() a bakacağız. İkisi de default olarak küçükten büyüğe sıralar. Sayısal verilerde sayısal değerine göre, stringlerde alfabetik sıraya göre sıralar."
   ]
  },
  {
   "cell_type": "code",
   "execution_count": 125,
   "id": "9085d885-bbc6-4474-b202-8f5a328a67af",
   "metadata": {},
   "outputs": [],
   "source": [
    "l = [\"b\",\"a\",\"c\"]"
   ]
  },
  {
   "cell_type": "code",
   "execution_count": 126,
   "id": "f3cbfc41-a944-4bff-aa42-df68ace64a8a",
   "metadata": {},
   "outputs": [
    {
     "data": {
      "text/plain": [
       "['a', 'b', 'c']"
      ]
     },
     "execution_count": 126,
     "metadata": {},
     "output_type": "execute_result"
    }
   ],
   "source": [
    "sorted(l)"
   ]
  },
  {
   "cell_type": "code",
   "execution_count": 127,
   "id": "9a853487-15f4-46b7-86e7-897af466535c",
   "metadata": {},
   "outputs": [
    {
     "data": {
      "text/plain": [
       "['a', 'b', 'c']"
      ]
     },
     "execution_count": 127,
     "metadata": {},
     "output_type": "execute_result"
    }
   ],
   "source": [
    "['a', 'b', 'c']"
   ]
  },
  {
   "cell_type": "code",
   "execution_count": 128,
   "id": "5b06ddfd-4072-4053-aecb-0058c17320ef",
   "metadata": {},
   "outputs": [
    {
     "data": {
      "text/plain": [
       "['b', 'a', 'c']"
      ]
     },
     "execution_count": 128,
     "metadata": {},
     "output_type": "execute_result"
    }
   ],
   "source": [
    "l"
   ]
  },
  {
   "cell_type": "code",
   "execution_count": 129,
   "id": "7eda0d8a-cb9c-4866-b86c-e46754ab7a59",
   "metadata": {},
   "outputs": [
    {
     "data": {
      "text/plain": [
       "['b', 'a', 'c']"
      ]
     },
     "execution_count": 129,
     "metadata": {},
     "output_type": "execute_result"
    }
   ],
   "source": [
    "['b', 'a', 'c']"
   ]
  },
  {
   "cell_type": "code",
   "execution_count": 130,
   "id": "f073c104-e699-4c01-845c-2ba2ab604c08",
   "metadata": {},
   "outputs": [],
   "source": [
    "l3 = sorted(l)"
   ]
  },
  {
   "cell_type": "code",
   "execution_count": 131,
   "id": "e24b0206-9d99-4192-ad84-5a229da7e1fe",
   "metadata": {},
   "outputs": [
    {
     "data": {
      "text/plain": [
       "['a', 'b', 'c']"
      ]
     },
     "execution_count": 131,
     "metadata": {},
     "output_type": "execute_result"
    }
   ],
   "source": [
    "l3"
   ]
  },
  {
   "cell_type": "code",
   "execution_count": 132,
   "id": "5eda911d-0c22-4566-993d-0c77bfd13218",
   "metadata": {},
   "outputs": [
    {
     "data": {
      "text/plain": [
       "['a', 'b', 'c']"
      ]
     },
     "execution_count": 132,
     "metadata": {},
     "output_type": "execute_result"
    }
   ],
   "source": [
    "['a', 'b', 'c']"
   ]
  },
  {
   "cell_type": "markdown",
   "id": "6e7ff573-23b6-4c7c-804a-b74485cee593",
   "metadata": {},
   "source": [
    ".sort() günceller"
   ]
  },
  {
   "cell_type": "code",
   "execution_count": 134,
   "id": "f55716fd-ceb5-4226-9b4b-5d796501cfe9",
   "metadata": {},
   "outputs": [],
   "source": [
    "l = [\"b\",\"a\",\"c\"]"
   ]
  },
  {
   "cell_type": "code",
   "execution_count": 135,
   "id": "1f052636-0769-4bcc-90ed-fe937c39c9d2",
   "metadata": {},
   "outputs": [],
   "source": [
    "l.sort() # inplace"
   ]
  },
  {
   "cell_type": "code",
   "execution_count": 136,
   "id": "c13a95c3-3b25-46b2-a845-d57145c24069",
   "metadata": {},
   "outputs": [
    {
     "data": {
      "text/plain": [
       "['a', 'b', 'c']"
      ]
     },
     "execution_count": 136,
     "metadata": {},
     "output_type": "execute_result"
    }
   ],
   "source": [
    "l"
   ]
  },
  {
   "cell_type": "code",
   "execution_count": 137,
   "id": "cdb16aa2-ac76-44ef-a8c3-371e06db150b",
   "metadata": {},
   "outputs": [
    {
     "data": {
      "text/plain": [
       "['a', 'b', 'c']"
      ]
     },
     "execution_count": 137,
     "metadata": {},
     "output_type": "execute_result"
    }
   ],
   "source": [
    "['a', 'b', 'c']"
   ]
  },
  {
   "cell_type": "code",
   "execution_count": 138,
   "id": "17212e81-bd0b-442e-b158-a3e7f3cbf62f",
   "metadata": {},
   "outputs": [],
   "source": [
    "l = [1,2,10,3,-1]"
   ]
  },
  {
   "cell_type": "code",
   "execution_count": 139,
   "id": "77a3003d-80e1-46bc-84be-bcb93c747e8b",
   "metadata": {},
   "outputs": [
    {
     "data": {
      "text/plain": [
       "[-1, 1, 2, 3, 10]"
      ]
     },
     "execution_count": 139,
     "metadata": {},
     "output_type": "execute_result"
    }
   ],
   "source": [
    "sorted(l)"
   ]
  },
  {
   "cell_type": "code",
   "execution_count": 140,
   "id": "b3b962f8-7d85-4b7d-8d61-9624e54fe3f9",
   "metadata": {},
   "outputs": [
    {
     "data": {
      "text/plain": [
       "[-1, 1, 2, 3, 10]"
      ]
     },
     "execution_count": 140,
     "metadata": {},
     "output_type": "execute_result"
    }
   ],
   "source": [
    "[-1, 1, 2, 3, 10]"
   ]
  },
  {
   "cell_type": "code",
   "execution_count": 141,
   "id": "751fbc05-9447-46de-90e7-9025124eb559",
   "metadata": {},
   "outputs": [
    {
     "data": {
      "text/plain": [
       "[1, 2, 10, 3, -1]"
      ]
     },
     "execution_count": 141,
     "metadata": {},
     "output_type": "execute_result"
    }
   ],
   "source": [
    "l"
   ]
  },
  {
   "cell_type": "code",
   "execution_count": 142,
   "id": "b25d2dab-8cf4-4bbf-970f-126842073481",
   "metadata": {},
   "outputs": [
    {
     "data": {
      "text/plain": [
       "[1, 2, 10, 3, -1]"
      ]
     },
     "execution_count": 142,
     "metadata": {},
     "output_type": "execute_result"
    }
   ],
   "source": [
    "[1, 2, 10, 3, -1]"
   ]
  },
  {
   "cell_type": "code",
   "execution_count": 143,
   "id": "4213e8df-79a8-42aa-8ec4-225578548ea7",
   "metadata": {},
   "outputs": [],
   "source": [
    "# küçükten büyüğe sıralar\n",
    "l.sort()"
   ]
  },
  {
   "cell_type": "code",
   "execution_count": 144,
   "id": "0f97e9c0-9ef8-41c6-b2dc-5a514466d1e8",
   "metadata": {},
   "outputs": [
    {
     "data": {
      "text/plain": [
       "[-1, 1, 2, 3, 10]"
      ]
     },
     "execution_count": 144,
     "metadata": {},
     "output_type": "execute_result"
    }
   ],
   "source": [
    "l"
   ]
  },
  {
   "cell_type": "code",
   "execution_count": 145,
   "id": "0d4086c4-58f0-465d-8ad9-1466deee3d09",
   "metadata": {},
   "outputs": [
    {
     "data": {
      "text/plain": [
       "[-1, 1, 2, 3, 10]"
      ]
     },
     "execution_count": 145,
     "metadata": {},
     "output_type": "execute_result"
    }
   ],
   "source": [
    "[-1, 1, 2, 3, 10]"
   ]
  },
  {
   "cell_type": "code",
   "execution_count": 146,
   "id": "d7192838-3d62-4443-99c7-e02fae61c05f",
   "metadata": {},
   "outputs": [],
   "source": [
    "l = [\"b\",\"a\",\"c\",\"1\",\"3\",\"4\"]"
   ]
  },
  {
   "cell_type": "code",
   "execution_count": 147,
   "id": "1018725e-0d37-414b-8077-f52dcc5395ca",
   "metadata": {},
   "outputs": [],
   "source": [
    "l.sort()"
   ]
  },
  {
   "cell_type": "code",
   "execution_count": 148,
   "id": "953aab8f-55f8-41b5-a447-216750139bf1",
   "metadata": {},
   "outputs": [
    {
     "data": {
      "text/plain": [
       "['1', '3', '4', 'a', 'b', 'c']"
      ]
     },
     "execution_count": 148,
     "metadata": {},
     "output_type": "execute_result"
    }
   ],
   "source": [
    "l"
   ]
  },
  {
   "cell_type": "code",
   "execution_count": 149,
   "id": "45a62d64-889b-40e1-a0df-d4e6a3e55342",
   "metadata": {},
   "outputs": [],
   "source": [
    "l = [1,3.1,2,0.6]"
   ]
  },
  {
   "cell_type": "code",
   "execution_count": 150,
   "id": "ca354168-b99c-4ace-bb78-fa37cd6c2214",
   "metadata": {},
   "outputs": [],
   "source": [
    "l.sort()"
   ]
  },
  {
   "cell_type": "code",
   "execution_count": 151,
   "id": "31423ae4-3ea2-4fa0-bc46-0a069c0a7a07",
   "metadata": {},
   "outputs": [
    {
     "data": {
      "text/plain": [
       "[0.6, 1, 2, 3.1]"
      ]
     },
     "execution_count": 151,
     "metadata": {},
     "output_type": "execute_result"
    }
   ],
   "source": [
    "l"
   ]
  },
  {
   "cell_type": "code",
   "execution_count": 152,
   "id": "2fab5f4f-74fe-4dbd-a908-889aeb9c582f",
   "metadata": {},
   "outputs": [],
   "source": [
    "l = [\"b\",\"a\",\"c\",1,2]"
   ]
  },
  {
   "cell_type": "code",
   "execution_count": 153,
   "id": "3f4fc159-b5f4-43c6-a094-181f0fa236dc",
   "metadata": {},
   "outputs": [
    {
     "ename": "TypeError",
     "evalue": "'<' not supported between instances of 'int' and 'str'",
     "output_type": "error",
     "traceback": [
      "\u001b[1;31m---------------------------------------------------------------------------\u001b[0m",
      "\u001b[1;31mTypeError\u001b[0m                                 Traceback (most recent call last)",
      "Cell \u001b[1;32mIn[153], line 1\u001b[0m\n\u001b[1;32m----> 1\u001b[0m l\u001b[38;5;241m.\u001b[39msort()\n",
      "\u001b[1;31mTypeError\u001b[0m: '<' not supported between instances of 'int' and 'str'"
     ]
    }
   ],
   "source": [
    "l.sort()"
   ]
  },
  {
   "cell_type": "code",
   "execution_count": 154,
   "id": "f0b0c4c2-2243-439e-bf72-93f722d1598e",
   "metadata": {},
   "outputs": [],
   "source": [
    "l = [\"b\",\"a\",\"c\",\"1\",\"3.5\",\"4\",\"5.6\", \"0.6\"]"
   ]
  },
  {
   "cell_type": "code",
   "execution_count": 155,
   "id": "0f611952-a6aa-4764-bd69-2f1882612dd6",
   "metadata": {},
   "outputs": [],
   "source": [
    "l.sort()"
   ]
  },
  {
   "cell_type": "code",
   "execution_count": 156,
   "id": "8a53aca8-1bb8-4078-b325-2c768911e86d",
   "metadata": {},
   "outputs": [
    {
     "data": {
      "text/plain": [
       "['0.6', '1', '3.5', '4', '5.6', 'a', 'b', 'c']"
      ]
     },
     "execution_count": 156,
     "metadata": {},
     "output_type": "execute_result"
    }
   ],
   "source": [
    "l"
   ]
  },
  {
   "cell_type": "code",
   "execution_count": 157,
   "id": "6037303f-00de-4e96-8af9-985bb9dbdbc1",
   "metadata": {},
   "outputs": [
    {
     "data": {
      "text/plain": [
       "[[1, -20, 3], [2, -200, -3]]"
      ]
     },
     "execution_count": 157,
     "metadata": {},
     "output_type": "execute_result"
    }
   ],
   "source": [
    "l = [[1,-20,3], [2,-200,-3]]\n",
    "l.sort()\n",
    "l"
   ]
  },
  {
   "cell_type": "code",
   "execution_count": 159,
   "id": "d412c2fb-625b-4998-b6c7-ad2dbf155c7b",
   "metadata": {},
   "outputs": [],
   "source": [
    "l = [[10,-20,-3], [2,-2,3]]"
   ]
  },
  {
   "cell_type": "code",
   "execution_count": 160,
   "id": "e89e90f3-eb86-4193-8e95-33213b56d4d1",
   "metadata": {},
   "outputs": [],
   "source": [
    "l.sort()"
   ]
  },
  {
   "cell_type": "code",
   "execution_count": 161,
   "id": "648da9a6-2789-411b-87a8-c6623af4dd5a",
   "metadata": {},
   "outputs": [
    {
     "data": {
      "text/plain": [
       "[[2, -2, 3], [10, -20, -3]]"
      ]
     },
     "execution_count": 161,
     "metadata": {},
     "output_type": "execute_result"
    }
   ],
   "source": [
    "l"
   ]
  },
  {
   "cell_type": "code",
   "execution_count": 162,
   "id": "b5573cc4-adff-47f5-a48b-453b02600adb",
   "metadata": {},
   "outputs": [],
   "source": [
    "l = [[10,-20,-3], [10,-25,3]]"
   ]
  },
  {
   "cell_type": "code",
   "execution_count": 163,
   "id": "5fe751bb-7a8f-467f-a1cc-73b625b37191",
   "metadata": {},
   "outputs": [],
   "source": [
    "l.sort()"
   ]
  },
  {
   "cell_type": "code",
   "execution_count": 164,
   "id": "d4274318-7d63-4a43-ad7c-c7dcaf1659c0",
   "metadata": {},
   "outputs": [
    {
     "data": {
      "text/plain": [
       "[[10, -25, 3], [10, -20, -3]]"
      ]
     },
     "execution_count": 164,
     "metadata": {},
     "output_type": "execute_result"
    }
   ],
   "source": [
    "l"
   ]
  },
  {
   "cell_type": "code",
   "execution_count": 165,
   "id": "92f13e73-2f73-4c16-aeaa-f8364bd2c0b6",
   "metadata": {},
   "outputs": [],
   "source": [
    "l = [[\"a\", \"b\", \"c\"], [2,-200,-3]]"
   ]
  },
  {
   "cell_type": "code",
   "execution_count": 166,
   "id": "704df2bd-40e7-4769-b3f4-8c7a45fdc9d9",
   "metadata": {},
   "outputs": [
    {
     "ename": "TypeError",
     "evalue": "'<' not supported between instances of 'int' and 'str'",
     "output_type": "error",
     "traceback": [
      "\u001b[1;31m---------------------------------------------------------------------------\u001b[0m",
      "\u001b[1;31mTypeError\u001b[0m                                 Traceback (most recent call last)",
      "Cell \u001b[1;32mIn[166], line 1\u001b[0m\n\u001b[1;32m----> 1\u001b[0m l\u001b[38;5;241m.\u001b[39msort()\n",
      "\u001b[1;31mTypeError\u001b[0m: '<' not supported between instances of 'int' and 'str'"
     ]
    }
   ],
   "source": [
    "l.sort()"
   ]
  },
  {
   "cell_type": "code",
   "execution_count": 167,
   "id": "a415115e-ad22-43d5-8830-d80dee257bcd",
   "metadata": {},
   "outputs": [
    {
     "data": {
      "text/plain": [
       "[['a', 'b', 'c'], [2, -200, -3]]"
      ]
     },
     "execution_count": 167,
     "metadata": {},
     "output_type": "execute_result"
    }
   ],
   "source": [
    "l"
   ]
  },
  {
   "cell_type": "code",
   "execution_count": 169,
   "id": "b1a3e3f9-60fd-4d75-845b-1739d03f3f43",
   "metadata": {},
   "outputs": [],
   "source": [
    "l = [[200, \"b\", \"c\"], [2,-200,-3,10]]"
   ]
  },
  {
   "cell_type": "code",
   "execution_count": 170,
   "id": "6833f615-45b7-4227-a8dc-263237260502",
   "metadata": {},
   "outputs": [],
   "source": [
    "l.sort()"
   ]
  },
  {
   "cell_type": "code",
   "execution_count": 171,
   "id": "b553b37d-e15f-4b31-be9f-21518dd0b528",
   "metadata": {},
   "outputs": [
    {
     "data": {
      "text/plain": [
       "[[2, -200, -3, 10], [200, 'b', 'c']]"
      ]
     },
     "execution_count": 171,
     "metadata": {},
     "output_type": "execute_result"
    }
   ],
   "source": [
    "l"
   ]
  },
  {
   "cell_type": "code",
   "execution_count": 172,
   "id": "5651cd5d-a91e-41ca-a964-987984997299",
   "metadata": {},
   "outputs": [],
   "source": [
    "l = [[200, \"b\", \"c\"], [200,-200,-3,10]]"
   ]
  },
  {
   "cell_type": "code",
   "execution_count": 173,
   "id": "62fbaa65-e783-4391-872d-c899525c6b8e",
   "metadata": {},
   "outputs": [
    {
     "ename": "TypeError",
     "evalue": "'<' not supported between instances of 'int' and 'str'",
     "output_type": "error",
     "traceback": [
      "\u001b[1;31m---------------------------------------------------------------------------\u001b[0m",
      "\u001b[1;31mTypeError\u001b[0m                                 Traceback (most recent call last)",
      "Cell \u001b[1;32mIn[173], line 1\u001b[0m\n\u001b[1;32m----> 1\u001b[0m l\u001b[38;5;241m.\u001b[39msort()\n",
      "\u001b[1;31mTypeError\u001b[0m: '<' not supported between instances of 'int' and 'str'"
     ]
    }
   ],
   "source": [
    "l.sort()"
   ]
  },
  {
   "cell_type": "code",
   "execution_count": null,
   "id": "cb0111c9-fe4f-47ec-9ce8-11894c4f7d46",
   "metadata": {},
   "outputs": [],
   "source": []
  }
 ],
 "metadata": {
  "kernelspec": {
   "display_name": "Python 3 (ipykernel)",
   "language": "python",
   "name": "python3"
  },
  "language_info": {
   "codemirror_mode": {
    "name": "ipython",
    "version": 3
   },
   "file_extension": ".py",
   "mimetype": "text/x-python",
   "name": "python",
   "nbconvert_exporter": "python",
   "pygments_lexer": "ipython3",
   "version": "3.11.7"
  }
 },
 "nbformat": 4,
 "nbformat_minor": 5
}
