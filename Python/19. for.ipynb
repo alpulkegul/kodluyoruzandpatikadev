{
 "cells": [
  {
   "cell_type": "markdown",
   "id": "cb1deef2-3908-4acc-9570-c4232e49c169",
   "metadata": {
    "jp-MarkdownHeadingCollapsed": true
   },
   "source": [
    "# for"
   ]
  },
  {
   "cell_type": "markdown",
   "id": "5be1f098-e61c-4cf5-bcea-8a500925f5d5",
   "metadata": {},
   "source": [
    "* for döngüsü in'den sonra yazdığımız yapının bütün değerleri üzerinden dolanıp eleman sayısı kadar içindeki kodu çalıştıracak. ``x in <obje>`` yapısı ile tanımlandığında, x döngünün her adımında in den sonra tanımlanan elemanlarının değerini alacak. "
   ]
  },
  {
   "cell_type": "markdown",
   "id": "ed4396b7-bb3a-4729-b2e9-ffe3e75443fc",
   "metadata": {},
   "source": [
    "``for < degisken > in < obje >"
   ]
  },
  {
   "cell_type": "code",
   "execution_count": 1,
   "id": "5e59344e-9ca9-4b86-8e03-1a2803ea8c4b",
   "metadata": {},
   "outputs": [
    {
     "name": "stdout",
     "output_type": "stream",
     "text": [
      "h\n",
      "e\n",
      "y\n"
     ]
    }
   ],
   "source": [
    "for c in \"hey\":\n",
    "    print(c)"
   ]
  },
  {
   "cell_type": "code",
   "execution_count": 3,
   "id": "eb35530e-29c9-4313-86e9-73cc4192aa0c",
   "metadata": {},
   "outputs": [
    {
     "name": "stdout",
     "output_type": "stream",
     "text": [
      "5050\n"
     ]
    }
   ],
   "source": [
    "toplam = 0\n",
    "for x in range (101):\n",
    "    toplam +=x\n",
    "print(toplam)\n"
   ]
  },
  {
   "cell_type": "code",
   "execution_count": 4,
   "id": "cbc85574-1191-46dd-aee1-8b200f5af6f9",
   "metadata": {},
   "outputs": [
    {
     "name": "stdout",
     "output_type": "stream",
     "text": [
      "0\n",
      "1\n",
      "2\n",
      "3\n",
      "4\n"
     ]
    }
   ],
   "source": [
    "for x in range(5):\n",
    "    print(x)"
   ]
  },
  {
   "cell_type": "code",
   "execution_count": 6,
   "id": "523be238-2abd-413b-8537-32110d574400",
   "metadata": {},
   "outputs": [
    {
     "name": "stdout",
     "output_type": "stream",
     "text": [
      "3125\n"
     ]
    }
   ],
   "source": [
    "x = 1\n",
    "for i in range (5):\n",
    "    x *= 5\n",
    "print(x)\n"
   ]
  },
  {
   "cell_type": "code",
   "execution_count": 8,
   "id": "deda7951-bbe5-4b51-b865-b26aede8b371",
   "metadata": {},
   "outputs": [
    {
     "name": "stdout",
     "output_type": "stream",
     "text": [
      "3125\n"
     ]
    }
   ],
   "source": [
    "x = 1\n",
    "for _ in range(5):\n",
    "    x *= 5\n",
    "print(x)"
   ]
  },
  {
   "cell_type": "code",
   "execution_count": 11,
   "id": "3b8ec096-f5cb-4a03-b594-3d20a3291794",
   "metadata": {},
   "outputs": [
    {
     "name": "stdout",
     "output_type": "stream",
     "text": [
      "h\n",
      "e\n",
      "y\n"
     ]
    }
   ],
   "source": [
    "s = \"hey\"\n",
    "for c in s:\n",
    "    print (c)"
   ]
  },
  {
   "cell_type": "code",
   "execution_count": 10,
   "id": "f863dbd0-a117-466f-b6c9-4c89d2e903a0",
   "metadata": {},
   "outputs": [
    {
     "name": "stdout",
     "output_type": "stream",
     "text": [
      "h\n",
      "e\n",
      "y\n"
     ]
    }
   ],
   "source": [
    "n = len(s)\n",
    "index = 0\n",
    "\n",
    "while index < n:\n",
    "    print(s[index])\n",
    "    index += 1"
   ]
  },
  {
   "cell_type": "code",
   "execution_count": 3,
   "id": "2c7f3283-f2f1-42a4-95e1-ddd3682c60d4",
   "metadata": {},
   "outputs": [
    {
     "name": "stdout",
     "output_type": "stream",
     "text": [
      "1\n",
      "6\n",
      "11\n",
      "16\n",
      "21\n",
      "26\n",
      "31\n",
      "36\n",
      "41\n",
      "46\n",
      "51\n",
      "56\n",
      "61\n",
      "66\n",
      "71\n",
      "76\n",
      "81\n",
      "86\n",
      "91\n",
      "96\n"
     ]
    }
   ],
   "source": [
    "# for i in range(baslangıc,bitis,artis)\n",
    "\n",
    "for i in range(1,100,5):\n",
    "    print(i)"
   ]
  },
  {
   "cell_type": "code",
   "execution_count": 5,
   "id": "d75eab70-a5f2-491e-b6c1-d3fffc804f67",
   "metadata": {},
   "outputs": [
    {
     "name": "stdout",
     "output_type": "stream",
     "text": [
      "range(0, 100)\n"
     ]
    }
   ],
   "source": [
    "print(range(100))"
   ]
  },
  {
   "cell_type": "code",
   "execution_count": 6,
   "id": "ca123ec4-4060-4952-a1a5-d5b18a2c7977",
   "metadata": {},
   "outputs": [
    {
     "name": "stdout",
     "output_type": "stream",
     "text": [
      "range(100, 200)\n"
     ]
    }
   ],
   "source": [
    "print(range(100,200))"
   ]
  },
  {
   "cell_type": "code",
   "execution_count": 7,
   "id": "f889bee4-51de-4ae6-ab31-d7ab2713e52c",
   "metadata": {},
   "outputs": [
    {
     "name": "stdout",
     "output_type": "stream",
     "text": [
      "range(1, 100, 2)\n"
     ]
    }
   ],
   "source": [
    "print(range(1,100,2))"
   ]
  },
  {
   "cell_type": "code",
   "execution_count": null,
   "id": "aedea397-9efd-4b29-839c-16046f956c75",
   "metadata": {},
   "outputs": [],
   "source": []
  }
 ],
 "metadata": {
  "kernelspec": {
   "display_name": "Python 3 (ipykernel)",
   "language": "python",
   "name": "python3"
  },
  "language_info": {
   "codemirror_mode": {
    "name": "ipython",
    "version": 3
   },
   "file_extension": ".py",
   "mimetype": "text/x-python",
   "name": "python",
   "nbconvert_exporter": "python",
   "pygments_lexer": "ipython3",
   "version": "3.11.7"
  }
 },
 "nbformat": 4,
 "nbformat_minor": 5
}
