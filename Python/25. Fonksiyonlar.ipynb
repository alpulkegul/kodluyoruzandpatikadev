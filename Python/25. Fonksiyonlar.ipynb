{
 "cells": [
  {
   "cell_type": "markdown",
   "id": "dad5facf-adb3-4084-9dfb-e68d88995af6",
   "metadata": {},
   "source": [
    "# Fonksiyonlar"
   ]
  },
  {
   "cell_type": "markdown",
   "id": "0b5dc55a-f723-4fd9-ae8f-16fa2244b67a",
   "metadata": {},
   "source": [
    "* Python dilinde fonksiyon tanımlamak için \"def\" anahtar sözcüğü kullanılır. İlk önce \"def \" anahtar sözcüğünü, daha sonra fonksiyonun adını yazarız. Fonksiyon adlandırılırkenTürkçe harf kullanılmaz. Hazırlanan fonksiyonlar onlara verilen isimler ile program içerisinde mutlaka çağrılmalıdırlar."
   ]
  },
  {
   "cell_type": "code",
   "execution_count": null,
   "id": "ce44581c-5dce-4ad0-86a7-afce388c0225",
   "metadata": {},
   "outputs": [],
   "source": [
    "def fonksiyonAdi():\n",
    "    #fonk içi işlemler"
   ]
  },
  {
   "cell_type": "code",
   "execution_count": 7,
   "id": "9102b8fd-8a67-4e4f-987a-7432ba8aca89",
   "metadata": {},
   "outputs": [
    {
     "name": "stdout",
     "output_type": "stream",
     "text": [
      "merhaba\n",
      "None\n"
     ]
    }
   ],
   "source": [
    "def fonksiyonAdi():\n",
    "    print(\"merhaba\")\n",
    "print(fonksiyonAdi())"
   ]
  },
  {
   "cell_type": "code",
   "execution_count": null,
   "id": "36dddbf6-84d8-4ed0-bfd3-531629355b8e",
   "metadata": {},
   "outputs": [],
   "source": [
    "#Klavyeden girilen bir tam sayının tek veya çift olduğunu ekrana yazdıran programı fonksiyon kullanarak hazırlayınız. "
   ]
  },
  {
   "cell_type": "code",
   "execution_count": 11,
   "id": "f0623ef5-8091-4f70-9cf0-a4d05338251f",
   "metadata": {},
   "outputs": [
    {
     "name": "stdin",
     "output_type": "stream",
     "text": [
      "Lütfen bir sayi girin: 1\n"
     ]
    },
    {
     "name": "stdout",
     "output_type": "stream",
     "text": [
      "Girilen sayı tek sayıdır.\n"
     ]
    }
   ],
   "source": [
    "def tek():\n",
    "    print(\"Girilen sayı tek sayıdır.\")\n",
    "def cift():\n",
    "    print(\"Girilen sayi çift sayidir.\")\n",
    "\n",
    "sayi = int(input(\"Lütfen bir sayi girin:\"))\n",
    "if sayi / 2 == 0:\n",
    "    cift()\n",
    "else:\n",
    "    tek()"
   ]
  },
  {
   "cell_type": "code",
   "execution_count": 12,
   "id": "3706f040-793d-4b5a-be52-61ef9e93283a",
   "metadata": {},
   "outputs": [
    {
     "name": "stdout",
     "output_type": "stream",
     "text": [
      "Merhaba Gökhan. Programa hoşgeldin.\n"
     ]
    }
   ],
   "source": [
    "def selamla(isim):\n",
    "    print(\"Merhaba %s. Programa hoşgeldin.\"%isim)\n",
    "selamla(\"Gökhan\")"
   ]
  },
  {
   "cell_type": "code",
   "execution_count": 14,
   "id": "313817fd-4982-4fd5-9cc1-3ebcda533da3",
   "metadata": {},
   "outputs": [
    {
     "name": "stdout",
     "output_type": "stream",
     "text": [
      "Sonuc: 105\n"
     ]
    }
   ],
   "source": [
    "# 3, 5 ve 7 sayılarından oluşan bir listenin elemanlarının çarpılması sonucu ortaya çıkan \n",
    "#değeri ekrana yazdıran programı bir parametreli fonksiyon tanımlayarak hazırlayınız.\n",
    "\n",
    "def carpimSonucu(list):\n",
    "    carpim = 1\n",
    "    for i in list:\n",
    "        carpim *= i\n",
    "    print(\"Sonuc: %s\" %carpim)\n",
    "x = [3,5,7]\n",
    "carpimSonucu (x)"
   ]
  },
  {
   "cell_type": "code",
   "execution_count": 20,
   "id": "ed71aa0f-0d6c-4c22-9782-6e99dc56a182",
   "metadata": {},
   "outputs": [
    {
     "name": "stdin",
     "output_type": "stream",
     "text": [
      "Girilecek sayi adedi:  3\n",
      "1. sayiyi girin:  2\n",
      "2. sayiyi girin:  2\n",
      "3. sayiyi girin:  2\n"
     ]
    },
    {
     "name": "stdout",
     "output_type": "stream",
     "text": [
      "Girilen sayi adedi:3\n",
      "Tek Sayilarin Toplami:0\n",
      "Çift Sayilarin Toplami:6\n"
     ]
    }
   ],
   "source": [
    "# Klavyeden \"Kaç sayı gireceksiniz?\" şeklinde çıkan mesaja bir cevap vererek girilen sayıları bir listeye gönderiniz. \n",
    "# Girilen sayıları tek ve çift olarak ayırarak; \n",
    "# a.girilen sayı adedini, \n",
    "# b.tek sayıların toplamını, \n",
    "# c.çift sayıların toplamını ayrı ayrı ekranda gösteren programı hazırlayınız.\n",
    "list = []\n",
    "ciftSayiToplami = 0\n",
    "tekSayiToplami = 0\n",
    "girilecekSayiAdedi = int(input(\"Girilecek sayi adedi: \"))\n",
    "for sayi in range(girilecekSayiAdedi):\n",
    "    list.append(int(input(\"%s. sayiyi girin: \"%(sayi+1))))\n",
    "    if list[sayi] % 2 == 0:\n",
    "        \n",
    "        ciftSayiToplami += list[sayi]\n",
    "    else:\n",
    "        \n",
    "        tekSayiToplami += list[sayi]\n",
    "print(\"Girilen sayi adedi:%s\"%girilecekSayiAdedi)\n",
    "print(\"Tek Sayilarin Toplami:%s\"%tekSayiToplami)\n",
    "print(\"Çift Sayilarin Toplami:%s\"%ciftSayiToplami)"
   ]
  },
  {
   "cell_type": "code",
   "execution_count": null,
   "id": "a382f57a-0030-4db4-957e-b4bad4bcf838",
   "metadata": {},
   "outputs": [],
   "source": []
  }
 ],
 "metadata": {
  "kernelspec": {
   "display_name": "Python 3 (ipykernel)",
   "language": "python",
   "name": "python3"
  },
  "language_info": {
   "codemirror_mode": {
    "name": "ipython",
    "version": 3
   },
   "file_extension": ".py",
   "mimetype": "text/x-python",
   "name": "python",
   "nbconvert_exporter": "python",
   "pygments_lexer": "ipython3",
   "version": "3.11.7"
  }
 },
 "nbformat": 4,
 "nbformat_minor": 5
}
