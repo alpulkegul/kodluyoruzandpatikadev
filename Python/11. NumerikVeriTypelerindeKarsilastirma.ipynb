{
 "cells": [
  {
   "cell_type": "markdown",
   "id": "00326cc7-cf6f-4fbe-9c2c-0a4e81bae62e",
   "metadata": {
    "jp-MarkdownHeadingCollapsed": true
   },
   "source": [
    "# Nümerik Veri Tiplerinde Karşılaştırma"
   ]
  },
  {
   "cell_type": "markdown",
   "id": "03540d30-4fd3-490e-bf0a-f21a74424eec",
   "metadata": {},
   "source": [
    "* Bir programın farklı durumlar karşısında başka davranışlar sergilemesini isteyebiliriz. Bunun için belirli testler yapmam lazım ve bu testler sonucunda farklı davranışlar tasarlamam lazım.\n",
    "\n",
    "* Bu testler için verilerimizi birbirleri ilke karşılaştırabilmeliyiz. Bunları Comprasion Operator ile yapacağız. Cevabın True ya da False olmasına göre farklı durumlarda farklı davranacak program tasarlarız.\n",
    "\n",
    "* ``i == j`` eşitlik testi. eşitse True değilse False. gibi gibi..."
   ]
  },
  {
   "cell_type": "markdown",
   "id": "d6015f71-a2c5-4fc0-9328-95c9e752d2b1",
   "metadata": {},
   "source": [
    "## == operator"
   ]
  },
  {
   "cell_type": "code",
   "execution_count": 4,
   "id": "661cb04c-4a35-4b67-888d-033c1d510033",
   "metadata": {},
   "outputs": [
    {
     "data": {
      "text/plain": [
       "False"
      ]
     },
     "execution_count": 4,
     "metadata": {},
     "output_type": "execute_result"
    }
   ],
   "source": [
    "5==4"
   ]
  },
  {
   "cell_type": "code",
   "execution_count": 6,
   "id": "2cd7ef39-360a-4125-92bc-69de1221607d",
   "metadata": {},
   "outputs": [
    {
     "data": {
      "text/plain": [
       "True"
      ]
     },
     "execution_count": 6,
     "metadata": {},
     "output_type": "execute_result"
    }
   ],
   "source": [
    "5==5"
   ]
  },
  {
   "cell_type": "code",
   "execution_count": 10,
   "id": "fca397df-1f21-478e-a612-36d264f7e6d7",
   "metadata": {},
   "outputs": [
    {
     "data": {
      "text/plain": [
       "False"
      ]
     },
     "execution_count": 10,
     "metadata": {},
     "output_type": "execute_result"
    }
   ],
   "source": [
    "i=10\n",
    "j=12\n",
    "i==j"
   ]
  },
  {
   "cell_type": "code",
   "execution_count": 11,
   "id": "fa42f083-c09b-4979-9e23-71284f406449",
   "metadata": {},
   "outputs": [
    {
     "data": {
      "text/plain": [
       "True"
      ]
     },
     "execution_count": 11,
     "metadata": {},
     "output_type": "execute_result"
    }
   ],
   "source": [
    "i=10\n",
    "j=10\n",
    "i==j"
   ]
  },
  {
   "cell_type": "markdown",
   "id": "6698c6a8-6275-4c07-a538-0fe2748947af",
   "metadata": {},
   "source": [
    "## ``!=`` | ``<`` | ``>`` | ``<= ``| ``>= ``| operator"
   ]
  }
 ],
 "metadata": {
  "kernelspec": {
   "display_name": "Python 3 (ipykernel)",
   "language": "python",
   "name": "python3"
  },
  "language_info": {
   "codemirror_mode": {
    "name": "ipython",
    "version": 3
   },
   "file_extension": ".py",
   "mimetype": "text/x-python",
   "name": "python",
   "nbconvert_exporter": "python",
   "pygments_lexer": "ipython3",
   "version": "3.11.7"
  }
 },
 "nbformat": 4,
 "nbformat_minor": 5
}
