{
 "cells": [
  {
   "cell_type": "markdown",
   "id": "24c1f5cb-5893-434b-b599-e86e344cef0e",
   "metadata": {
    "jp-MarkdownHeadingCollapsed": true
   },
   "source": [
    "# Ternary Conditional"
   ]
  },
  {
   "cell_type": "code",
   "execution_count": 1,
   "id": "2ad41ed4-6fb7-422f-8416-9c812b6376d5",
   "metadata": {},
   "outputs": [
    {
     "name": "stdin",
     "output_type": "stream",
     "text": [
      "x in değeri 2 olsun mu? y/n y\n"
     ]
    },
    {
     "name": "stdout",
     "output_type": "stream",
     "text": [
      "2\n"
     ]
    }
   ],
   "source": [
    "# cevap olarak \"y\" (yes->evet) veya \"n\"(no->hayır) vereceğiz\n",
    "cevap = input(\"x in değeri 2 olsun mu? y/n\")\n",
    "\n",
    "if cevap == \"y\": # cevap == \"y\" testimiz oluyor\n",
    "    x = 2\n",
    "else:\n",
    "    x = 0\n",
    "\n",
    "print(x)"
   ]
  },
  {
   "cell_type": "code",
   "execution_count": 4,
   "id": "749dcb8d-8f82-4d9e-a30d-343d959c0552",
   "metadata": {},
   "outputs": [
    {
     "name": "stdin",
     "output_type": "stream",
     "text": [
      "x'in değeri 2 olsun mu? y/n n\n"
     ]
    },
    {
     "name": "stdout",
     "output_type": "stream",
     "text": [
      "0\n"
     ]
    }
   ],
   "source": [
    "cevap = input(\"x'in değeri 2 olsun mu? y/n\")\n",
    "x = 2 if cevap == \"y\" else 0\n",
    "print(x)"
   ]
  },
  {
   "cell_type": "markdown",
   "id": "228814fc-b511-408e-98e1-083985ee4e1d",
   "metadata": {},
   "source": [
    "# Örnekler"
   ]
  },
  {
   "cell_type": "code",
   "execution_count": 56,
   "id": "bb469962-0dcb-44f2-8512-3fddbb95d1bb",
   "metadata": {},
   "outputs": [
    {
     "name": "stdin",
     "output_type": "stream",
     "text": [
      "Bugün günlerden pazar mı? y/n y\n"
     ]
    },
    {
     "name": "stdout",
     "output_type": "stream",
     "text": [
      "Bugün resmi tatil, takılmana bak!\n"
     ]
    }
   ],
   "source": [
    "# Kullanıcıya bugün pazar olup olmadığını sor. Pazar ise ekrana bir çıktı, değilse bir çıktı ver.\n",
    "\n",
    "question = input(\"Bugün günlerden pazar mı? y/n\")\n",
    "answer = 'Bugün resmi tatil, takılmana bak!' if question == \"y\" else 'Çalışmalısın.'\n",
    "print(answer)"
   ]
  },
  {
   "cell_type": "code",
   "execution_count": 58,
   "id": "35d6e313-4df1-4971-bfa5-d88458c10a63",
   "metadata": {},
   "outputs": [
    {
     "name": "stdin",
     "output_type": "stream",
     "text": [
      "Fiyatı ne kadar ? 150\n"
     ]
    },
    {
     "name": "stdout",
     "output_type": "stream",
     "text": [
      "pahalı\n"
     ]
    }
   ],
   "source": [
    "# Kullanıcıdan bir fiyat al. Bu fiyat eğer 100$ ' ı geçiyorsa ekrana pahalı, 100$ veya daha az ise ekrana ucuz yazdur.\n",
    "\n",
    "question = int(input(\"Fiyatı ne kadar ?\"))\n",
    "price = \"pahalı\" if question > 100 else \"ucuz\"\n",
    "print(price)"
   ]
  }
 ],
 "metadata": {
  "kernelspec": {
   "display_name": "Python 3 (ipykernel)",
   "language": "python",
   "name": "python3"
  },
  "language_info": {
   "codemirror_mode": {
    "name": "ipython",
    "version": 3
   },
   "file_extension": ".py",
   "mimetype": "text/x-python",
   "name": "python",
   "nbconvert_exporter": "python",
   "pygments_lexer": "ipython3",
   "version": "3.11.7"
  }
 },
 "nbformat": 4,
 "nbformat_minor": 5
}
