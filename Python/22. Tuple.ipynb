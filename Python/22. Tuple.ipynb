{
 "cells": [
  {
   "cell_type": "markdown",
   "id": "cd6fb585-dca6-4e1f-9615-863f4e2633fb",
   "metadata": {},
   "source": [
    "# Tuple"
   ]
  },
  {
   "cell_type": "markdown",
   "id": "52fd9382-ee31-4736-8e17-33cbb026b465",
   "metadata": {},
   "source": [
    "tuple veri tipi listeler gibi birden çok veri tipini bir arada tutmamızı sağlar."
   ]
  },
  {
   "cell_type": "markdown",
   "id": "0b8f3fb3-0ee3-4ba0-a9ec-b448a79d5586",
   "metadata": {},
   "source": [
    "listelerden farklı olarak tuple'lar immutabledır."
   ]
  },
  {
   "cell_type": "markdown",
   "id": "36ff1568-a4de-46e5-a79b-91ee8757ea45",
   "metadata": {},
   "source": [
    "Mesela bir deniz fenerinin konumunu belirtmek istiyoruz. bunun x ve y koordinat değerleri var (x,y). Deniz fenerini söküp götüremiyoruz, ben bu iki değerin sabit, değiştirilemez olmasını istiyorum. Burada bu iki değeri tutmak için tuple kullanmam mantıklı olabilir.\n",
    "\n",
    "\n",
    "Değişmeyeceğini bildiğim değerleri bir arada tutmak için.\n",
    "\n",
    "\n",
    "tuple'lar (element1,element2...) şeklinde tanımlanır.\n",
    "\n",
    "\n",
    "tuple'lar listeler gibi farklı veri yapılarında elemanlardan oluşabilir. Elemanları tuple bile olabilir."
   ]
  },
  {
   "cell_type": "code",
   "execution_count": 2,
   "id": "4a709963-51b3-4ed1-b06c-89e370c779c8",
   "metadata": {},
   "outputs": [],
   "source": [
    "x = 10\n",
    "y = 34"
   ]
  },
  {
   "cell_type": "code",
   "execution_count": 3,
   "id": "fb30896b-9187-4094-9072-b27e6fc2a86f",
   "metadata": {},
   "outputs": [],
   "source": [
    "konum = (10, 34)"
   ]
  },
  {
   "cell_type": "markdown",
   "id": "1eaed163-771f-4212-90c0-81146c5f50b5",
   "metadata": {},
   "source": [
    "Aynı listelerdeki gibi indexleme yapabiliyoruz."
   ]
  },
  {
   "cell_type": "code",
   "execution_count": 4,
   "id": "647d47ac-c19c-4453-887a-4b043811d4d9",
   "metadata": {},
   "outputs": [
    {
     "data": {
      "text/plain": [
       "10"
      ]
     },
     "execution_count": 4,
     "metadata": {},
     "output_type": "execute_result"
    }
   ],
   "source": [
    "konum[0]"
   ]
  },
  {
   "cell_type": "code",
   "execution_count": 6,
   "id": "71449a15-0b18-432e-acfa-4c7286cdbcce",
   "metadata": {},
   "outputs": [
    {
     "data": {
      "text/plain": [
       "(10, 34)"
      ]
     },
     "execution_count": 6,
     "metadata": {},
     "output_type": "execute_result"
    }
   ],
   "source": [
    "konum[:]"
   ]
  },
  {
   "cell_type": "markdown",
   "id": "4b7bf154-262a-4534-8a96-b4be0013252a",
   "metadata": {},
   "source": [
    "Ama değerlerini değiştiremiyoruz."
   ]
  },
  {
   "cell_type": "code",
   "execution_count": 7,
   "id": "321d302c-cecd-4e89-a1df-fec4f36af2bb",
   "metadata": {},
   "outputs": [
    {
     "ename": "TypeError",
     "evalue": "'tuple' object does not support item assignment",
     "output_type": "error",
     "traceback": [
      "\u001b[1;31m---------------------------------------------------------------------------\u001b[0m",
      "\u001b[1;31mTypeError\u001b[0m                                 Traceback (most recent call last)",
      "Cell \u001b[1;32mIn[7], line 1\u001b[0m\n\u001b[1;32m----> 1\u001b[0m konum[\u001b[38;5;241m0\u001b[39m] \u001b[38;5;241m=\u001b[39m \u001b[38;5;241m100\u001b[39m\n",
      "\u001b[1;31mTypeError\u001b[0m: 'tuple' object does not support item assignment"
     ]
    }
   ],
   "source": [
    "konum[0] = 100"
   ]
  },
  {
   "cell_type": "markdown",
   "id": "6f416490-da97-4bba-b4b2-4b820fb7adb7",
   "metadata": {},
   "source": [
    "Farklı veri tipleri barındırabiliyor."
   ]
  },
  {
   "cell_type": "code",
   "execution_count": 8,
   "id": "691e594e-735c-415d-9278-82b20b0b72b2",
   "metadata": {},
   "outputs": [],
   "source": [
    "t = (1,2,3,\"a\")"
   ]
  },
  {
   "cell_type": "code",
   "execution_count": 9,
   "id": "5e0d0cc2-e286-40a1-9a68-441dc3cbfa43",
   "metadata": {},
   "outputs": [
    {
     "data": {
      "text/plain": [
       "(1, 2, 3, 'a')"
      ]
     },
     "execution_count": 9,
     "metadata": {},
     "output_type": "execute_result"
    }
   ],
   "source": [
    "t"
   ]
  },
  {
   "cell_type": "code",
   "execution_count": 10,
   "id": "eea9a99a-9903-4de1-8318-35fed72bd358",
   "metadata": {},
   "outputs": [],
   "source": [
    "t = ((1,2),3)"
   ]
  },
  {
   "cell_type": "code",
   "execution_count": 11,
   "id": "c56e7981-901a-46e2-923c-f1defbffa56a",
   "metadata": {},
   "outputs": [
    {
     "data": {
      "text/plain": [
       "((1, 2), 3)"
      ]
     },
     "execution_count": 11,
     "metadata": {},
     "output_type": "execute_result"
    }
   ],
   "source": [
    "t"
   ]
  },
  {
   "cell_type": "code",
   "execution_count": 12,
   "id": "c7413cc6-a5d5-4050-aaeb-b0b0f29733f7",
   "metadata": {},
   "outputs": [
    {
     "data": {
      "text/plain": [
       "(1, 2)"
      ]
     },
     "execution_count": 12,
     "metadata": {},
     "output_type": "execute_result"
    }
   ],
   "source": [
    "t[0]"
   ]
  },
  {
   "cell_type": "code",
   "execution_count": 13,
   "id": "83509b0c-fdc9-4eb7-89cb-36296499246f",
   "metadata": {},
   "outputs": [
    {
     "data": {
      "text/plain": [
       "3"
      ]
     },
     "execution_count": 13,
     "metadata": {},
     "output_type": "execute_result"
    }
   ],
   "source": [
    "t[1]"
   ]
  },
  {
   "cell_type": "code",
   "execution_count": 14,
   "id": "103ba62a-fa1f-4244-92cf-d6f4f0090891",
   "metadata": {},
   "outputs": [],
   "source": [
    "t = ([1,2,3],2,(1,2))"
   ]
  },
  {
   "cell_type": "code",
   "execution_count": 15,
   "id": "cd61b385-288a-4572-a846-4525c69d5f10",
   "metadata": {},
   "outputs": [
    {
     "data": {
      "text/plain": [
       "([1, 2, 3], 2, (1, 2))"
      ]
     },
     "execution_count": 15,
     "metadata": {},
     "output_type": "execute_result"
    }
   ],
   "source": [
    "t"
   ]
  },
  {
   "cell_type": "code",
   "execution_count": 16,
   "id": "bb456b99-2adc-46a1-8130-51a782757348",
   "metadata": {},
   "outputs": [],
   "source": [
    "t[0][0] = 23"
   ]
  },
  {
   "cell_type": "code",
   "execution_count": 17,
   "id": "61449031-0e25-4040-89fb-af2a757af9f6",
   "metadata": {},
   "outputs": [
    {
     "data": {
      "text/plain": [
       "([23, 2, 3], 2, (1, 2))"
      ]
     },
     "execution_count": 17,
     "metadata": {},
     "output_type": "execute_result"
    }
   ],
   "source": [
    "t"
   ]
  },
  {
   "cell_type": "code",
   "execution_count": 18,
   "id": "4aa84f45-a075-4c9e-9c7d-8e0141a6c726",
   "metadata": {},
   "outputs": [],
   "source": [
    "l = [[1,2,3], [10,20]]"
   ]
  },
  {
   "cell_type": "code",
   "execution_count": 19,
   "id": "c2d74568-f7f6-4416-a95a-92021a972871",
   "metadata": {},
   "outputs": [
    {
     "data": {
      "text/plain": [
       "[[1, 2, 3], [10, 20]]"
      ]
     },
     "execution_count": 19,
     "metadata": {},
     "output_type": "execute_result"
    }
   ],
   "source": [
    "l"
   ]
  },
  {
   "cell_type": "markdown",
   "id": "bb585399-f578-42f0-9e42-a72139b08efb",
   "metadata": {},
   "source": [
    "Elemanların Değerlerini Değiştirmek"
   ]
  },
  {
   "cell_type": "markdown",
   "id": "ed837c38-75e3-41b7-99ed-9652d3450071",
   "metadata": {},
   "source": [
    "Diyelim ki x ve y'nin değerlerini değiştirmek istiyorum."
   ]
  },
  {
   "cell_type": "code",
   "execution_count": 20,
   "id": "a8fb8221-093a-4bde-97fe-aeda1332bd2b",
   "metadata": {},
   "outputs": [],
   "source": [
    "x = 2\n",
    "y = 3"
   ]
  },
  {
   "cell_type": "code",
   "execution_count": 21,
   "id": "457ceb24-6d63-4e18-aff7-111cf2dce53a",
   "metadata": {},
   "outputs": [],
   "source": [
    "temp = x\n",
    "x = y\n",
    "y = temp"
   ]
  },
  {
   "cell_type": "code",
   "execution_count": 22,
   "id": "61eeeeb6-e4fa-42f3-8588-a4dde2c79193",
   "metadata": {},
   "outputs": [
    {
     "data": {
      "text/plain": [
       "3"
      ]
     },
     "execution_count": 22,
     "metadata": {},
     "output_type": "execute_result"
    }
   ],
   "source": [
    "x"
   ]
  },
  {
   "cell_type": "code",
   "execution_count": 23,
   "id": "ad0fb857-307c-4dc2-a972-8fd085eb3332",
   "metadata": {},
   "outputs": [
    {
     "data": {
      "text/plain": [
       "2"
      ]
     },
     "execution_count": 23,
     "metadata": {},
     "output_type": "execute_result"
    }
   ],
   "source": [
    "y"
   ]
  },
  {
   "cell_type": "markdown",
   "id": "188ee330-72b8-4455-939a-232f9fb604f5",
   "metadata": {},
   "source": [
    "Ama bunu tuple'lar ile 1 satırda yapabiliriz."
   ]
  },
  {
   "cell_type": "code",
   "execution_count": 26,
   "id": "50287511-0777-4329-8b70-fdd5eea9f6c6",
   "metadata": {},
   "outputs": [],
   "source": [
    "x = 2\n",
    "y = 3\n",
    "(x, y) = (y, x)"
   ]
  },
  {
   "cell_type": "code",
   "execution_count": 27,
   "id": "7820e6c9-1eb4-4694-89de-cb01520f26b4",
   "metadata": {},
   "outputs": [
    {
     "data": {
      "text/plain": [
       "3"
      ]
     },
     "execution_count": 27,
     "metadata": {},
     "output_type": "execute_result"
    }
   ],
   "source": [
    "x"
   ]
  },
  {
   "cell_type": "code",
   "execution_count": 28,
   "id": "5c613f95-5e1c-4f05-ab00-f983556fa543",
   "metadata": {},
   "outputs": [
    {
     "data": {
      "text/plain": [
       "2"
      ]
     },
     "execution_count": 28,
     "metadata": {},
     "output_type": "execute_result"
    }
   ],
   "source": [
    "y"
   ]
  },
  {
   "cell_type": "markdown",
   "id": "0c2dab13-7db9-44cd-a688-4b7561948f53",
   "metadata": {},
   "source": [
    "parantez koymamıza da gerek yok. 1,2,3,\"a\"... gibi parantezsiz belirtsek de Python onu tuple olarak görüyor."
   ]
  },
  {
   "cell_type": "code",
   "execution_count": 29,
   "id": "e6bb2998-7240-4d38-b627-1d9ca70d9c7b",
   "metadata": {},
   "outputs": [
    {
     "data": {
      "text/plain": [
       "(1, 2, 3, 4)"
      ]
     },
     "execution_count": 29,
     "metadata": {},
     "output_type": "execute_result"
    }
   ],
   "source": [
    "1,2,3,4"
   ]
  },
  {
   "cell_type": "code",
   "execution_count": 30,
   "id": "6d8b681c-84ab-4851-9703-71cf62a2987e",
   "metadata": {},
   "outputs": [
    {
     "data": {
      "text/plain": [
       "(1, 2, 3, 4)"
      ]
     },
     "execution_count": 30,
     "metadata": {},
     "output_type": "execute_result"
    }
   ],
   "source": [
    "a = 1,2,3,4\n",
    "a"
   ]
  },
  {
   "cell_type": "code",
   "execution_count": 31,
   "id": "81a6a522-187e-45f9-ba15-bede1b462935",
   "metadata": {},
   "outputs": [
    {
     "data": {
      "text/plain": [
       "tuple"
      ]
     },
     "execution_count": 31,
     "metadata": {},
     "output_type": "execute_result"
    }
   ],
   "source": [
    "type(a)"
   ]
  },
  {
   "cell_type": "code",
   "execution_count": 32,
   "id": "e9b92eec-3b39-4829-97b1-4942164ffc0c",
   "metadata": {},
   "outputs": [],
   "source": [
    "x = 2\n",
    "y = 3"
   ]
  },
  {
   "cell_type": "code",
   "execution_count": 33,
   "id": "9223fdef-4c5e-42b9-a3fd-63ebd0d661c2",
   "metadata": {},
   "outputs": [
    {
     "data": {
      "text/plain": [
       "3"
      ]
     },
     "execution_count": 33,
     "metadata": {},
     "output_type": "execute_result"
    }
   ],
   "source": [
    "x, y = y, x\n",
    "x"
   ]
  },
  {
   "cell_type": "code",
   "execution_count": 34,
   "id": "15bde0f9-b2bd-42e3-ba4f-0711debd19d5",
   "metadata": {},
   "outputs": [
    {
     "data": {
      "text/plain": [
       "2"
      ]
     },
     "execution_count": 34,
     "metadata": {},
     "output_type": "execute_result"
    }
   ],
   "source": [
    "y"
   ]
  },
  {
   "cell_type": "code",
   "execution_count": 35,
   "id": "5b873be1-21b1-487e-96f1-3ef2e05f9f4e",
   "metadata": {},
   "outputs": [],
   "source": [
    "x = 2\n",
    "y = 3"
   ]
  },
  {
   "cell_type": "code",
   "execution_count": 36,
   "id": "fd1c4e00-1102-4ba9-a375-9653f0f2dec1",
   "metadata": {},
   "outputs": [],
   "source": [
    "[x, y] = [y, x]"
   ]
  },
  {
   "cell_type": "code",
   "execution_count": 37,
   "id": "bee01f46-40ee-4fc6-9732-ab5a1b0803b2",
   "metadata": {},
   "outputs": [
    {
     "data": {
      "text/plain": [
       "3"
      ]
     },
     "execution_count": 37,
     "metadata": {},
     "output_type": "execute_result"
    }
   ],
   "source": [
    "x"
   ]
  },
  {
   "cell_type": "code",
   "execution_count": 38,
   "id": "e7729b46-173a-4c93-a26d-9633543a5807",
   "metadata": {},
   "outputs": [
    {
     "data": {
      "text/plain": [
       "2"
      ]
     },
     "execution_count": 38,
     "metadata": {},
     "output_type": "execute_result"
    }
   ],
   "source": [
    "y"
   ]
  },
  {
   "cell_type": "code",
   "execution_count": 39,
   "id": "ed1eccc2-6969-41c4-90fe-8b8ff1417f64",
   "metadata": {},
   "outputs": [
    {
     "data": {
      "text/plain": [
       "(5, 5)"
      ]
     },
     "execution_count": 39,
     "metadata": {},
     "output_type": "execute_result"
    }
   ],
   "source": [
    "x=5\n",
    "\n",
    "y=7\n",
    "\n",
    "temp=x\n",
    "\n",
    "y=temp\n",
    "\n",
    "(x,y)"
   ]
  },
  {
   "cell_type": "code",
   "execution_count": null,
   "id": "99200032-ee05-4da6-accf-6ce06ece0128",
   "metadata": {},
   "outputs": [],
   "source": []
  }
 ],
 "metadata": {
  "kernelspec": {
   "display_name": "Python 3 (ipykernel)",
   "language": "python",
   "name": "python3"
  },
  "language_info": {
   "codemirror_mode": {
    "name": "ipython",
    "version": 3
   },
   "file_extension": ".py",
   "mimetype": "text/x-python",
   "name": "python",
   "nbconvert_exporter": "python",
   "pygments_lexer": "ipython3",
   "version": "3.11.7"
  }
 },
 "nbformat": 4,
 "nbformat_minor": 5
}
